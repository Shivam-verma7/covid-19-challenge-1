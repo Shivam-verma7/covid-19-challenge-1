{
 "cells": [
  {
   "cell_type": "markdown",
   "metadata": {},
   "source": [
    "***This notebook is intended for the development of a future feature on the website related to a centralized research repository with search.***"
   ]
  },
  {
   "cell_type": "markdown",
   "metadata": {},
   "source": [
    "## Import Packages"
   ]
  },
  {
   "cell_type": "code",
   "execution_count": 1,
   "metadata": {},
   "outputs": [],
   "source": [
    "import pandas as pd\n",
    "from os import listdir\n",
    "from os.path import isfile, join\n",
    "import json\n",
    "from pymongo import MongoClient\n",
    "from tqdm import tqdm_notebook as tqdm\n",
    "from nltk.tokenize import word_tokenize\n",
    "import gensim\n",
    "from pprint import pprint\n",
    "from sklearn.decomposition import PCA\n",
    "import matplotlib.pyplot as plt\n",
    "import spacy\n",
    "from nltk.corpus import stopwords\n",
    "from sklearn.feature_extraction.text import CountVectorizer\n",
    "from sklearn.decomposition import LatentDirichletAllocation"
   ]
  },
  {
   "cell_type": "markdown",
   "metadata": {},
   "source": [
    "## Connect to MongoDB"
   ]
  },
  {
   "cell_type": "code",
   "execution_count": 30,
   "metadata": {},
   "outputs": [],
   "source": [
    "client = MongoClient('localhost',27017)\n",
    "db = client['covid']\n",
    "studies = db.studies \n",
    "doc_path = '/Users/<user>/Library/Mobile Documents/com~apple~CloudDocs/CORD-19-research-challenge'\n",
    "metadata = pd.read_csv(doc_path + '/metadata.csv')"
   ]
  },
  {
   "cell_type": "code",
   "execution_count": 113,
   "metadata": {},
   "outputs": [
    {
     "data": {
      "text/html": [
       "<div>\n",
       "<style scoped>\n",
       "    .dataframe tbody tr th:only-of-type {\n",
       "        vertical-align: middle;\n",
       "    }\n",
       "\n",
       "    .dataframe tbody tr th {\n",
       "        vertical-align: top;\n",
       "    }\n",
       "\n",
       "    .dataframe thead th {\n",
       "        text-align: right;\n",
       "    }\n",
       "</style>\n",
       "<table border=\"1\" class=\"dataframe\">\n",
       "  <thead>\n",
       "    <tr style=\"text-align: right;\">\n",
       "      <th></th>\n",
       "      <th>cord_uid</th>\n",
       "      <th>sha</th>\n",
       "      <th>source_x</th>\n",
       "      <th>title</th>\n",
       "      <th>doi</th>\n",
       "      <th>pmcid</th>\n",
       "      <th>pubmed_id</th>\n",
       "      <th>license</th>\n",
       "      <th>abstract</th>\n",
       "      <th>publish_time</th>\n",
       "      <th>authors</th>\n",
       "      <th>journal</th>\n",
       "      <th>Microsoft Academic Paper ID</th>\n",
       "      <th>WHO #Covidence</th>\n",
       "      <th>has_pdf_parse</th>\n",
       "      <th>has_pmc_xml_parse</th>\n",
       "      <th>full_text_file</th>\n",
       "      <th>url</th>\n",
       "    </tr>\n",
       "  </thead>\n",
       "  <tbody>\n",
       "    <tr>\n",
       "      <th>0</th>\n",
       "      <td>xqhn0vbp</td>\n",
       "      <td>1e1286db212100993d03cc22374b624f7caee956</td>\n",
       "      <td>PMC</td>\n",
       "      <td>Airborne rhinovirus detection and effect of ul...</td>\n",
       "      <td>10.1186/1471-2458-3-5</td>\n",
       "      <td>PMC140314</td>\n",
       "      <td>12525263.0</td>\n",
       "      <td>no-cc</td>\n",
       "      <td>BACKGROUND: Rhinovirus, the most common cause ...</td>\n",
       "      <td>2003-01-13</td>\n",
       "      <td>Myatt, Theodore A; Johnston, Sebastian L; Rudn...</td>\n",
       "      <td>BMC Public Health</td>\n",
       "      <td>NaN</td>\n",
       "      <td>NaN</td>\n",
       "      <td>True</td>\n",
       "      <td>True</td>\n",
       "      <td>custom_license</td>\n",
       "      <td>https://www.ncbi.nlm.nih.gov/pmc/articles/PMC1...</td>\n",
       "    </tr>\n",
       "    <tr>\n",
       "      <th>1</th>\n",
       "      <td>gi6uaa83</td>\n",
       "      <td>8ae137c8da1607b3a8e4c946c07ca8bda67f88ac</td>\n",
       "      <td>PMC</td>\n",
       "      <td>Discovering human history from stomach bacteria</td>\n",
       "      <td>10.1186/gb-2003-4-5-213</td>\n",
       "      <td>PMC156578</td>\n",
       "      <td>12734001.0</td>\n",
       "      <td>no-cc</td>\n",
       "      <td>Recent analyses of human pathogens have reveal...</td>\n",
       "      <td>2003-04-28</td>\n",
       "      <td>Disotell, Todd R</td>\n",
       "      <td>Genome Biol</td>\n",
       "      <td>NaN</td>\n",
       "      <td>NaN</td>\n",
       "      <td>True</td>\n",
       "      <td>True</td>\n",
       "      <td>custom_license</td>\n",
       "      <td>https://www.ncbi.nlm.nih.gov/pmc/articles/PMC1...</td>\n",
       "    </tr>\n",
       "    <tr>\n",
       "      <th>2</th>\n",
       "      <td>le0ogx1s</td>\n",
       "      <td>NaN</td>\n",
       "      <td>PMC</td>\n",
       "      <td>A new recruit for the army of the men of death</td>\n",
       "      <td>10.1186/gb-2003-4-7-113</td>\n",
       "      <td>PMC193621</td>\n",
       "      <td>12844350.0</td>\n",
       "      <td>no-cc</td>\n",
       "      <td>The army of the men of death, in John Bunyan's...</td>\n",
       "      <td>2003-06-27</td>\n",
       "      <td>Petsko, Gregory A</td>\n",
       "      <td>Genome Biol</td>\n",
       "      <td>NaN</td>\n",
       "      <td>NaN</td>\n",
       "      <td>False</td>\n",
       "      <td>True</td>\n",
       "      <td>custom_license</td>\n",
       "      <td>https://www.ncbi.nlm.nih.gov/pmc/articles/PMC1...</td>\n",
       "    </tr>\n",
       "    <tr>\n",
       "      <th>3</th>\n",
       "      <td>fy4w7xz8</td>\n",
       "      <td>0104f6ceccf92ae8567a0102f89cbb976969a774</td>\n",
       "      <td>PMC</td>\n",
       "      <td>Association of HLA class I with severe acute r...</td>\n",
       "      <td>10.1186/1471-2350-4-9</td>\n",
       "      <td>PMC212558</td>\n",
       "      <td>12969506.0</td>\n",
       "      <td>no-cc</td>\n",
       "      <td>BACKGROUND: The human leukocyte antigen (HLA) ...</td>\n",
       "      <td>2003-09-12</td>\n",
       "      <td>Lin, Marie; Tseng, Hsiang-Kuang; Trejaut, Jean...</td>\n",
       "      <td>BMC Med Genet</td>\n",
       "      <td>NaN</td>\n",
       "      <td>NaN</td>\n",
       "      <td>True</td>\n",
       "      <td>True</td>\n",
       "      <td>custom_license</td>\n",
       "      <td>https://www.ncbi.nlm.nih.gov/pmc/articles/PMC2...</td>\n",
       "    </tr>\n",
       "    <tr>\n",
       "      <th>4</th>\n",
       "      <td>0qaoam29</td>\n",
       "      <td>5b68a553a7cbbea13472721cd1ad617d42b40c26</td>\n",
       "      <td>PMC</td>\n",
       "      <td>A double epidemic model for the SARS propagation</td>\n",
       "      <td>10.1186/1471-2334-3-19</td>\n",
       "      <td>PMC222908</td>\n",
       "      <td>12964944.0</td>\n",
       "      <td>no-cc</td>\n",
       "      <td>BACKGROUND: An epidemic of a Severe Acute Resp...</td>\n",
       "      <td>2003-09-10</td>\n",
       "      <td>Ng, Tuen Wai; Turinici, Gabriel; Danchin, Antoine</td>\n",
       "      <td>BMC Infect Dis</td>\n",
       "      <td>NaN</td>\n",
       "      <td>NaN</td>\n",
       "      <td>True</td>\n",
       "      <td>True</td>\n",
       "      <td>custom_license</td>\n",
       "      <td>https://www.ncbi.nlm.nih.gov/pmc/articles/PMC2...</td>\n",
       "    </tr>\n",
       "  </tbody>\n",
       "</table>\n",
       "</div>"
      ],
      "text/plain": [
       "   cord_uid                                       sha source_x  \\\n",
       "0  xqhn0vbp  1e1286db212100993d03cc22374b624f7caee956      PMC   \n",
       "1  gi6uaa83  8ae137c8da1607b3a8e4c946c07ca8bda67f88ac      PMC   \n",
       "2  le0ogx1s                                       NaN      PMC   \n",
       "3  fy4w7xz8  0104f6ceccf92ae8567a0102f89cbb976969a774      PMC   \n",
       "4  0qaoam29  5b68a553a7cbbea13472721cd1ad617d42b40c26      PMC   \n",
       "\n",
       "                                               title                      doi  \\\n",
       "0  Airborne rhinovirus detection and effect of ul...    10.1186/1471-2458-3-5   \n",
       "1    Discovering human history from stomach bacteria  10.1186/gb-2003-4-5-213   \n",
       "2     A new recruit for the army of the men of death  10.1186/gb-2003-4-7-113   \n",
       "3  Association of HLA class I with severe acute r...    10.1186/1471-2350-4-9   \n",
       "4   A double epidemic model for the SARS propagation   10.1186/1471-2334-3-19   \n",
       "\n",
       "       pmcid   pubmed_id license  \\\n",
       "0  PMC140314  12525263.0   no-cc   \n",
       "1  PMC156578  12734001.0   no-cc   \n",
       "2  PMC193621  12844350.0   no-cc   \n",
       "3  PMC212558  12969506.0   no-cc   \n",
       "4  PMC222908  12964944.0   no-cc   \n",
       "\n",
       "                                            abstract publish_time  \\\n",
       "0  BACKGROUND: Rhinovirus, the most common cause ...   2003-01-13   \n",
       "1  Recent analyses of human pathogens have reveal...   2003-04-28   \n",
       "2  The army of the men of death, in John Bunyan's...   2003-06-27   \n",
       "3  BACKGROUND: The human leukocyte antigen (HLA) ...   2003-09-12   \n",
       "4  BACKGROUND: An epidemic of a Severe Acute Resp...   2003-09-10   \n",
       "\n",
       "                                             authors            journal  \\\n",
       "0  Myatt, Theodore A; Johnston, Sebastian L; Rudn...  BMC Public Health   \n",
       "1                                   Disotell, Todd R        Genome Biol   \n",
       "2                                  Petsko, Gregory A        Genome Biol   \n",
       "3  Lin, Marie; Tseng, Hsiang-Kuang; Trejaut, Jean...      BMC Med Genet   \n",
       "4  Ng, Tuen Wai; Turinici, Gabriel; Danchin, Antoine     BMC Infect Dis   \n",
       "\n",
       "   Microsoft Academic Paper ID WHO #Covidence  has_pdf_parse  \\\n",
       "0                          NaN            NaN           True   \n",
       "1                          NaN            NaN           True   \n",
       "2                          NaN            NaN          False   \n",
       "3                          NaN            NaN           True   \n",
       "4                          NaN            NaN           True   \n",
       "\n",
       "   has_pmc_xml_parse  full_text_file  \\\n",
       "0               True  custom_license   \n",
       "1               True  custom_license   \n",
       "2               True  custom_license   \n",
       "3               True  custom_license   \n",
       "4               True  custom_license   \n",
       "\n",
       "                                                 url  \n",
       "0  https://www.ncbi.nlm.nih.gov/pmc/articles/PMC1...  \n",
       "1  https://www.ncbi.nlm.nih.gov/pmc/articles/PMC1...  \n",
       "2  https://www.ncbi.nlm.nih.gov/pmc/articles/PMC1...  \n",
       "3  https://www.ncbi.nlm.nih.gov/pmc/articles/PMC2...  \n",
       "4  https://www.ncbi.nlm.nih.gov/pmc/articles/PMC2...  "
      ]
     },
     "execution_count": 113,
     "metadata": {},
     "output_type": "execute_result"
    }
   ],
   "source": [
    "# display metadata\n",
    "metadata.head()"
   ]
  },
  {
   "cell_type": "code",
   "execution_count": 115,
   "metadata": {},
   "outputs": [
    {
     "data": {
      "text/html": [
       "<div>\n",
       "<style scoped>\n",
       "    .dataframe tbody tr th:only-of-type {\n",
       "        vertical-align: middle;\n",
       "    }\n",
       "\n",
       "    .dataframe tbody tr th {\n",
       "        vertical-align: top;\n",
       "    }\n",
       "\n",
       "    .dataframe thead th {\n",
       "        text-align: right;\n",
       "    }\n",
       "</style>\n",
       "<table border=\"1\" class=\"dataframe\">\n",
       "  <thead>\n",
       "    <tr style=\"text-align: right;\">\n",
       "      <th></th>\n",
       "      <th>cord_uid</th>\n",
       "      <th>sha</th>\n",
       "      <th>source_x</th>\n",
       "      <th>title</th>\n",
       "      <th>doi</th>\n",
       "      <th>pmcid</th>\n",
       "      <th>pubmed_id</th>\n",
       "      <th>license</th>\n",
       "      <th>abstract</th>\n",
       "      <th>publish_time</th>\n",
       "      <th>authors</th>\n",
       "      <th>journal</th>\n",
       "      <th>Microsoft Academic Paper ID</th>\n",
       "      <th>WHO #Covidence</th>\n",
       "      <th>has_pdf_parse</th>\n",
       "      <th>has_pmc_xml_parse</th>\n",
       "      <th>full_text_file</th>\n",
       "      <th>url</th>\n",
       "    </tr>\n",
       "  </thead>\n",
       "  <tbody>\n",
       "    <tr>\n",
       "      <th>40896</th>\n",
       "      <td>nl37p9vp</td>\n",
       "      <td>ff766484e50701bbb36ed45d3a4464d817a471ff</td>\n",
       "      <td>Elsevier</td>\n",
       "      <td>Middle East Respiratory Syndrome Interpreted: ...</td>\n",
       "      <td>10.1016/j.amjmed.2016.04.030</td>\n",
       "      <td>PMC7124269</td>\n",
       "      <td>27215907.0</td>\n",
       "      <td>els-covid</td>\n",
       "      <td>NaN</td>\n",
       "      <td>2016-09-30</td>\n",
       "      <td>Lau, Susanna K.P.; Chan, Jasper F.W.; Hung, Iv...</td>\n",
       "      <td>The American Journal of Medicine</td>\n",
       "      <td>NaN</td>\n",
       "      <td>NaN</td>\n",
       "      <td>True</td>\n",
       "      <td>False</td>\n",
       "      <td>custom_license</td>\n",
       "      <td>https://doi.org/10.1016/j.amjmed.2016.04.030</td>\n",
       "    </tr>\n",
       "  </tbody>\n",
       "</table>\n",
       "</div>"
      ],
      "text/plain": [
       "       cord_uid                                       sha  source_x  \\\n",
       "40896  nl37p9vp  ff766484e50701bbb36ed45d3a4464d817a471ff  Elsevier   \n",
       "\n",
       "                                                   title  \\\n",
       "40896  Middle East Respiratory Syndrome Interpreted: ...   \n",
       "\n",
       "                                doi       pmcid   pubmed_id    license  \\\n",
       "40896  10.1016/j.amjmed.2016.04.030  PMC7124269  27215907.0  els-covid   \n",
       "\n",
       "      abstract publish_time  \\\n",
       "40896      NaN   2016-09-30   \n",
       "\n",
       "                                                 authors  \\\n",
       "40896  Lau, Susanna K.P.; Chan, Jasper F.W.; Hung, Iv...   \n",
       "\n",
       "                                journal  Microsoft Academic Paper ID  \\\n",
       "40896  The American Journal of Medicine                          NaN   \n",
       "\n",
       "      WHO #Covidence  has_pdf_parse  has_pmc_xml_parse  full_text_file  \\\n",
       "40896            NaN           True              False  custom_license   \n",
       "\n",
       "                                                url  \n",
       "40896  https://doi.org/10.1016/j.amjmed.2016.04.030  "
      ]
     },
     "execution_count": 115,
     "metadata": {},
     "output_type": "execute_result"
    }
   ],
   "source": [
    "metadata.loc[metadata['sha'] == 'ff766484e50701bbb36ed45d3a4464d817a471ff']['abstract'].iloc[0]"
   ]
  },
  {
   "cell_type": "code",
   "execution_count": 70,
   "metadata": {},
   "outputs": [],
   "source": [
    "# define paths for different sources\n",
    "comm_pmc_json = doc_path + '/comm_use_subset/comm_use_subset/pmc_json/'\n",
    "comm_pdf_json = doc_path + '/comm_use_subset/comm_use_subset/pdf_json/'\n",
    "custom_pmc_json = doc_path + '/custom_license/custom_license/pmc_json/'\n",
    "custom_pdf_json = doc_path + '/custom_license/custom_license/pdf_json/'"
   ]
  },
  {
   "cell_type": "code",
   "execution_count": 71,
   "metadata": {},
   "outputs": [],
   "source": [
    "# list all json files available for each folder\n",
    "comm_pmc_json_files = [f for f in listdir(comm_pmc_json) if isfile(join(comm_pmc_json, f))]\n",
    "comm_pdf_json_files = [f for f in listdir(comm_pdf_json) if isfile(join(comm_pdf_json, f))]\n",
    "custom_pmc_json_files = [f for f in listdir(custom_pmc_json) if isfile(join(custom_pmc_json, f))]\n",
    "custom_pdf_json_files = [f for f in listdir(custom_pdf_json) if isfile(join(custom_pdf_json, f))]"
   ]
  },
  {
   "cell_type": "code",
   "execution_count": 8,
   "metadata": {},
   "outputs": [
    {
     "data": {
      "text/plain": [
       "9524"
      ]
     },
     "execution_count": 8,
     "metadata": {},
     "output_type": "execute_result"
    }
   ],
   "source": [
    "len(comm_pdf_json_files)"
   ]
  },
  {
   "cell_type": "code",
   "execution_count": 72,
   "metadata": {},
   "outputs": [
    {
     "data": {
      "text/plain": [
       "9148"
      ]
     },
     "execution_count": 72,
     "metadata": {},
     "output_type": "execute_result"
    }
   ],
   "source": [
    "len(comm_pmc_json_files)"
   ]
  },
  {
   "cell_type": "code",
   "execution_count": 10,
   "metadata": {},
   "outputs": [
    {
     "data": {
      "text/plain": [
       "26505"
      ]
     },
     "execution_count": 10,
     "metadata": {},
     "output_type": "execute_result"
    }
   ],
   "source": [
    "len(custom_pdf_json_files)"
   ]
  },
  {
   "cell_type": "code",
   "execution_count": 11,
   "metadata": {},
   "outputs": [
    {
     "data": {
      "text/plain": [
       "7797"
      ]
     },
     "execution_count": 11,
     "metadata": {},
     "output_type": "execute_result"
    }
   ],
   "source": [
    "len(custom_pmc_json_files)"
   ]
  },
  {
   "cell_type": "code",
   "execution_count": null,
   "metadata": {},
   "outputs": [],
   "source": [
    "def find_abstract(research_id):\n",
    "    ''' Helper function to aggregate abstract and metadata '''\n",
    "    if research_id is not None:\n",
    "        if 'PMC' in research_id:\n",
    "            try:\n",
    "                abstract = metadata.loc[metadata['pmcid'] == research_id]['abstract'].iloc[0]\n",
    "            except:\n",
    "                abstract = None\n",
    "        else:\n",
    "            try: \n",
    "                abstract = metadata.loc[metadata['sha'] == research_id]['abstract'].iloc[0]\n",
    "            except:\n",
    "                abstract = None\n",
    "    else:\n",
    "        abstract = None\n",
    "    return abstract"
   ]
  },
  {
   "cell_type": "code",
   "execution_count": 82,
   "metadata": {
    "scrolled": true
   },
   "outputs": [],
   "source": [
    "def load_files(files_list, files_path):\n",
    "    ''' Helpfer function to load mongodb files '''\n",
    "    for orig_file in tqdm(files_list):\n",
    "        with open((files_path + orig_file), 'r') as file:\n",
    "            try:\n",
    "                file = json.load(file)\n",
    "            except:\n",
    "                print('Warning! File not read:', orig_file)\n",
    "            res = {}\n",
    "            try:\n",
    "                res['paper_id'] = file['paper_id'] \n",
    "            except:\n",
    "                res['paper_id'] = None\n",
    "\n",
    "            try:\n",
    "                res['abstract'] = file['abstract'][0]['text']\n",
    "            except:\n",
    "                res['abstract'] = None\n",
    "\n",
    "            try: \n",
    "                res['title'] = file['metadata']['title']\n",
    "            except:\n",
    "                res['title'] = None\n",
    "\n",
    "            try:\n",
    "                res['authors'] = file['metadata']['authors']\n",
    "            except:\n",
    "                res['authors'] = None\n",
    "\n",
    "            try:\n",
    "                res['other_metadata'] = file['metadata']\n",
    "            except:\n",
    "                res['other_metadata'] = None\n",
    "\n",
    "            try:\n",
    "                res['other_abstract'] = file['abstract']\n",
    "            except:\n",
    "                res['other_abstract'] = None\n",
    "\n",
    "            full_text = ''\n",
    "            try:\n",
    "                for i in file['body_text']:\n",
    "                    full_text += i['text']\n",
    "\n",
    "            except:\n",
    "                full_text = None\n",
    "\n",
    "            try:\n",
    "                res['body'] = full_text\n",
    "            except:\n",
    "                res['body'] = None\n",
    "            try:\n",
    "                studies.insert_one(res, bypass_document_validation=True)\n",
    "            except:\n",
    "                print('Warning! File not inserted:', orig_file)"
   ]
  },
  {
   "cell_type": "code",
   "execution_count": 83,
   "metadata": {
    "scrolled": true
   },
   "outputs": [
    {
     "name": "stderr",
     "output_type": "stream",
     "text": [
      "/Library/Frameworks/Python.framework/Versions/3.7/lib/python3.7/site-packages/ipykernel_launcher.py:2: TqdmDeprecationWarning: This function will be removed in tqdm==5.0.0\n",
      "Please use `tqdm.notebook.tqdm` instead of `tqdm.tqdm_notebook`\n",
      "  \n"
     ]
    },
    {
     "data": {
      "application/vnd.jupyter.widget-view+json": {
       "model_id": "8a8e84b2718e4e41840804eade50717b",
       "version_major": 2,
       "version_minor": 0
      },
      "text/plain": [
       "HBox(children=(FloatProgress(value=0.0, max=26505.0), HTML(value='')))"
      ]
     },
     "metadata": {},
     "output_type": "display_data"
    },
    {
     "name": "stdout",
     "output_type": "stream",
     "text": [
      "Warning! File not read: ffc89f2bd7f513dae147b4bd0043164db16e8dc0.json\n",
      "Warning! File not read: ff966b5218e3c9433966d622a806710b820a60d6.json\n",
      "Warning! File not read: ff9398e9978220ab54cd85a98920d90b05c190d6.json\n",
      "Warning! File not read: ffb877d67fd30e14677580c292ca9caf64659987.json\n",
      "Warning! File not read: ff6c4e420ae293c8130a3a71a1ab9e466ccf0b40.json\n",
      "Warning! File not read: ff765aa3a876d263d37993712a503bc2a9f5ef0c.json\n",
      "Warning! File not read: ff740fd015f63477d7b236d0ffee2b7639b6dcb0.json\n",
      "Warning! File not read: ffc93dea5a5f4e6e65ad155e87aafa98aa8c54cf.json\n",
      "Warning! File not read: ff80b3d9f398a7e1b51c1c2dc6fdbc97969d24f0.json\n",
      "Warning! File not read: ffd3606ed51d3129db5863b2246ec587e07323c8.json\n",
      "Warning! File not read: ffb77680c0f79491003331d1e3d9dde3c4fcdfd9.json\n",
      "Warning! File not read: ffab348b231771ee27738a4426a87a6a04f3994f.json\n",
      "Warning! File not read: ff7d49ac4008f60ef9c5a437e0d504dcefd1246f.json\n",
      "Warning! File not read: ffd73c393641618860486e897197311f630bf67f.json\n",
      "Warning! File not read: ffbd51670f3a5dcf4a02696788726a3531da449b.json\n",
      "Warning! File not read: ffad7416effd57e66c6f2143ad660768af44cee9.json\n",
      "Warning! File not read: fff6fe12beb51ee2641ddb5381378ff3560d8103.json\n",
      "Warning! File not read: ffb9979514d2361956c02603d6f45eefa9a34ab3.json\n",
      "Warning! File not read: ffeffafec5c5db2f5bd2472bac2f7c5cabe13557.json\n",
      "Warning! File not read: ff688cd8f01878918c6f6e3126f4d32a64805b77.json\n",
      "Warning! File not read: ffed51538e59e779838ead9f15f10d906791b4bd.json\n",
      "Warning! File not read: ffd1702bc07afdc78a958c9932f6e3fbe4fb6c1f.json\n",
      "Warning! File not read: ff8610a4d772b4ec5497589889f8c8bf8179dd7b.json\n",
      "Warning! File not read: ff766484e50701bbb36ed45d3a4464d817a471ff.json\n",
      "Warning! File not read: ff689b993e5ae451645c77c874627c043bece39b.json\n",
      "Warning! File not read: fff1194fa9a0e18d13a565a7a2355a584cb860b1.json\n",
      "Warning! File not read: ff8659733ca5f2a3f3c08b1a56f4ce64881adb97.json\n",
      "Warning! File not read: ff78ee43150a59344d0a0cd68298c02032b43991.json\n",
      "Warning! File not read: ffd0af549110e997ac78508b499668e31e3b5b90.json\n",
      "Warning! File not read: ffece58ead08c1a247ac3352aa4d73c5b10f205f.json\n",
      "Warning! File not read: fff69e4894df7b4134bb2ddc830764459ac3edbe.json\n",
      "Warning! File not read: fff600839441a60bb883d5f4328aa3227e127d1d.json\n",
      "Warning! File not read: ff6fb209f096f1d83b060ac8ccff5f9475d69d71.json\n",
      "Warning! File not read: fffdca958d2869303da6e8e5e4b181e5de8f3854.json\n",
      "Warning! File not read: ffae196fecc4da7f1897e22f8ce0dc0e03c8bcec.json\n",
      "Warning! File not read: fff3bfb7647cd0806ce98340baceec1be3ea5245.json\n",
      "Warning! File not read: ffb381668d93248759ca3855425e05722cb9f562.json\n",
      "Warning! File not read: ffdf3927a517dbdb292b325916277a0342489b53.json\n",
      "Warning! File not read: ffdd6ba963bcbed1b9e7a293b06529bb4da989b6.json\n",
      "Warning! File not read: ff6d9926b159c7997f3b71878a220e89e06fb7e2.json\n",
      "Warning! File not read: ffe133ed880d6c77ae340c5374817232e21f8315.json\n",
      "Warning! File not read: ff9a9790fc15e1f855854b5440436b96f31e2183.json\n",
      "Warning! File not read: ffcf01af4454c1fdbfa6d5f2bdfac83cf9a70fa9.json\n",
      "Warning! File not read: ff95dcd75515b1bd9dbb66bc58f495c42159676e.json\n",
      "Warning! File not read: ffa96106b3248391e0a2e213ff9c317b75133e2b.json\n",
      "Warning! File not read: ff72d2bcb1cd8d45ab59ddf8ca4e56d029024628.json\n",
      "Warning! File not read: fff60988428b82658458d381a6c27583209a686e.json\n",
      "Warning! File not read: ffa499eec937130124dd2260aa81c46904d59910.json\n",
      "Warning! File not read: ff6e7c70571d00234a94ebb6964d5bff82b053e4.json\n",
      "Warning! File not read: ff8b57e1d85ad83a71c0a4b74b9802e45911b0b1.json\n",
      "Warning! File not read: ffbdb12b3da27e9f59a07f385d22a98453bd3a7a.json\n",
      "Warning! File not read: ff99cb8f85c4cace8e4c60489c8221ba0303728c.json\n",
      "Warning! File not read: ffde9cabfcf179f96cea996cb19e2a807615c479.json\n",
      "Warning! File not read: ffc30702160cc3dfd751588bf0dc6a6dabc00161.json\n",
      "Warning! File not read: ff849fc6eb55db14fe29a58c4b982f938eeb2e32.json\n",
      "Warning! File not read: fff6febdd287d474d7950b14faa899c4095557b3.json\n",
      "Warning! File not read: ffd3a93b927e221ded4cf76536ad31bef2c74b89.json\n",
      "\n"
     ]
    }
   ],
   "source": [
    "load_files(custom_pdf_json_files, custom_pdf_json)"
   ]
  },
  {
   "cell_type": "code",
   "execution_count": 84,
   "metadata": {
    "scrolled": true
   },
   "outputs": [
    {
     "name": "stderr",
     "output_type": "stream",
     "text": [
      "/Library/Frameworks/Python.framework/Versions/3.7/lib/python3.7/site-packages/ipykernel_launcher.py:2: TqdmDeprecationWarning: This function will be removed in tqdm==5.0.0\n",
      "Please use `tqdm.notebook.tqdm` instead of `tqdm.tqdm_notebook`\n",
      "  \n"
     ]
    },
    {
     "data": {
      "application/vnd.jupyter.widget-view+json": {
       "model_id": "c7d4635ba27244739ca5b02551e6eaa0",
       "version_major": 2,
       "version_minor": 0
      },
      "text/plain": [
       "HBox(children=(FloatProgress(value=0.0, max=7797.0), HTML(value='')))"
      ]
     },
     "metadata": {},
     "output_type": "display_data"
    },
    {
     "name": "stdout",
     "output_type": "stream",
     "text": [
      "Warning! File not read: PMC1383626.xml.json\n",
      "Warning! File not read: PMC1850917.xml.json\n",
      "Warning! File not read: PMC1635791.xml.json\n",
      "Warning! File not read: PMC1160239.xml.json\n",
      "Warning! File not read: PMC1518840.xml.json\n",
      "Warning! File not read: PMC1182165.xml.json\n",
      "Warning! File not read: PMC2259160.xml.json\n",
      "Warning! File not read: PMC2206501.xml.json\n",
      "Warning! File not read: PMC1592674.xml.json\n",
      "Warning! File not read: PMC1566363.xml.json\n",
      "Warning! File not read: PMC1769406.xml.json\n",
      "Warning! File not read: PMC2435248.xml.json\n",
      "Warning! File not read: PMC1474450.xml.json\n",
      "Warning! File not read: PMC1278949.xml.json\n",
      "Warning! File not read: PMC1074749.xml.json\n",
      "Warning! File not read: PMC2589215.xml.json\n",
      "Warning! File not read: PMC1821001.xml.json\n",
      "Warning! File not read: PMC2516372.xml.json\n",
      "Warning! File not read: PMC156578.xml.json\n",
      "Warning! File not read: PMC1519403.xml.json\n",
      "Warning! File not read: PMC1602263.xml.json\n",
      "Warning! File not read: PMC2443186.xml.json\n",
      "Warning! File not read: PMC1820993.xml.json\n",
      "Warning! File not read: PMC2202333.xml.json\n",
      "Warning! File not read: PMC2267503.xml.json\n",
      "Warning! File not read: PMC1559924.xml.json\n",
      "Warning! File not read: PMC1831560.xml.json\n",
      "Warning! File not read: PMC1241811.xml.json\n",
      "Warning! File not read: PMC2570824.xml.json\n",
      "Warning! File not read: PMC1065257.xml.json\n",
      "Warning! File not read: PMC1952212.xml.json\n",
      "Warning! File not read: PMC1269436.xml.json\n",
      "Warning! File not read: PMC1568352.xml.json\n",
      "Warning! File not read: PMC2564797.xml.json\n",
      "Warning! File not read: PMC1876871.xml.json\n",
      "Warning! File not read: PMC2595836.xml.json\n",
      "Warning! File not read: PMC2441536.xml.json\n",
      "Warning! File not read: PMC1532946.xml.json\n",
      "Warning! File not read: PMC1847501.xml.json\n",
      "Warning! File not read: PMC2584968.xml.json\n",
      "Warning! File not read: PMC1851930.xml.json\n",
      "Warning! File not read: PMC2206465.xml.json\n",
      "Warning! File not read: PMC2535907.xml.json\n",
      "Warning! File not read: PMC2504633.xml.json\n",
      "Warning! File not read: PMC1326252.xml.json\n",
      "Warning! File not read: PMC2259158.xml.json\n",
      "Warning! File not read: PMC1538817.xml.json\n",
      "Warning! File not read: PMC1072806.xml.json\n",
      "Warning! File not read: PMC1781541.xml.json\n",
      "Warning! File not read: PMC2435592.xml.json\n",
      "Warning! File not read: PMC1160249.xml.json\n",
      "Warning! File not read: PMC1271393.xml.json\n",
      "Warning! File not read: PMC2589218.xml.json\n",
      "Warning! File not read: PMC1859983.xml.json\n",
      "Warning! File not read: PMC1876255.xml.json\n",
      "Warning! File not read: PMC2259152.xml.json\n",
      "Warning! File not read: PMC2519141.xml.json\n",
      "Warning! File not read: PMC1475929.xml.json\n",
      "Warning! File not read: PMC1241627.xml.json\n",
      "Warning! File not read: PMC2570843.xml.json\n",
      "Warning! File not read: PMC222908.xml.json\n",
      "Warning! File not read: PMC2575555.xml.json\n",
      "Warning! File not read: PMC2570903.xml.json\n",
      "Warning! File not read: PMC2570902.xml.json\n",
      "Warning! File not read: PMC1824729.xml.json\n",
      "Warning! File not read: PMC2361307.xml.json\n",
      "Warning! File not read: PMC1603565.xml.json\n",
      "Warning! File not read: PMC1074505.xml.json\n",
      "Warning! File not read: PMC1624813.xml.json\n",
      "Warning! File not read: PMC1550926.xml.json\n",
      "Warning! File not read: PMC1540717.xml.json\n",
      "Warning! File not read: PMC1852721.xml.json\n",
      "Warning! File not read: PMC2589507.xml.json\n",
      "Warning! File not read: PMC1175928.xml.json\n",
      "Warning! File not read: PMC1175961.xml.json\n",
      "Warning! File not read: PMC2589374.xml.json\n",
      "Warning! File not read: PMC1435713.xml.json\n",
      "Warning! File not read: PMC2071161.xml.json\n",
      "Warning! File not read: PMC2570813.xml.json\n",
      "Warning! File not read: PMC222911.xml.json\n",
      "Warning! File not read: PMC2595130.xml.json\n",
      "Warning! File not read: PMC2596456.xml.json\n",
      "Warning! File not read: PMC1142193.xml.json\n",
      "Warning! File not read: PMC1550947.xml.json\n",
      "Warning! File not read: PMC2570846.xml.json\n",
      "Warning! File not read: PMC1241623.xml.json\n",
      "Warning! File not read: PMC1247383.xml.json\n",
      "Warning! File not read: PMC1592527.xml.json\n",
      "Warning! File not read: PMC2522268.xml.json\n",
      "Warning! File not read: PMC2363919.xml.json\n",
      "Warning! File not read: PMC1615765.xml.json\n",
      "Warning! File not read: PMC2570906.xml.json\n",
      "Warning! File not read: PMC1568898.xml.json\n",
      "Warning! File not read: PMC1550845.xml.json\n",
      "Warning! File not read: PMC1888488.xml.json\n",
      "Warning! File not read: PMC2259162.xml.json\n",
      "Warning! File not read: PMC2259163.xml.json\n",
      "Warning! File not read: PMC2151856.xml.json\n",
      "Warning! File not read: PMC2570804.xml.json\n",
      "Warning! File not read: PMC1716885.xml.json\n",
      "Warning! File not read: PMC2206439.xml.json\n",
      "Warning! File not read: PMC1266063.xml.json\n",
      "Warning! File not read: PMC2254527.xml.json\n",
      "Warning! File not read: PMC1269424.xml.json\n",
      "Warning! File not read: PMC2575557.xml.json\n",
      "Warning! File not read: PMC1550877.xml.json\n",
      "Warning! File not read: PMC1592461.xml.json\n",
      "Warning! File not read: PMC1241591.xml.json\n",
      "Warning! File not read: PMC1065028.xml.json\n",
      "Warning! File not read: PMC2570935.xml.json\n",
      "Warning! File not read: PMC2528880.xml.json\n",
      "Warning! File not read: PMC1065120.xml.json\n",
      "Warning! File not read: PMC193621.xml.json\n",
      "Warning! File not read: PMC1326218.xml.json\n",
      "Warning! File not read: PMC1193560.xml.json\n",
      "Warning! File not read: PMC2274893.xml.json\n",
      "Warning! File not read: PMC1831551.xml.json\n",
      "Warning! File not read: PMC212558.xml.json\n",
      "Warning! File not read: PMC2377020.xml.json\n",
      "Warning! File not read: PMC2528209.xml.json\n",
      "Warning! File not read: PMC1550829.xml.json\n",
      "Warning! File not read: PMC222961.xml.json\n",
      "Warning! File not read: PMC2595834.xml.json\n",
      "Warning! File not read: PMC140314.xml.json\n",
      "Warning! File not read: PMC2270306.xml.json\n",
      "Warning! File not read: PMC1592688.xml.json\n",
      "Warning! File not read: PMC2570815.xml.json\n",
      "\n"
     ]
    }
   ],
   "source": [
    "load_files(custom_pmc_json_files, custom_pmc_json)"
   ]
  },
  {
   "cell_type": "code",
   "execution_count": 97,
   "metadata": {},
   "outputs": [],
   "source": [
    "# load full data from mongodb\n",
    "full_data = pd.DataFrame(list(studies.find(\n",
    "    {}, {'_id': 0, 'authors': 0, 'other_metadata': 0, 'other_abstract': 0})))\n",
    "full_data.drop('abstract', axis=1).to_csv('./all_research.csv', index=False)"
   ]
  },
  {
   "cell_type": "code",
   "execution_count": 2,
   "metadata": {},
   "outputs": [],
   "source": [
    "# do some data cleaning\n",
    "full_data = pd.read_csv('./all_research.csv')\n",
    "full_data = full_data.drop_duplicates(['title', 'new_abstract'], keep='first')\n",
    "full_data = full_data.dropna()"
   ]
  },
  {
   "cell_type": "code",
   "execution_count": 3,
   "metadata": {},
   "outputs": [],
   "source": [
    "# get the first 5000 articles for development\n",
    "subset = full_data.head(5000)\n",
    "# convert to lower case\n",
    "subset['lower_body'] = subset['body'].str.lower()\n",
    "# tokenize body of research articles\n",
    "subset['lower_body_tokens'] = subset['lower_body'].apply(lambda x: word_tokenize(str(x)))\n",
    "# remove non alphanumeric characters\n",
    "subset['lower_body_tokens'] = subset['lower_body_tokens'].apply(lambda x: [w for w in x if w.isalpha()])"
   ]
  },
  {
   "cell_type": "code",
   "execution_count": null,
   "metadata": {},
   "outputs": [],
   "source": [
    "stop_words = stopwords.words('english')\n",
    "def remove_stopwords(word_tokens):\n",
    "    ''' helped function to remove stopwords '''\n",
    "    return [w for w in word_tokens if not w in stop_words] "
   ]
  },
  {
   "cell_type": "code",
   "execution_count": null,
   "metadata": {},
   "outputs": [],
   "source": [
    "subset['lower_body_tokens'] = subset['lower_body_tokens'].apply(lambda x: remove_stopwords(x))"
   ]
  },
  {
   "cell_type": "code",
   "execution_count": null,
   "metadata": {},
   "outputs": [],
   "source": [
    "all_body = list(subset['lower_body_tokens'])\n",
    "model = gensim.models.Word2Vec(all_body, size=100, window=5, min_count=1)\n",
    "word_vectors = model.wv"
   ]
  },
  {
   "cell_type": "code",
   "execution_count": 25,
   "metadata": {},
   "outputs": [
    {
     "name": "stderr",
     "output_type": "stream",
     "text": [
      "/Library/Frameworks/Python.framework/Versions/3.7/lib/python3.7/site-packages/ipykernel_launcher.py:1: DeprecationWarning: Call to deprecated `most_similar` (Method will be removed in 4.0.0, use self.wv.most_similar() instead).\n",
      "  \"\"\"Entry point for launching an IPython kernel.\n"
     ]
    },
    {
     "data": {
      "text/plain": [
       "[('cov', 0.8944141268730164),\n",
       " ('norovirus', 0.8365249633789062),\n",
       " ('picornavirus', 0.8242976665496826),\n",
       " ('adenovirus', 0.8122658729553223),\n",
       " ('paramyxovirus', 0.8113682866096497),\n",
       " ('coxsackievirus', 0.8097898960113525),\n",
       " ('enterovirus', 0.809447169303894),\n",
       " ('flavivirus', 0.8092314004898071),\n",
       " ('herpesvirus', 0.8069195747375488),\n",
       " ('retroviruses', 0.8040987849235535)]"
      ]
     },
     "execution_count": 25,
     "metadata": {},
     "output_type": "execute_result"
    }
   ],
   "source": [
    "model.most_similar(positive='coronavirus')"
   ]
  },
  {
   "cell_type": "code",
   "execution_count": 26,
   "metadata": {},
   "outputs": [
    {
     "name": "stderr",
     "output_type": "stream",
     "text": [
      "/Library/Frameworks/Python.framework/Versions/3.7/lib/python3.7/site-packages/ipykernel_launcher.py:1: DeprecationWarning: Call to deprecated `most_similar` (Method will be removed in 4.0.0, use self.wv.most_similar() instead).\n",
      "  \"\"\"Entry point for launching an IPython kernel.\n"
     ]
    },
    {
     "data": {
      "text/plain": [
       "[('spread', 0.8131103515625),\n",
       " ('contact', 0.7746533155441284),\n",
       " ('transmissibility', 0.7723363637924194),\n",
       " ('spillover', 0.7054035663604736),\n",
       " ('epidemic', 0.7000199556350708),\n",
       " ('transmissions', 0.6984718441963196),\n",
       " ('airborne', 0.6930473446846008),\n",
       " ('emergence', 0.68519526720047),\n",
       " ('epidemics', 0.6673940420150757),\n",
       " ('spreads', 0.6639245748519897)]"
      ]
     },
     "execution_count": 26,
     "metadata": {},
     "output_type": "execute_result"
    }
   ],
   "source": [
    "model.most_similar(positive='transmission')"
   ]
  },
  {
   "cell_type": "code",
   "execution_count": 95,
   "metadata": {},
   "outputs": [],
   "source": [
    "# define a search string\n",
    "search_string = 'What do we know about the transmission of the virus?'"
   ]
  },
  {
   "cell_type": "code",
   "execution_count": 96,
   "metadata": {},
   "outputs": [
    {
     "name": "stderr",
     "output_type": "stream",
     "text": [
      "/Library/Frameworks/Python.framework/Versions/3.7/lib/python3.7/site-packages/ipykernel_launcher.py:3: DeprecationWarning: Call to deprecated `wmdistance` (Method will be removed in 4.0.0, use self.wv.wmdistance() instead).\n",
      "  This is separate from the ipykernel package so we can avoid doing imports until\n"
     ]
    }
   ],
   "source": [
    "# get distances of each paper against the search string\n",
    "distances = [(i[1]['paper_id'], \n",
    "              model.wmdistance(search_string, \n",
    "                               i[1]['body'])) for i in full_data.iterrows()]"
   ]
  },
  {
   "cell_type": "code",
   "execution_count": 97,
   "metadata": {},
   "outputs": [
    {
     "data": {
      "text/plain": [
       "[('3a8471a27ef5de09200e4d659467e203c900ae48', 2.3013047687998696),\n",
       " ('PMC7123587', 2.3067632244057754),\n",
       " ('b24beffd1af8f836c7931d9729b74078feb7e5ba', 2.384921039897632),\n",
       " ('PMC7121202', 2.4490523670813626),\n",
       " ('PMC7123263', 2.5113062362673215)]"
      ]
     },
     "execution_count": 97,
     "metadata": {},
     "output_type": "execute_result"
    }
   ],
   "source": [
    "# get the first 5 elements\n",
    "sorted(distances,key=lambda x: x[1])[:5]"
   ]
  },
  {
   "cell_type": "code",
   "execution_count": 104,
   "metadata": {},
   "outputs": [
    {
     "data": {
      "text/plain": [
       "'A Locally Transmitted Case of SARS-CoV-2 Infection in Taiwan'"
      ]
     },
     "execution_count": 104,
     "metadata": {},
     "output_type": "execute_result"
    }
   ],
   "source": [
    "# sample and see research title\n",
    "full_data.loc[full_data['paper_id'] == 'PMC7121202']['title'].iloc[0]"
   ]
  },
  {
   "cell_type": "code",
   "execution_count": 105,
   "metadata": {
    "scrolled": true
   },
   "outputs": [
    {
     "data": {
      "text/plain": [
       "'On January 25, 2020, a 52-year-old woman with a history of type 2 diabetes presented with fever to an emergency department in central Taiwan. She was admitted to the hospital because of suspicion of pneumonia associated with SARS-CoV-2 infection. She had lived in Wuhan from October 21, 2019, to January 20, 2020. She returned to Taiwan from Wuhan on January 20 on an airplane. On the same day, a throat swab was obtained from another passenger on that flight; that passenger was confirmed to have the first known imported case of SARS-CoV-2 infection in Taiwan when the swab was found to be positive for the virus on January 21.'"
      ]
     },
     "execution_count": 105,
     "metadata": {},
     "output_type": "execute_result"
    }
   ],
   "source": [
    "# randomly sample and see research text\n",
    "full_data.loc[full_data['paper_id'] == 'PMC7121202']['new_abstract'].iloc[0]"
   ]
  },
  {
   "cell_type": "code",
   "execution_count": 6,
   "metadata": {},
   "outputs": [],
   "source": [
    "# perform LDA\n",
    "count_vect = CountVectorizer(max_df=0.8, min_df=2, stop_words='english')\n",
    "doc_term_matrix = count_vect.fit_transform(subset['body'].values.astype('U'))"
   ]
  },
  {
   "cell_type": "code",
   "execution_count": 8,
   "metadata": {},
   "outputs": [
    {
     "data": {
      "text/plain": [
       "LatentDirichletAllocation(batch_size=128, doc_topic_prior=None,\n",
       "                          evaluate_every=-1, learning_decay=0.7,\n",
       "                          learning_method='batch', learning_offset=10.0,\n",
       "                          max_doc_update_iter=100, max_iter=10,\n",
       "                          mean_change_tol=0.001, n_components=5, n_jobs=None,\n",
       "                          perp_tol=0.1, random_state=42, topic_word_prior=None,\n",
       "                          total_samples=1000000.0, verbose=0)"
      ]
     },
     "execution_count": 8,
     "metadata": {},
     "output_type": "execute_result"
    }
   ],
   "source": [
    "LDA = LatentDirichletAllocation(n_components=5, random_state=42)\n",
    "LDA.partial_fit(doc_term_matrix)"
   ]
  },
  {
   "cell_type": "code",
   "execution_count": 9,
   "metadata": {},
   "outputs": [
    {
     "data": {
      "text/plain": [
       "<5000x80491 sparse matrix of type '<class 'numpy.int64'>'\n",
       "\twith 4602534 stored elements in Compressed Sparse Row format>"
      ]
     },
     "execution_count": 9,
     "metadata": {},
     "output_type": "execute_result"
    }
   ],
   "source": [
    "doc_term_matrix"
   ]
  },
  {
   "cell_type": "code",
   "execution_count": 18,
   "metadata": {},
   "outputs": [
    {
     "data": {
      "text/plain": [
       "array([ 6661, 16776,  6161, ..., 31054, 11235,  2840])"
      ]
     },
     "execution_count": 18,
     "metadata": {},
     "output_type": "execute_result"
    }
   ],
   "source": [
    "LDA"
   ]
  },
  {
   "cell_type": "code",
   "execution_count": 10,
   "metadata": {},
   "outputs": [],
   "source": [
    "first_topic =LDA.components_[0]"
   ]
  },
  {
   "cell_type": "code",
   "execution_count": 11,
   "metadata": {},
   "outputs": [
    {
     "name": "stdout",
     "output_type": "stream",
     "text": [
      "epidemic\n",
      "human\n",
      "countries\n",
      "control\n",
      "research\n",
      "infectious\n",
      "surveillance\n",
      "diseases\n",
      "case\n",
      "outbreak\n",
      "influenza\n",
      "information\n",
      "population\n",
      "public\n",
      "risk\n",
      "transmission\n",
      "model\n",
      "cases\n",
      "disease\n",
      "health\n"
     ]
    }
   ],
   "source": [
    "for i in first_topic.argsort()[-20:]:\n",
    "    print(count_vect.get_feature_names()[i])"
   ]
  },
  {
   "cell_type": "code",
   "execution_count": 12,
   "metadata": {},
   "outputs": [
    {
     "data": {
      "text/plain": [
       "'health'"
      ]
     },
     "execution_count": 12,
     "metadata": {},
     "output_type": "execute_result"
    }
   ],
   "source": [
    "count_vect.get_feature_names()[i]"
   ]
  },
  {
   "cell_type": "code",
   "execution_count": 13,
   "metadata": {},
   "outputs": [
    {
     "name": "stdout",
     "output_type": "stream",
     "text": [
      "Top 10 words for topic #0:\n",
      "['influenza', 'information', 'population', 'public', 'risk', 'transmission', 'model', 'cases', 'disease', 'health']\n",
      "\n",
      "\n",
      "Top 10 words for topic #1:\n",
      "['infections', 'positive', 'viral', 'children', 'virus', 'samples', 'clinical', 'influenza', 'respiratory', 'patients']\n",
      "\n",
      "\n",
      "Top 10 words for topic #2:\n",
      "['genome', 'virus', 'viral', 'viruses', 'gene', 'sequence', 'sequences', 'genes', 'et', 'al']\n",
      "\n",
      "\n",
      "Top 10 words for topic #3:\n",
      "['activity', 'rna', 'figure', 'proteins', 'virus', 'viral', 'expression', 'protein', 'cell', 'cells']\n",
      "\n",
      "\n",
      "Top 10 words for topic #4:\n",
      "['antibodies', 'viral', 'protein', 'antibody', 'ml', 'infected', 'cell', 'mice', 'virus', 'cells']\n",
      "\n",
      "\n"
     ]
    }
   ],
   "source": [
    "for i,topic in enumerate(LDA.components_):\n",
    "    print(f'Top 10 words for topic #{i}:')\n",
    "    print([count_vect.get_feature_names()[i] for i in topic.argsort()[-10:]])\n",
    "    print('\\n')"
   ]
  },
  {
   "cell_type": "code",
   "execution_count": 14,
   "metadata": {},
   "outputs": [
    {
     "data": {
      "text/plain": [
       "(5000, 5)"
      ]
     },
     "execution_count": 14,
     "metadata": {},
     "output_type": "execute_result"
    }
   ],
   "source": [
    "topic_values = LDA.transform(doc_term_matrix)\n",
    "topic_values.shape"
   ]
  },
  {
   "cell_type": "code",
   "execution_count": 15,
   "metadata": {},
   "outputs": [
    {
     "name": "stderr",
     "output_type": "stream",
     "text": [
      "/Library/Frameworks/Python.framework/Versions/3.7/lib/python3.7/site-packages/ipykernel_launcher.py:1: SettingWithCopyWarning: \n",
      "A value is trying to be set on a copy of a slice from a DataFrame.\n",
      "Try using .loc[row_indexer,col_indexer] = value instead\n",
      "\n",
      "See the caveats in the documentation: https://pandas.pydata.org/pandas-docs/stable/user_guide/indexing.html#returning-a-view-versus-a-copy\n",
      "  \"\"\"Entry point for launching an IPython kernel.\n"
     ]
    }
   ],
   "source": [
    "subset['Topic'] = topic_values.argmax(axis=1)"
   ]
  },
  {
   "cell_type": "code",
   "execution_count": 16,
   "metadata": {},
   "outputs": [
    {
     "data": {
      "text/plain": [
       "array([4, 3, 2, 1, 0])"
      ]
     },
     "execution_count": 16,
     "metadata": {},
     "output_type": "execute_result"
    }
   ],
   "source": [
    "subset['Topic'].unique()"
   ]
  },
  {
   "cell_type": "code",
   "execution_count": 17,
   "metadata": {},
   "outputs": [
    {
     "data": {
      "text/html": [
       "<div>\n",
       "<style scoped>\n",
       "    .dataframe tbody tr th:only-of-type {\n",
       "        vertical-align: middle;\n",
       "    }\n",
       "\n",
       "    .dataframe tbody tr th {\n",
       "        vertical-align: top;\n",
       "    }\n",
       "\n",
       "    .dataframe thead th {\n",
       "        text-align: right;\n",
       "    }\n",
       "</style>\n",
       "<table border=\"1\" class=\"dataframe\">\n",
       "  <thead>\n",
       "    <tr style=\"text-align: right;\">\n",
       "      <th></th>\n",
       "      <th>paper_id</th>\n",
       "      <th>title</th>\n",
       "      <th>body</th>\n",
       "      <th>new_abstract</th>\n",
       "      <th>Topic</th>\n",
       "    </tr>\n",
       "  </thead>\n",
       "  <tbody>\n",
       "    <tr>\n",
       "      <th>0</th>\n",
       "      <td>5e0c586f047ff909c8ed3fe171c8975a90608d08</td>\n",
       "      <td>Neutralizing antibodies against porcine epidem...</td>\n",
       "      <td>Porcine epidemic diarrhea virus (PEDV), which ...</td>\n",
       "      <td>BACKGROUND: Porcine epidemic diarrhea virus (P...</td>\n",
       "      <td>4</td>\n",
       "    </tr>\n",
       "    <tr>\n",
       "      <th>1</th>\n",
       "      <td>1579fbff7af9b156c6f49fee0526e48f852ea460</td>\n",
       "      <td>A Recombinant Newcastle Disease Virus (NDV) Ex...</td>\n",
       "      <td>Generation of rNDVs expressing S1, S2 or S pro...</td>\n",
       "      <td>Infectious bronchitis virus (IBV) causes a hig...</td>\n",
       "      <td>4</td>\n",
       "    </tr>\n",
       "    <tr>\n",
       "      <th>3</th>\n",
       "      <td>38aa050ad79d8a1d7022c33535255ce9d47914e5</td>\n",
       "      <td>Potent Inhibition of Junín Virus Infection by ...</td>\n",
       "      <td>Arenaviruses are enveloped RNA viruses with bi...</td>\n",
       "      <td>The new world arenavirus Junín virus (JUNV) is...</td>\n",
       "      <td>3</td>\n",
       "    </tr>\n",
       "    <tr>\n",
       "      <th>4</th>\n",
       "      <td>61722c462b054f36461375e96e502cbf22648c04</td>\n",
       "      <td>2 convergent Research center for emerging Viru...</td>\n",
       "      <td>In this study, the anti-dengue activity of nic...</td>\n",
       "      <td>Dengue fever is one of the most important mosq...</td>\n",
       "      <td>3</td>\n",
       "    </tr>\n",
       "    <tr>\n",
       "      <th>5</th>\n",
       "      <td>7107f088cbed45d8a06a026276ccf4d602d50f10</td>\n",
       "      <td>Microglia Play a Major Role in Direct Viral-In...</td>\n",
       "      <td>Microglia are specialized macrophages of the C...</td>\n",
       "      <td>Microglia are the resident macrophage-like pop...</td>\n",
       "      <td>4</td>\n",
       "    </tr>\n",
       "  </tbody>\n",
       "</table>\n",
       "</div>"
      ],
      "text/plain": [
       "                                   paper_id  \\\n",
       "0  5e0c586f047ff909c8ed3fe171c8975a90608d08   \n",
       "1  1579fbff7af9b156c6f49fee0526e48f852ea460   \n",
       "3  38aa050ad79d8a1d7022c33535255ce9d47914e5   \n",
       "4  61722c462b054f36461375e96e502cbf22648c04   \n",
       "5  7107f088cbed45d8a06a026276ccf4d602d50f10   \n",
       "\n",
       "                                               title  \\\n",
       "0  Neutralizing antibodies against porcine epidem...   \n",
       "1  A Recombinant Newcastle Disease Virus (NDV) Ex...   \n",
       "3  Potent Inhibition of Junín Virus Infection by ...   \n",
       "4  2 convergent Research center for emerging Viru...   \n",
       "5  Microglia Play a Major Role in Direct Viral-In...   \n",
       "\n",
       "                                                body  \\\n",
       "0  Porcine epidemic diarrhea virus (PEDV), which ...   \n",
       "1  Generation of rNDVs expressing S1, S2 or S pro...   \n",
       "3  Arenaviruses are enveloped RNA viruses with bi...   \n",
       "4  In this study, the anti-dengue activity of nic...   \n",
       "5  Microglia are specialized macrophages of the C...   \n",
       "\n",
       "                                        new_abstract  Topic  \n",
       "0  BACKGROUND: Porcine epidemic diarrhea virus (P...      4  \n",
       "1  Infectious bronchitis virus (IBV) causes a hig...      4  \n",
       "3  The new world arenavirus Junín virus (JUNV) is...      3  \n",
       "4  Dengue fever is one of the most important mosq...      3  \n",
       "5  Microglia are the resident macrophage-like pop...      4  "
      ]
     },
     "execution_count": 17,
     "metadata": {},
     "output_type": "execute_result"
    }
   ],
   "source": [
    "subset.head()"
   ]
  }
 ],
 "metadata": {
  "kernelspec": {
   "display_name": "Python 3",
   "language": "python",
   "name": "python3"
  },
  "language_info": {
   "codemirror_mode": {
    "name": "ipython",
    "version": 3
   },
   "file_extension": ".py",
   "mimetype": "text/x-python",
   "name": "python",
   "nbconvert_exporter": "python",
   "pygments_lexer": "ipython3",
   "version": "3.7.2"
  },
  "toc": {
   "base_numbering": 1,
   "nav_menu": {},
   "number_sections": true,
   "sideBar": true,
   "skip_h1_title": false,
   "title_cell": "Table of Contents",
   "title_sidebar": "Contents",
   "toc_cell": false,
   "toc_position": {},
   "toc_section_display": true,
   "toc_window_display": false
  },
  "varInspector": {
   "cols": {
    "lenName": 16,
    "lenType": 16,
    "lenVar": 40
   },
   "kernels_config": {
    "python": {
     "delete_cmd_postfix": "",
     "delete_cmd_prefix": "del ",
     "library": "var_list.py",
     "varRefreshCmd": "print(var_dic_list())"
    },
    "r": {
     "delete_cmd_postfix": ") ",
     "delete_cmd_prefix": "rm(",
     "library": "var_list.r",
     "varRefreshCmd": "cat(var_dic_list()) "
    }
   },
   "oldHeight": 258,
   "position": {
    "height": "40px",
    "left": "1027px",
    "right": "20px",
    "top": "116px",
    "width": "393px"
   },
   "types_to_exclude": [
    "module",
    "function",
    "builtin_function_or_method",
    "instance",
    "_Feature"
   ],
   "varInspector_section_display": "none",
   "window_display": false
  }
 },
 "nbformat": 4,
 "nbformat_minor": 2
}
