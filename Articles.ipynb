{
 "cells": [
  {
   "cell_type": "code",
   "execution_count": 1,
   "metadata": {},
   "outputs": [],
   "source": [
    "import pandas as pd\n",
    "from os import listdir\n",
    "from os.path import isfile, join\n",
    "import json\n",
    "from pymongo import MongoClient\n",
    "from tqdm import tqdm_notebook as tqdm\n",
    "from nltk.tokenize import word_tokenize\n",
    "import gensim\n",
    "from pprint import pprint\n",
    "from sklearn.decomposition import PCA\n",
    "import matplotlib.pyplot as plt\n",
    "import spacy\n",
    "from nltk.corpus import stopwords"
   ]
  },
  {
   "cell_type": "code",
   "execution_count": 30,
   "metadata": {},
   "outputs": [],
   "source": [
    "client = MongoClient('localhost',27017)"
   ]
  },
  {
   "cell_type": "code",
   "execution_count": 31,
   "metadata": {},
   "outputs": [],
   "source": [
    "db = client['covid']\n",
    "studies = db.studies "
   ]
  },
  {
   "cell_type": "code",
   "execution_count": 4,
   "metadata": {},
   "outputs": [],
   "source": [
    "doc_path = '/Users/jeloretizo/Library/Mobile Documents/com~apple~CloudDocs/CORD-19-research-challenge'"
   ]
  },
  {
   "cell_type": "code",
   "execution_count": 5,
   "metadata": {},
   "outputs": [],
   "source": [
    "metadata = pd.read_csv(doc_path + '/metadata.csv')"
   ]
  },
  {
   "cell_type": "code",
   "execution_count": 113,
   "metadata": {},
   "outputs": [
    {
     "data": {
      "text/html": [
       "<div>\n",
       "<style scoped>\n",
       "    .dataframe tbody tr th:only-of-type {\n",
       "        vertical-align: middle;\n",
       "    }\n",
       "\n",
       "    .dataframe tbody tr th {\n",
       "        vertical-align: top;\n",
       "    }\n",
       "\n",
       "    .dataframe thead th {\n",
       "        text-align: right;\n",
       "    }\n",
       "</style>\n",
       "<table border=\"1\" class=\"dataframe\">\n",
       "  <thead>\n",
       "    <tr style=\"text-align: right;\">\n",
       "      <th></th>\n",
       "      <th>cord_uid</th>\n",
       "      <th>sha</th>\n",
       "      <th>source_x</th>\n",
       "      <th>title</th>\n",
       "      <th>doi</th>\n",
       "      <th>pmcid</th>\n",
       "      <th>pubmed_id</th>\n",
       "      <th>license</th>\n",
       "      <th>abstract</th>\n",
       "      <th>publish_time</th>\n",
       "      <th>authors</th>\n",
       "      <th>journal</th>\n",
       "      <th>Microsoft Academic Paper ID</th>\n",
       "      <th>WHO #Covidence</th>\n",
       "      <th>has_pdf_parse</th>\n",
       "      <th>has_pmc_xml_parse</th>\n",
       "      <th>full_text_file</th>\n",
       "      <th>url</th>\n",
       "    </tr>\n",
       "  </thead>\n",
       "  <tbody>\n",
       "    <tr>\n",
       "      <th>0</th>\n",
       "      <td>xqhn0vbp</td>\n",
       "      <td>1e1286db212100993d03cc22374b624f7caee956</td>\n",
       "      <td>PMC</td>\n",
       "      <td>Airborne rhinovirus detection and effect of ul...</td>\n",
       "      <td>10.1186/1471-2458-3-5</td>\n",
       "      <td>PMC140314</td>\n",
       "      <td>12525263.0</td>\n",
       "      <td>no-cc</td>\n",
       "      <td>BACKGROUND: Rhinovirus, the most common cause ...</td>\n",
       "      <td>2003-01-13</td>\n",
       "      <td>Myatt, Theodore A; Johnston, Sebastian L; Rudn...</td>\n",
       "      <td>BMC Public Health</td>\n",
       "      <td>NaN</td>\n",
       "      <td>NaN</td>\n",
       "      <td>True</td>\n",
       "      <td>True</td>\n",
       "      <td>custom_license</td>\n",
       "      <td>https://www.ncbi.nlm.nih.gov/pmc/articles/PMC1...</td>\n",
       "    </tr>\n",
       "    <tr>\n",
       "      <th>1</th>\n",
       "      <td>gi6uaa83</td>\n",
       "      <td>8ae137c8da1607b3a8e4c946c07ca8bda67f88ac</td>\n",
       "      <td>PMC</td>\n",
       "      <td>Discovering human history from stomach bacteria</td>\n",
       "      <td>10.1186/gb-2003-4-5-213</td>\n",
       "      <td>PMC156578</td>\n",
       "      <td>12734001.0</td>\n",
       "      <td>no-cc</td>\n",
       "      <td>Recent analyses of human pathogens have reveal...</td>\n",
       "      <td>2003-04-28</td>\n",
       "      <td>Disotell, Todd R</td>\n",
       "      <td>Genome Biol</td>\n",
       "      <td>NaN</td>\n",
       "      <td>NaN</td>\n",
       "      <td>True</td>\n",
       "      <td>True</td>\n",
       "      <td>custom_license</td>\n",
       "      <td>https://www.ncbi.nlm.nih.gov/pmc/articles/PMC1...</td>\n",
       "    </tr>\n",
       "    <tr>\n",
       "      <th>2</th>\n",
       "      <td>le0ogx1s</td>\n",
       "      <td>NaN</td>\n",
       "      <td>PMC</td>\n",
       "      <td>A new recruit for the army of the men of death</td>\n",
       "      <td>10.1186/gb-2003-4-7-113</td>\n",
       "      <td>PMC193621</td>\n",
       "      <td>12844350.0</td>\n",
       "      <td>no-cc</td>\n",
       "      <td>The army of the men of death, in John Bunyan's...</td>\n",
       "      <td>2003-06-27</td>\n",
       "      <td>Petsko, Gregory A</td>\n",
       "      <td>Genome Biol</td>\n",
       "      <td>NaN</td>\n",
       "      <td>NaN</td>\n",
       "      <td>False</td>\n",
       "      <td>True</td>\n",
       "      <td>custom_license</td>\n",
       "      <td>https://www.ncbi.nlm.nih.gov/pmc/articles/PMC1...</td>\n",
       "    </tr>\n",
       "    <tr>\n",
       "      <th>3</th>\n",
       "      <td>fy4w7xz8</td>\n",
       "      <td>0104f6ceccf92ae8567a0102f89cbb976969a774</td>\n",
       "      <td>PMC</td>\n",
       "      <td>Association of HLA class I with severe acute r...</td>\n",
       "      <td>10.1186/1471-2350-4-9</td>\n",
       "      <td>PMC212558</td>\n",
       "      <td>12969506.0</td>\n",
       "      <td>no-cc</td>\n",
       "      <td>BACKGROUND: The human leukocyte antigen (HLA) ...</td>\n",
       "      <td>2003-09-12</td>\n",
       "      <td>Lin, Marie; Tseng, Hsiang-Kuang; Trejaut, Jean...</td>\n",
       "      <td>BMC Med Genet</td>\n",
       "      <td>NaN</td>\n",
       "      <td>NaN</td>\n",
       "      <td>True</td>\n",
       "      <td>True</td>\n",
       "      <td>custom_license</td>\n",
       "      <td>https://www.ncbi.nlm.nih.gov/pmc/articles/PMC2...</td>\n",
       "    </tr>\n",
       "    <tr>\n",
       "      <th>4</th>\n",
       "      <td>0qaoam29</td>\n",
       "      <td>5b68a553a7cbbea13472721cd1ad617d42b40c26</td>\n",
       "      <td>PMC</td>\n",
       "      <td>A double epidemic model for the SARS propagation</td>\n",
       "      <td>10.1186/1471-2334-3-19</td>\n",
       "      <td>PMC222908</td>\n",
       "      <td>12964944.0</td>\n",
       "      <td>no-cc</td>\n",
       "      <td>BACKGROUND: An epidemic of a Severe Acute Resp...</td>\n",
       "      <td>2003-09-10</td>\n",
       "      <td>Ng, Tuen Wai; Turinici, Gabriel; Danchin, Antoine</td>\n",
       "      <td>BMC Infect Dis</td>\n",
       "      <td>NaN</td>\n",
       "      <td>NaN</td>\n",
       "      <td>True</td>\n",
       "      <td>True</td>\n",
       "      <td>custom_license</td>\n",
       "      <td>https://www.ncbi.nlm.nih.gov/pmc/articles/PMC2...</td>\n",
       "    </tr>\n",
       "  </tbody>\n",
       "</table>\n",
       "</div>"
      ],
      "text/plain": [
       "   cord_uid                                       sha source_x  \\\n",
       "0  xqhn0vbp  1e1286db212100993d03cc22374b624f7caee956      PMC   \n",
       "1  gi6uaa83  8ae137c8da1607b3a8e4c946c07ca8bda67f88ac      PMC   \n",
       "2  le0ogx1s                                       NaN      PMC   \n",
       "3  fy4w7xz8  0104f6ceccf92ae8567a0102f89cbb976969a774      PMC   \n",
       "4  0qaoam29  5b68a553a7cbbea13472721cd1ad617d42b40c26      PMC   \n",
       "\n",
       "                                               title                      doi  \\\n",
       "0  Airborne rhinovirus detection and effect of ul...    10.1186/1471-2458-3-5   \n",
       "1    Discovering human history from stomach bacteria  10.1186/gb-2003-4-5-213   \n",
       "2     A new recruit for the army of the men of death  10.1186/gb-2003-4-7-113   \n",
       "3  Association of HLA class I with severe acute r...    10.1186/1471-2350-4-9   \n",
       "4   A double epidemic model for the SARS propagation   10.1186/1471-2334-3-19   \n",
       "\n",
       "       pmcid   pubmed_id license  \\\n",
       "0  PMC140314  12525263.0   no-cc   \n",
       "1  PMC156578  12734001.0   no-cc   \n",
       "2  PMC193621  12844350.0   no-cc   \n",
       "3  PMC212558  12969506.0   no-cc   \n",
       "4  PMC222908  12964944.0   no-cc   \n",
       "\n",
       "                                            abstract publish_time  \\\n",
       "0  BACKGROUND: Rhinovirus, the most common cause ...   2003-01-13   \n",
       "1  Recent analyses of human pathogens have reveal...   2003-04-28   \n",
       "2  The army of the men of death, in John Bunyan's...   2003-06-27   \n",
       "3  BACKGROUND: The human leukocyte antigen (HLA) ...   2003-09-12   \n",
       "4  BACKGROUND: An epidemic of a Severe Acute Resp...   2003-09-10   \n",
       "\n",
       "                                             authors            journal  \\\n",
       "0  Myatt, Theodore A; Johnston, Sebastian L; Rudn...  BMC Public Health   \n",
       "1                                   Disotell, Todd R        Genome Biol   \n",
       "2                                  Petsko, Gregory A        Genome Biol   \n",
       "3  Lin, Marie; Tseng, Hsiang-Kuang; Trejaut, Jean...      BMC Med Genet   \n",
       "4  Ng, Tuen Wai; Turinici, Gabriel; Danchin, Antoine     BMC Infect Dis   \n",
       "\n",
       "   Microsoft Academic Paper ID WHO #Covidence  has_pdf_parse  \\\n",
       "0                          NaN            NaN           True   \n",
       "1                          NaN            NaN           True   \n",
       "2                          NaN            NaN          False   \n",
       "3                          NaN            NaN           True   \n",
       "4                          NaN            NaN           True   \n",
       "\n",
       "   has_pmc_xml_parse  full_text_file  \\\n",
       "0               True  custom_license   \n",
       "1               True  custom_license   \n",
       "2               True  custom_license   \n",
       "3               True  custom_license   \n",
       "4               True  custom_license   \n",
       "\n",
       "                                                 url  \n",
       "0  https://www.ncbi.nlm.nih.gov/pmc/articles/PMC1...  \n",
       "1  https://www.ncbi.nlm.nih.gov/pmc/articles/PMC1...  \n",
       "2  https://www.ncbi.nlm.nih.gov/pmc/articles/PMC1...  \n",
       "3  https://www.ncbi.nlm.nih.gov/pmc/articles/PMC2...  \n",
       "4  https://www.ncbi.nlm.nih.gov/pmc/articles/PMC2...  "
      ]
     },
     "execution_count": 113,
     "metadata": {},
     "output_type": "execute_result"
    }
   ],
   "source": []
  },
  {
   "cell_type": "code",
   "execution_count": 115,
   "metadata": {},
   "outputs": [
    {
     "data": {
      "text/html": [
       "<div>\n",
       "<style scoped>\n",
       "    .dataframe tbody tr th:only-of-type {\n",
       "        vertical-align: middle;\n",
       "    }\n",
       "\n",
       "    .dataframe tbody tr th {\n",
       "        vertical-align: top;\n",
       "    }\n",
       "\n",
       "    .dataframe thead th {\n",
       "        text-align: right;\n",
       "    }\n",
       "</style>\n",
       "<table border=\"1\" class=\"dataframe\">\n",
       "  <thead>\n",
       "    <tr style=\"text-align: right;\">\n",
       "      <th></th>\n",
       "      <th>cord_uid</th>\n",
       "      <th>sha</th>\n",
       "      <th>source_x</th>\n",
       "      <th>title</th>\n",
       "      <th>doi</th>\n",
       "      <th>pmcid</th>\n",
       "      <th>pubmed_id</th>\n",
       "      <th>license</th>\n",
       "      <th>abstract</th>\n",
       "      <th>publish_time</th>\n",
       "      <th>authors</th>\n",
       "      <th>journal</th>\n",
       "      <th>Microsoft Academic Paper ID</th>\n",
       "      <th>WHO #Covidence</th>\n",
       "      <th>has_pdf_parse</th>\n",
       "      <th>has_pmc_xml_parse</th>\n",
       "      <th>full_text_file</th>\n",
       "      <th>url</th>\n",
       "    </tr>\n",
       "  </thead>\n",
       "  <tbody>\n",
       "    <tr>\n",
       "      <th>40896</th>\n",
       "      <td>nl37p9vp</td>\n",
       "      <td>ff766484e50701bbb36ed45d3a4464d817a471ff</td>\n",
       "      <td>Elsevier</td>\n",
       "      <td>Middle East Respiratory Syndrome Interpreted: ...</td>\n",
       "      <td>10.1016/j.amjmed.2016.04.030</td>\n",
       "      <td>PMC7124269</td>\n",
       "      <td>27215907.0</td>\n",
       "      <td>els-covid</td>\n",
       "      <td>NaN</td>\n",
       "      <td>2016-09-30</td>\n",
       "      <td>Lau, Susanna K.P.; Chan, Jasper F.W.; Hung, Iv...</td>\n",
       "      <td>The American Journal of Medicine</td>\n",
       "      <td>NaN</td>\n",
       "      <td>NaN</td>\n",
       "      <td>True</td>\n",
       "      <td>False</td>\n",
       "      <td>custom_license</td>\n",
       "      <td>https://doi.org/10.1016/j.amjmed.2016.04.030</td>\n",
       "    </tr>\n",
       "  </tbody>\n",
       "</table>\n",
       "</div>"
      ],
      "text/plain": [
       "       cord_uid                                       sha  source_x  \\\n",
       "40896  nl37p9vp  ff766484e50701bbb36ed45d3a4464d817a471ff  Elsevier   \n",
       "\n",
       "                                                   title  \\\n",
       "40896  Middle East Respiratory Syndrome Interpreted: ...   \n",
       "\n",
       "                                doi       pmcid   pubmed_id    license  \\\n",
       "40896  10.1016/j.amjmed.2016.04.030  PMC7124269  27215907.0  els-covid   \n",
       "\n",
       "      abstract publish_time  \\\n",
       "40896      NaN   2016-09-30   \n",
       "\n",
       "                                                 authors  \\\n",
       "40896  Lau, Susanna K.P.; Chan, Jasper F.W.; Hung, Iv...   \n",
       "\n",
       "                                journal  Microsoft Academic Paper ID  \\\n",
       "40896  The American Journal of Medicine                          NaN   \n",
       "\n",
       "      WHO #Covidence  has_pdf_parse  has_pmc_xml_parse  full_text_file  \\\n",
       "40896            NaN           True              False  custom_license   \n",
       "\n",
       "                                                url  \n",
       "40896  https://doi.org/10.1016/j.amjmed.2016.04.030  "
      ]
     },
     "execution_count": 115,
     "metadata": {},
     "output_type": "execute_result"
    }
   ],
   "source": [
    "metadata.loc[metadata['sha'] == 'ff766484e50701bbb36ed45d3a4464d817a471ff']['abstract'].iloc[0]"
   ]
  },
  {
   "cell_type": "code",
   "execution_count": 70,
   "metadata": {},
   "outputs": [],
   "source": [
    "comm_pmc_json = doc_path + '/comm_use_subset/comm_use_subset/pmc_json/'\n",
    "comm_pdf_json = doc_path + '/comm_use_subset/comm_use_subset/pdf_json/'\n",
    "custom_pmc_json = doc_path + '/custom_license/custom_license/pmc_json/'\n",
    "custom_pdf_json = doc_path + '/custom_license/custom_license/pdf_json/'"
   ]
  },
  {
   "cell_type": "code",
   "execution_count": 71,
   "metadata": {},
   "outputs": [],
   "source": [
    "comm_pmc_json_files = [f for f in listdir(comm_pmc_json) if isfile(join(comm_pmc_json, f))]\n",
    "comm_pdf_json_files = [f for f in listdir(comm_pdf_json) if isfile(join(comm_pdf_json, f))]\n",
    "custom_pmc_json_files = [f for f in listdir(custom_pmc_json) if isfile(join(custom_pmc_json, f))]\n",
    "custom_pdf_json_files = [f for f in listdir(custom_pdf_json) if isfile(join(custom_pdf_json, f))]"
   ]
  },
  {
   "cell_type": "code",
   "execution_count": 8,
   "metadata": {},
   "outputs": [
    {
     "data": {
      "text/plain": [
       "9524"
      ]
     },
     "execution_count": 8,
     "metadata": {},
     "output_type": "execute_result"
    }
   ],
   "source": [
    "len(comm_pdf_json_files)"
   ]
  },
  {
   "cell_type": "code",
   "execution_count": 72,
   "metadata": {},
   "outputs": [
    {
     "data": {
      "text/plain": [
       "9148"
      ]
     },
     "execution_count": 72,
     "metadata": {},
     "output_type": "execute_result"
    }
   ],
   "source": [
    "len(comm_pmc_json_files)"
   ]
  },
  {
   "cell_type": "code",
   "execution_count": 74,
   "metadata": {},
   "outputs": [],
   "source": [
    "# comm_pmc_json_files"
   ]
  },
  {
   "cell_type": "code",
   "execution_count": 10,
   "metadata": {},
   "outputs": [
    {
     "data": {
      "text/plain": [
       "26505"
      ]
     },
     "execution_count": 10,
     "metadata": {},
     "output_type": "execute_result"
    }
   ],
   "source": [
    "len(custom_pdf_json_files)"
   ]
  },
  {
   "cell_type": "code",
   "execution_count": 11,
   "metadata": {},
   "outputs": [
    {
     "data": {
      "text/plain": [
       "7797"
      ]
     },
     "execution_count": 11,
     "metadata": {},
     "output_type": "execute_result"
    }
   ],
   "source": [
    "len(custom_pmc_json_files)"
   ]
  },
  {
   "cell_type": "code",
   "execution_count": null,
   "metadata": {},
   "outputs": [],
   "source": [
    "def find_abstract(research_id):\n",
    "    ''' Helper function to aggregate abstract and metadata '''\n",
    "    if research_id is not None:\n",
    "        if 'PMC' in research_id:\n",
    "            try:\n",
    "                abstract = metadata.loc[metadata['pmcid'] == research_id]['abstract'].iloc[0]\n",
    "            except:\n",
    "                abstract = None\n",
    "        else:\n",
    "            try: \n",
    "                abstract = metadata.loc[metadata['sha'] == research_id]['abstract'].iloc[0]\n",
    "            except:\n",
    "                abstract = None\n",
    "    else:\n",
    "        abstract = None\n",
    "    return abstract"
   ]
  },
  {
   "cell_type": "code",
   "execution_count": 82,
   "metadata": {
    "scrolled": true
   },
   "outputs": [],
   "source": [
    "def load_files(files_list, files_path):\n",
    "    for orig_file in tqdm(files_list):\n",
    "        with open((files_path + orig_file), 'r') as file:\n",
    "            try:\n",
    "                file = json.load(file)\n",
    "    #             print(custom_pdf_json_file)\n",
    "            except:\n",
    "                print('Warning! File not read:', orig_file)\n",
    "            res = {}\n",
    "            try:\n",
    "                res['paper_id'] = file['paper_id'] \n",
    "            except:\n",
    "                res['paper_id'] = None\n",
    "\n",
    "            try:\n",
    "                res['abstract'] = file['abstract'][0]['text']\n",
    "            except:\n",
    "                res['abstract'] = None\n",
    "\n",
    "            try: \n",
    "                res['title'] = file['metadata']['title']\n",
    "            except:\n",
    "                res['title'] = None\n",
    "\n",
    "            try:\n",
    "                res['authors'] = file['metadata']['authors']\n",
    "            except:\n",
    "                res['authors'] = None\n",
    "\n",
    "            try:\n",
    "                res['other_metadata'] = file['metadata']\n",
    "            except:\n",
    "                res['other_metadata'] = None\n",
    "\n",
    "            try:\n",
    "                res['other_abstract'] = file['abstract']\n",
    "            except:\n",
    "                res['other_abstract'] = None\n",
    "\n",
    "    #         data = {}\n",
    "            full_text = ''\n",
    "            try:\n",
    "    #             for i in file['body_text']:\n",
    "    #                 section = i['section'].lower()\n",
    "    #                 if '.' in section:\n",
    "    #                     section = section.replace('.', ' ')\n",
    "    #                 if section in list(data.keys()): \n",
    "    #                     new_text = data[section] + \"\\n\" + i['text']\n",
    "    #                     data[section] = new_text\n",
    "    #     #                 new_text\n",
    "    #     #                 data[i['section']].append(i['text'])\n",
    "    #             #         print('a')\n",
    "    #                 else:\n",
    "    #                     data[section] = i['text']\n",
    "                for i in file['body_text']:\n",
    "                    full_text += i['text']\n",
    "\n",
    "            except:\n",
    "                full_text = None\n",
    "\n",
    "            try:\n",
    "                res['body'] = full_text\n",
    "            except:\n",
    "                res['body'] = None\n",
    "            try:\n",
    "                studies.insert_one(res, bypass_document_validation=True)\n",
    "            except:\n",
    "                print('Warning! File not inserted:', orig_file)"
   ]
  },
  {
   "cell_type": "code",
   "execution_count": 83,
   "metadata": {
    "scrolled": true
   },
   "outputs": [
    {
     "name": "stderr",
     "output_type": "stream",
     "text": [
      "/Library/Frameworks/Python.framework/Versions/3.7/lib/python3.7/site-packages/ipykernel_launcher.py:2: TqdmDeprecationWarning: This function will be removed in tqdm==5.0.0\n",
      "Please use `tqdm.notebook.tqdm` instead of `tqdm.tqdm_notebook`\n",
      "  \n"
     ]
    },
    {
     "data": {
      "application/vnd.jupyter.widget-view+json": {
       "model_id": "8a8e84b2718e4e41840804eade50717b",
       "version_major": 2,
       "version_minor": 0
      },
      "text/plain": [
       "HBox(children=(FloatProgress(value=0.0, max=26505.0), HTML(value='')))"
      ]
     },
     "metadata": {},
     "output_type": "display_data"
    },
    {
     "name": "stdout",
     "output_type": "stream",
     "text": [
      "Warning! File not read: ffc89f2bd7f513dae147b4bd0043164db16e8dc0.json\n",
      "Warning! File not read: ff966b5218e3c9433966d622a806710b820a60d6.json\n",
      "Warning! File not read: ff9398e9978220ab54cd85a98920d90b05c190d6.json\n",
      "Warning! File not read: ffb877d67fd30e14677580c292ca9caf64659987.json\n",
      "Warning! File not read: ff6c4e420ae293c8130a3a71a1ab9e466ccf0b40.json\n",
      "Warning! File not read: ff765aa3a876d263d37993712a503bc2a9f5ef0c.json\n",
      "Warning! File not read: ff740fd015f63477d7b236d0ffee2b7639b6dcb0.json\n",
      "Warning! File not read: ffc93dea5a5f4e6e65ad155e87aafa98aa8c54cf.json\n",
      "Warning! File not read: ff80b3d9f398a7e1b51c1c2dc6fdbc97969d24f0.json\n",
      "Warning! File not read: ffd3606ed51d3129db5863b2246ec587e07323c8.json\n",
      "Warning! File not read: ffb77680c0f79491003331d1e3d9dde3c4fcdfd9.json\n",
      "Warning! File not read: ffab348b231771ee27738a4426a87a6a04f3994f.json\n",
      "Warning! File not read: ff7d49ac4008f60ef9c5a437e0d504dcefd1246f.json\n",
      "Warning! File not read: ffd73c393641618860486e897197311f630bf67f.json\n",
      "Warning! File not read: ffbd51670f3a5dcf4a02696788726a3531da449b.json\n",
      "Warning! File not read: ffad7416effd57e66c6f2143ad660768af44cee9.json\n",
      "Warning! File not read: fff6fe12beb51ee2641ddb5381378ff3560d8103.json\n",
      "Warning! File not read: ffb9979514d2361956c02603d6f45eefa9a34ab3.json\n",
      "Warning! File not read: ffeffafec5c5db2f5bd2472bac2f7c5cabe13557.json\n",
      "Warning! File not read: ff688cd8f01878918c6f6e3126f4d32a64805b77.json\n",
      "Warning! File not read: ffed51538e59e779838ead9f15f10d906791b4bd.json\n",
      "Warning! File not read: ffd1702bc07afdc78a958c9932f6e3fbe4fb6c1f.json\n",
      "Warning! File not read: ff8610a4d772b4ec5497589889f8c8bf8179dd7b.json\n",
      "Warning! File not read: ff766484e50701bbb36ed45d3a4464d817a471ff.json\n",
      "Warning! File not read: ff689b993e5ae451645c77c874627c043bece39b.json\n",
      "Warning! File not read: fff1194fa9a0e18d13a565a7a2355a584cb860b1.json\n",
      "Warning! File not read: ff8659733ca5f2a3f3c08b1a56f4ce64881adb97.json\n",
      "Warning! File not read: ff78ee43150a59344d0a0cd68298c02032b43991.json\n",
      "Warning! File not read: ffd0af549110e997ac78508b499668e31e3b5b90.json\n",
      "Warning! File not read: ffece58ead08c1a247ac3352aa4d73c5b10f205f.json\n",
      "Warning! File not read: fff69e4894df7b4134bb2ddc830764459ac3edbe.json\n",
      "Warning! File not read: fff600839441a60bb883d5f4328aa3227e127d1d.json\n",
      "Warning! File not read: ff6fb209f096f1d83b060ac8ccff5f9475d69d71.json\n",
      "Warning! File not read: fffdca958d2869303da6e8e5e4b181e5de8f3854.json\n",
      "Warning! File not read: ffae196fecc4da7f1897e22f8ce0dc0e03c8bcec.json\n",
      "Warning! File not read: fff3bfb7647cd0806ce98340baceec1be3ea5245.json\n",
      "Warning! File not read: ffb381668d93248759ca3855425e05722cb9f562.json\n",
      "Warning! File not read: ffdf3927a517dbdb292b325916277a0342489b53.json\n",
      "Warning! File not read: ffdd6ba963bcbed1b9e7a293b06529bb4da989b6.json\n",
      "Warning! File not read: ff6d9926b159c7997f3b71878a220e89e06fb7e2.json\n",
      "Warning! File not read: ffe133ed880d6c77ae340c5374817232e21f8315.json\n",
      "Warning! File not read: ff9a9790fc15e1f855854b5440436b96f31e2183.json\n",
      "Warning! File not read: ffcf01af4454c1fdbfa6d5f2bdfac83cf9a70fa9.json\n",
      "Warning! File not read: ff95dcd75515b1bd9dbb66bc58f495c42159676e.json\n",
      "Warning! File not read: ffa96106b3248391e0a2e213ff9c317b75133e2b.json\n",
      "Warning! File not read: ff72d2bcb1cd8d45ab59ddf8ca4e56d029024628.json\n",
      "Warning! File not read: fff60988428b82658458d381a6c27583209a686e.json\n",
      "Warning! File not read: ffa499eec937130124dd2260aa81c46904d59910.json\n",
      "Warning! File not read: ff6e7c70571d00234a94ebb6964d5bff82b053e4.json\n",
      "Warning! File not read: ff8b57e1d85ad83a71c0a4b74b9802e45911b0b1.json\n",
      "Warning! File not read: ffbdb12b3da27e9f59a07f385d22a98453bd3a7a.json\n",
      "Warning! File not read: ff99cb8f85c4cace8e4c60489c8221ba0303728c.json\n",
      "Warning! File not read: ffde9cabfcf179f96cea996cb19e2a807615c479.json\n",
      "Warning! File not read: ffc30702160cc3dfd751588bf0dc6a6dabc00161.json\n",
      "Warning! File not read: ff849fc6eb55db14fe29a58c4b982f938eeb2e32.json\n",
      "Warning! File not read: fff6febdd287d474d7950b14faa899c4095557b3.json\n",
      "Warning! File not read: ffd3a93b927e221ded4cf76536ad31bef2c74b89.json\n",
      "\n"
     ]
    }
   ],
   "source": [
    "load_files(custom_pdf_json_files, custom_pdf_json)"
   ]
  },
  {
   "cell_type": "code",
   "execution_count": 84,
   "metadata": {
    "scrolled": true
   },
   "outputs": [
    {
     "name": "stderr",
     "output_type": "stream",
     "text": [
      "/Library/Frameworks/Python.framework/Versions/3.7/lib/python3.7/site-packages/ipykernel_launcher.py:2: TqdmDeprecationWarning: This function will be removed in tqdm==5.0.0\n",
      "Please use `tqdm.notebook.tqdm` instead of `tqdm.tqdm_notebook`\n",
      "  \n"
     ]
    },
    {
     "data": {
      "application/vnd.jupyter.widget-view+json": {
       "model_id": "c7d4635ba27244739ca5b02551e6eaa0",
       "version_major": 2,
       "version_minor": 0
      },
      "text/plain": [
       "HBox(children=(FloatProgress(value=0.0, max=7797.0), HTML(value='')))"
      ]
     },
     "metadata": {},
     "output_type": "display_data"
    },
    {
     "name": "stdout",
     "output_type": "stream",
     "text": [
      "Warning! File not read: PMC1383626.xml.json\n",
      "Warning! File not read: PMC1850917.xml.json\n",
      "Warning! File not read: PMC1635791.xml.json\n",
      "Warning! File not read: PMC1160239.xml.json\n",
      "Warning! File not read: PMC1518840.xml.json\n",
      "Warning! File not read: PMC1182165.xml.json\n",
      "Warning! File not read: PMC2259160.xml.json\n",
      "Warning! File not read: PMC2206501.xml.json\n",
      "Warning! File not read: PMC1592674.xml.json\n",
      "Warning! File not read: PMC1566363.xml.json\n",
      "Warning! File not read: PMC1769406.xml.json\n",
      "Warning! File not read: PMC2435248.xml.json\n",
      "Warning! File not read: PMC1474450.xml.json\n",
      "Warning! File not read: PMC1278949.xml.json\n",
      "Warning! File not read: PMC1074749.xml.json\n",
      "Warning! File not read: PMC2589215.xml.json\n",
      "Warning! File not read: PMC1821001.xml.json\n",
      "Warning! File not read: PMC2516372.xml.json\n",
      "Warning! File not read: PMC156578.xml.json\n",
      "Warning! File not read: PMC1519403.xml.json\n",
      "Warning! File not read: PMC1602263.xml.json\n",
      "Warning! File not read: PMC2443186.xml.json\n",
      "Warning! File not read: PMC1820993.xml.json\n",
      "Warning! File not read: PMC2202333.xml.json\n",
      "Warning! File not read: PMC2267503.xml.json\n",
      "Warning! File not read: PMC1559924.xml.json\n",
      "Warning! File not read: PMC1831560.xml.json\n",
      "Warning! File not read: PMC1241811.xml.json\n",
      "Warning! File not read: PMC2570824.xml.json\n",
      "Warning! File not read: PMC1065257.xml.json\n",
      "Warning! File not read: PMC1952212.xml.json\n",
      "Warning! File not read: PMC1269436.xml.json\n",
      "Warning! File not read: PMC1568352.xml.json\n",
      "Warning! File not read: PMC2564797.xml.json\n",
      "Warning! File not read: PMC1876871.xml.json\n",
      "Warning! File not read: PMC2595836.xml.json\n",
      "Warning! File not read: PMC2441536.xml.json\n",
      "Warning! File not read: PMC1532946.xml.json\n",
      "Warning! File not read: PMC1847501.xml.json\n",
      "Warning! File not read: PMC2584968.xml.json\n",
      "Warning! File not read: PMC1851930.xml.json\n",
      "Warning! File not read: PMC2206465.xml.json\n",
      "Warning! File not read: PMC2535907.xml.json\n",
      "Warning! File not read: PMC2504633.xml.json\n",
      "Warning! File not read: PMC1326252.xml.json\n",
      "Warning! File not read: PMC2259158.xml.json\n",
      "Warning! File not read: PMC1538817.xml.json\n",
      "Warning! File not read: PMC1072806.xml.json\n",
      "Warning! File not read: PMC1781541.xml.json\n",
      "Warning! File not read: PMC2435592.xml.json\n",
      "Warning! File not read: PMC1160249.xml.json\n",
      "Warning! File not read: PMC1271393.xml.json\n",
      "Warning! File not read: PMC2589218.xml.json\n",
      "Warning! File not read: PMC1859983.xml.json\n",
      "Warning! File not read: PMC1876255.xml.json\n",
      "Warning! File not read: PMC2259152.xml.json\n",
      "Warning! File not read: PMC2519141.xml.json\n",
      "Warning! File not read: PMC1475929.xml.json\n",
      "Warning! File not read: PMC1241627.xml.json\n",
      "Warning! File not read: PMC2570843.xml.json\n",
      "Warning! File not read: PMC222908.xml.json\n",
      "Warning! File not read: PMC2575555.xml.json\n",
      "Warning! File not read: PMC2570903.xml.json\n",
      "Warning! File not read: PMC2570902.xml.json\n",
      "Warning! File not read: PMC1824729.xml.json\n",
      "Warning! File not read: PMC2361307.xml.json\n",
      "Warning! File not read: PMC1603565.xml.json\n",
      "Warning! File not read: PMC1074505.xml.json\n",
      "Warning! File not read: PMC1624813.xml.json\n",
      "Warning! File not read: PMC1550926.xml.json\n",
      "Warning! File not read: PMC1540717.xml.json\n",
      "Warning! File not read: PMC1852721.xml.json\n",
      "Warning! File not read: PMC2589507.xml.json\n",
      "Warning! File not read: PMC1175928.xml.json\n",
      "Warning! File not read: PMC1175961.xml.json\n",
      "Warning! File not read: PMC2589374.xml.json\n",
      "Warning! File not read: PMC1435713.xml.json\n",
      "Warning! File not read: PMC2071161.xml.json\n",
      "Warning! File not read: PMC2570813.xml.json\n",
      "Warning! File not read: PMC222911.xml.json\n",
      "Warning! File not read: PMC2595130.xml.json\n",
      "Warning! File not read: PMC2596456.xml.json\n",
      "Warning! File not read: PMC1142193.xml.json\n",
      "Warning! File not read: PMC1550947.xml.json\n",
      "Warning! File not read: PMC2570846.xml.json\n",
      "Warning! File not read: PMC1241623.xml.json\n",
      "Warning! File not read: PMC1247383.xml.json\n",
      "Warning! File not read: PMC1592527.xml.json\n",
      "Warning! File not read: PMC2522268.xml.json\n",
      "Warning! File not read: PMC2363919.xml.json\n",
      "Warning! File not read: PMC1615765.xml.json\n",
      "Warning! File not read: PMC2570906.xml.json\n",
      "Warning! File not read: PMC1568898.xml.json\n",
      "Warning! File not read: PMC1550845.xml.json\n",
      "Warning! File not read: PMC1888488.xml.json\n",
      "Warning! File not read: PMC2259162.xml.json\n",
      "Warning! File not read: PMC2259163.xml.json\n",
      "Warning! File not read: PMC2151856.xml.json\n",
      "Warning! File not read: PMC2570804.xml.json\n",
      "Warning! File not read: PMC1716885.xml.json\n",
      "Warning! File not read: PMC2206439.xml.json\n",
      "Warning! File not read: PMC1266063.xml.json\n",
      "Warning! File not read: PMC2254527.xml.json\n",
      "Warning! File not read: PMC1269424.xml.json\n",
      "Warning! File not read: PMC2575557.xml.json\n",
      "Warning! File not read: PMC1550877.xml.json\n",
      "Warning! File not read: PMC1592461.xml.json\n",
      "Warning! File not read: PMC1241591.xml.json\n",
      "Warning! File not read: PMC1065028.xml.json\n",
      "Warning! File not read: PMC2570935.xml.json\n",
      "Warning! File not read: PMC2528880.xml.json\n",
      "Warning! File not read: PMC1065120.xml.json\n",
      "Warning! File not read: PMC193621.xml.json\n",
      "Warning! File not read: PMC1326218.xml.json\n",
      "Warning! File not read: PMC1193560.xml.json\n",
      "Warning! File not read: PMC2274893.xml.json\n",
      "Warning! File not read: PMC1831551.xml.json\n",
      "Warning! File not read: PMC212558.xml.json\n",
      "Warning! File not read: PMC2377020.xml.json\n",
      "Warning! File not read: PMC2528209.xml.json\n",
      "Warning! File not read: PMC1550829.xml.json\n",
      "Warning! File not read: PMC222961.xml.json\n",
      "Warning! File not read: PMC2595834.xml.json\n",
      "Warning! File not read: PMC140314.xml.json\n",
      "Warning! File not read: PMC2270306.xml.json\n",
      "Warning! File not read: PMC1592688.xml.json\n",
      "Warning! File not read: PMC2570815.xml.json\n",
      "\n"
     ]
    }
   ],
   "source": [
    "load_files(custom_pmc_json_files, custom_pmc_json)"
   ]
  },
  {
   "cell_type": "code",
   "execution_count": 84,
   "metadata": {},
   "outputs": [
    {
     "name": "stdout",
     "output_type": "stream",
     "text": [
      "paper_id\n",
      "metadata\n",
      "abstract\n",
      "body_text\n",
      "bib_entries\n",
      "ref_entries\n",
      "back_matter\n"
     ]
    }
   ],
   "source": [
    "for i in file.keys():\n",
    "    print(i)"
   ]
  },
  {
   "cell_type": "code",
   "execution_count": 85,
   "metadata": {},
   "outputs": [
    {
     "data": {
      "text/plain": [
       "'86a998617c077f4fe2ab26214995a3548fbc0fc5'"
      ]
     },
     "execution_count": 85,
     "metadata": {},
     "output_type": "execute_result"
    }
   ],
   "source": [
    "file['paper_id']"
   ]
  },
  {
   "cell_type": "code",
   "execution_count": 97,
   "metadata": {},
   "outputs": [],
   "source": [
    "full_data = pd.DataFrame(list(studies.find(\n",
    "    {}, {'_id': 0, 'authors': 0, 'other_metadata': 0, 'other_abstract': 0})))\n",
    "full_data.drop('abstract', axis=1).to_csv('./all_research.csv', index=False)"
   ]
  },
  {
   "cell_type": "code",
   "execution_count": 2,
   "metadata": {},
   "outputs": [],
   "source": [
    "full_data = pd.read_csv('./all_research.csv')"
   ]
  },
  {
   "cell_type": "code",
   "execution_count": 3,
   "metadata": {},
   "outputs": [],
   "source": [
    "full_data = full_data.drop_duplicates(['title', 'new_abstract'], keep='first')"
   ]
  },
  {
   "cell_type": "code",
   "execution_count": 4,
   "metadata": {},
   "outputs": [],
   "source": [
    "full_data = full_data.dropna()"
   ]
  },
  {
   "cell_type": "code",
   "execution_count": 5,
   "metadata": {},
   "outputs": [],
   "source": [
    "subset = full_data.head(5000)"
   ]
  },
  {
   "cell_type": "code",
   "execution_count": 6,
   "metadata": {},
   "outputs": [
    {
     "name": "stderr",
     "output_type": "stream",
     "text": [
      "/Library/Frameworks/Python.framework/Versions/3.7/lib/python3.7/site-packages/ipykernel_launcher.py:1: SettingWithCopyWarning: \n",
      "A value is trying to be set on a copy of a slice from a DataFrame.\n",
      "Try using .loc[row_indexer,col_indexer] = value instead\n",
      "\n",
      "See the caveats in the documentation: https://pandas.pydata.org/pandas-docs/stable/user_guide/indexing.html#returning-a-view-versus-a-copy\n",
      "  \"\"\"Entry point for launching an IPython kernel.\n"
     ]
    }
   ],
   "source": [
    "subset['lower_body'] = subset['body'].str.lower()"
   ]
  },
  {
   "cell_type": "code",
   "execution_count": 7,
   "metadata": {},
   "outputs": [
    {
     "name": "stderr",
     "output_type": "stream",
     "text": [
      "/Library/Frameworks/Python.framework/Versions/3.7/lib/python3.7/site-packages/ipykernel_launcher.py:1: SettingWithCopyWarning: \n",
      "A value is trying to be set on a copy of a slice from a DataFrame.\n",
      "Try using .loc[row_indexer,col_indexer] = value instead\n",
      "\n",
      "See the caveats in the documentation: https://pandas.pydata.org/pandas-docs/stable/user_guide/indexing.html#returning-a-view-versus-a-copy\n",
      "  \"\"\"Entry point for launching an IPython kernel.\n"
     ]
    }
   ],
   "source": [
    "subset['lower_body_tokens'] = subset['lower_body'].apply(lambda x: word_tokenize(str(x)))"
   ]
  },
  {
   "cell_type": "code",
   "execution_count": 8,
   "metadata": {},
   "outputs": [
    {
     "name": "stderr",
     "output_type": "stream",
     "text": [
      "/Library/Frameworks/Python.framework/Versions/3.7/lib/python3.7/site-packages/ipykernel_launcher.py:1: SettingWithCopyWarning: \n",
      "A value is trying to be set on a copy of a slice from a DataFrame.\n",
      "Try using .loc[row_indexer,col_indexer] = value instead\n",
      "\n",
      "See the caveats in the documentation: https://pandas.pydata.org/pandas-docs/stable/user_guide/indexing.html#returning-a-view-versus-a-copy\n",
      "  \"\"\"Entry point for launching an IPython kernel.\n"
     ]
    }
   ],
   "source": [
    "subset['lower_body_tokens'] = subset['lower_body_tokens'].apply(lambda x: [w for w in x if w.isalpha()])"
   ]
  },
  {
   "cell_type": "code",
   "execution_count": 18,
   "metadata": {},
   "outputs": [],
   "source": [
    "stop_words = stopwords.words('english')\n",
    "def remove_stopwords(word_tokens):\n",
    "    return [w for w in word_tokens if not w in stop_words] "
   ]
  },
  {
   "cell_type": "code",
   "execution_count": 19,
   "metadata": {},
   "outputs": [
    {
     "name": "stderr",
     "output_type": "stream",
     "text": [
      "/Library/Frameworks/Python.framework/Versions/3.7/lib/python3.7/site-packages/ipykernel_launcher.py:1: SettingWithCopyWarning: \n",
      "A value is trying to be set on a copy of a slice from a DataFrame.\n",
      "Try using .loc[row_indexer,col_indexer] = value instead\n",
      "\n",
      "See the caveats in the documentation: https://pandas.pydata.org/pandas-docs/stable/user_guide/indexing.html#returning-a-view-versus-a-copy\n",
      "  \"\"\"Entry point for launching an IPython kernel.\n"
     ]
    }
   ],
   "source": [
    "subset['lower_body_tokens'] = subset['lower_body_tokens'].apply(lambda x: remove_stopwords(x))"
   ]
  },
  {
   "cell_type": "code",
   "execution_count": 20,
   "metadata": {},
   "outputs": [],
   "source": [
    "all_body = list(subset['lower_body_tokens'])"
   ]
  },
  {
   "cell_type": "code",
   "execution_count": 21,
   "metadata": {},
   "outputs": [],
   "source": [
    "model = gensim.models.Word2Vec(all_body, size=100, window=5, min_count=1)"
   ]
  },
  {
   "cell_type": "code",
   "execution_count": 22,
   "metadata": {},
   "outputs": [],
   "source": [
    "word_vectors = model.wv"
   ]
  },
  {
   "cell_type": "code",
   "execution_count": 25,
   "metadata": {},
   "outputs": [
    {
     "name": "stderr",
     "output_type": "stream",
     "text": [
      "/Library/Frameworks/Python.framework/Versions/3.7/lib/python3.7/site-packages/ipykernel_launcher.py:1: DeprecationWarning: Call to deprecated `most_similar` (Method will be removed in 4.0.0, use self.wv.most_similar() instead).\n",
      "  \"\"\"Entry point for launching an IPython kernel.\n"
     ]
    },
    {
     "data": {
      "text/plain": [
       "[('cov', 0.8944141268730164),\n",
       " ('norovirus', 0.8365249633789062),\n",
       " ('picornavirus', 0.8242976665496826),\n",
       " ('adenovirus', 0.8122658729553223),\n",
       " ('paramyxovirus', 0.8113682866096497),\n",
       " ('coxsackievirus', 0.8097898960113525),\n",
       " ('enterovirus', 0.809447169303894),\n",
       " ('flavivirus', 0.8092314004898071),\n",
       " ('herpesvirus', 0.8069195747375488),\n",
       " ('retroviruses', 0.8040987849235535)]"
      ]
     },
     "execution_count": 25,
     "metadata": {},
     "output_type": "execute_result"
    }
   ],
   "source": [
    "model.most_similar(positive='coronavirus')"
   ]
  },
  {
   "cell_type": "code",
   "execution_count": 26,
   "metadata": {},
   "outputs": [
    {
     "name": "stderr",
     "output_type": "stream",
     "text": [
      "/Library/Frameworks/Python.framework/Versions/3.7/lib/python3.7/site-packages/ipykernel_launcher.py:1: DeprecationWarning: Call to deprecated `most_similar` (Method will be removed in 4.0.0, use self.wv.most_similar() instead).\n",
      "  \"\"\"Entry point for launching an IPython kernel.\n"
     ]
    },
    {
     "data": {
      "text/plain": [
       "[('spread', 0.8131103515625),\n",
       " ('contact', 0.7746533155441284),\n",
       " ('transmissibility', 0.7723363637924194),\n",
       " ('spillover', 0.7054035663604736),\n",
       " ('epidemic', 0.7000199556350708),\n",
       " ('transmissions', 0.6984718441963196),\n",
       " ('airborne', 0.6930473446846008),\n",
       " ('emergence', 0.68519526720047),\n",
       " ('epidemics', 0.6673940420150757),\n",
       " ('spreads', 0.6639245748519897)]"
      ]
     },
     "execution_count": 26,
     "metadata": {},
     "output_type": "execute_result"
    }
   ],
   "source": [
    "model.most_similar(positive='transmission')"
   ]
  },
  {
   "cell_type": "code",
   "execution_count": 95,
   "metadata": {},
   "outputs": [],
   "source": [
    "search_string = 'What do we know about the transmission of the virus?'"
   ]
  },
  {
   "cell_type": "code",
   "execution_count": 93,
   "metadata": {},
   "outputs": [],
   "source": [
    "from rake_nltk import Rake\n",
    "r = Rake()"
   ]
  },
  {
   "cell_type": "code",
   "execution_count": 94,
   "metadata": {},
   "outputs": [
    {
     "data": {
      "text/plain": [
       "['virus', 'transmission', 'know']"
      ]
     },
     "execution_count": 94,
     "metadata": {},
     "output_type": "execute_result"
    }
   ],
   "source": [
    "r.extract_keywords_from_text(search_string)\n",
    "r.get_ranked_phrases() "
   ]
  },
  {
   "cell_type": "code",
   "execution_count": 81,
   "metadata": {},
   "outputs": [],
   "source": [
    "new_search = ''\n",
    "for i in r.get_ranked_phrases():\n",
    "    new_search += ' ' + i"
   ]
  },
  {
   "cell_type": "code",
   "execution_count": 83,
   "metadata": {},
   "outputs": [
    {
     "data": {
      "text/plain": [
       "'know covid'"
      ]
     },
     "execution_count": 83,
     "metadata": {},
     "output_type": "execute_result"
    }
   ],
   "source": [
    "new_search.strip()"
   ]
  },
  {
   "cell_type": "code",
   "execution_count": 53,
   "metadata": {},
   "outputs": [
    {
     "name": "stdout",
     "output_type": "stream",
     "text": [
      "5e0c586f047ff909c8ed3fe171c8975a90608d08\n",
      "1579fbff7af9b156c6f49fee0526e48f852ea460\n",
      "38aa050ad79d8a1d7022c33535255ce9d47914e5\n",
      "61722c462b054f36461375e96e502cbf22648c04\n",
      "7107f088cbed45d8a06a026276ccf4d602d50f10\n",
      "2188208efc7ac8e7721dfc5cbea787d5b62c3537\n",
      "dd74c8f2961dc716ec9d0c412206c88e0cb9b314\n",
      "2530bf775255e8026438e91645aba95d0506928e\n",
      "48bd5f768f3464ac253a120d2eddeb89c323f324\n",
      "2f38704ef0009750d4c48d1cd7ac81e898023527\n",
      "207885268ef61365fc89820ecb7c854a3dc23d9a\n",
      "6810812121d66ad44b45c388c3744a4b5f3bb001\n",
      "1d39fce3c09c95c13c9b8e18c1ab9a85c24ff7c6\n",
      "a4ac0a556416712bc053f001c5bc6931c908bfd1\n",
      "2106f8105f3cb30bf479fdcb6d78e4891a204080\n",
      "62a87de16c26fdb905173879c56ec19a2879921f\n",
      "7a573001d0844b483871d264983ef4a6d9fde937\n",
      "74bedf868bf72275e1d5a60150246aaae93d3be5\n",
      "c19f426a9602e64794abc621c69358c119448fbc\n",
      "bafffaf17be4302a4a6e79b3f65b9238ab00c258\n",
      "70bf84100e6157f3815acca7b5120131c0f8cf4e\n",
      "b34cc3d570e41a80c01088f73600357cf071a4da\n",
      "02c9b77cb2898b1597278dbf32a0c61be93d1983\n",
      "dacc557b6e40bb69974e2e1a831aef665e524867\n",
      "111e82fd55d8b42cd523cf365b53dfcdaa2165d3\n",
      "ec4a332b863ec8c1bbf94d605b17c67acddf0889\n",
      "4a64ef9057367aec43ce6b8a40e9bb0c9587fdf4\n",
      "725984c84bc703a34bc290f897e9f411ba3a67ec\n",
      "46ebfbb3db79bab7f78361721e37e8b35a34037e\n",
      "70da3ee5739197acb1879c1d23606681aaac2e1c\n",
      "fb773634dcd17957e12be78e5c33ba753d82d3f5\n",
      "8763c9240b22a0e841ddb6e7e9a22ef3a566e97e\n",
      "76dae8b8fd43335310edca09c522640ac9027edf\n",
      "844b876f1636f5d031fe856cd7a63ae5f5c11fe7\n",
      "1894cac8794748c11482c059bc5a2c6d4f1e9527\n",
      "ff218f343fbca258501ba42368ecbb57660e5a8f\n",
      "6085ea96b3a7c381215ba90b26f8664ae7c63178\n",
      "98e35a687137cb2b91458118347ad93f7ad188fb\n",
      "16874a8b95e04383b0ee7049220a36354ffab2ea\n",
      "f9410459142b63fb34eac0375dda7d9b6460b3fe\n",
      "7e884f1a409543ae791d8c5926e126ddcaf2d9b3\n",
      "df783d511b145a10e7f609a87392eb50799d2b2b\n",
      "12332e3ee5f8253ed8db253e1acb48ea3bc8f27f\n",
      "daf5c921872ab27dc1a714408f626f49c71480e1\n",
      "625afb5a588fd265e15b652a437ef9f521682aee\n",
      "1b7c700ee3a33c0a675a5f7e71a20ce62467b900\n",
      "5eb20deb48c231973cf0a796ca1c6898cbf2d07d\n",
      "d9c950cf19a2048596a6e143471fb2d0c009d8f0\n",
      "5535ed240ab00c780ce2aa42f1fbe13ef24b9120\n",
      "b4d499844440e3aacd1644715092e8d170e39517\n",
      "82d76d619e7be4f0ef2490f933d140ec9f722a55\n",
      "eb5417b7729ff5548e5b9ddcb837fa52efc586f8\n",
      "183e393843de9d6c653897f1039ad10af9750347\n",
      "704a894ab79031263de39fc49d954f7d13aa1bf2\n",
      "7aec817203fd739cf21556a51e240c4cbbec5dc2\n",
      "6f06d1fd7c4ae1397b0a8f5192e9f0c7dc5e62df\n",
      "7c852fa9a4b769ebffabda42452bac3fcb8af799\n",
      "1638100b254164ee9af7d66be61794a7efa07b78\n",
      "fafeffb0d38a9c4b5316f8c28b10f12c156dee7f\n",
      "2718d50101d585d27c5c817dfe2fb1dded056e1a\n",
      "415ccc587d634fc429ac080cf06694f78621ef73\n",
      "aaa7d4e5136a4175368222cba1f76b0a33f5a688\n",
      "ad04f777044b7de892dbc174e31e88e63a160c3c\n",
      "864336d3d1a34686efdd078534a092fc888c2c3f\n",
      "43c296a219a62ac9f9a632490034b6fdfc7b871e\n",
      "404bf0836c388f561f796369c26d0bbf6f37b407\n",
      "732933f36dc0c57fd8094f545c5e82d7192a13c7\n",
      "78b7a343a9ffffc005daf8a962cf9140f5dc8735\n",
      "88a48452ce073c9968ca2e2794fc0bccfb5dfc0f\n",
      "05916d82efe1f937ee48f09df4e5d7c6fede83d3\n",
      "dc3df0a30a76ca925a5cc4466528ea0c4dab9638\n",
      "756448c2d7dda1e89c0ea4acf6ccd5e2ee02517e\n",
      "f06b500cbbffe7641b716dbbb90f0d40ed7839d6\n",
      "02974b9466bf593193d05ada669d7ff0567bb657\n",
      "58246d246bb1b2288dc58245c475fc314d34cc83\n",
      "e204da6f7d00469d696968ce521afce85abcb16d\n",
      "1cc6f07d9732099bfaf29a079e415ac683aed288\n",
      "0d82c429737f250a7bcd230fea2e4725edc2439a\n",
      "e8fb4fc190b01559236e15a3541862852851cd8a\n",
      "21a539cc5e6c5ce8c39d80a59033791d7860a8b0\n",
      "5a575cf8c90efa9e40cfbf87f2a202bb39d68951\n",
      "735dca3ec505ecf1a2e01d913c945a7d18f3efcf\n",
      "52e898e9b4110cbc6a8beac32cd86672f96489ca\n",
      "05ce1f7ae3a2051067e57e5e52f9cdad0e26a187\n",
      "9ebef419c2970287a5fd24ea38695453e0bbfffa\n",
      "bdfce208ef62424bc68fdb610364dab6416365e1\n",
      "0a1533470817bc5ef0d0d0af56386a96b505dc0d\n",
      "c923009c37cf93d35e69ec161afaf3cc334e03a7\n",
      "fee63d10e8db56b72c9385149a4e57afa8500981\n",
      "c3461b2484a2c1b0532e47afba87d235e350b9e7\n",
      "4300be597ccbea9acb374312063e2776b7f631c4\n",
      "45f1fd0f1962aa8162216270b1a97e57e0708b18\n",
      "77b8d67e208f5ba81ff129e0d4ff7e1b73c45482\n",
      "7ed1dcfad7266bfda122685c0009ec526f77909f\n",
      "d69356747d4f5a940f9d2ee6e643d895b33f678e\n",
      "54b5dbd04a27590d6b7d0e0e899cbec62c9f91c0\n",
      "cf750714decab335f8990db7d0ca100506fa99fa\n",
      "9a5586078edf5a43100db04f987d635d39fee4a5\n",
      "ed92789659fddd64f955bda40d980398b681bb6b\n",
      "b3873c777b754d108ce93d5feca0c3dff4a74564\n",
      "fdd06eeb020a963754fee36852a5918a93f7856d\n",
      "e39c8a18a3d59b83951c4ebc331c17a54e6dacab\n",
      "869eacf84d79a5b176e43988c2dea3be54f6b2ca\n",
      "20d1c063410f32eb59b3f3063d506c4888c80bec\n",
      "3dd5c77b7143804f7f5c44a5d034f2518e17fff1\n",
      "e60dc2f814db6256844444e573ea98bc9a9b4a93\n",
      "e4bc8603739ef592b4ce5c2a3b92abd82a2a13ef\n",
      "ef38ed2f4cc96e16ce011623cc5d15d2d8ca58c3\n",
      "f4f9ea9e0aeb74d3601ee316b84292638c59cc53\n",
      "7cdb43f29cfdaaa897797a4dfddb41de79b23287\n",
      "7cd8d3fec1f3a8251b75a50aad856e1b5526de83\n",
      "b2e781c81e340e91a0f27009b29d0c8a3635c5e8\n",
      "a02952893a51f2255a8d9d84b3eba6fe1b113996\n",
      "8a8463146cf8f61c2d62df2adaa251adbe2f9dc1\n",
      "8d8ab6d3f0c6ff09e306c23c87f823f9382ff32e\n",
      "797c6ecb7d0eb5d6eb5ea5f081a3c4cc78be5bd2\n",
      "71a82ecd1070ef91422c1ed772c73ad189ea4c0e\n",
      "4abc50cfc81265083d4cb2aed0a493bb704d0b5b\n",
      "87b2f2205b9dea38eeaeddd6e3ddbb6e45f542ae\n",
      "4631d1a1d9384ce4aa9d96d6695417357855ce84\n",
      "2d2b70166db15be7908f748930e9c56a300e5851\n",
      "6606f7964096d15ffdcb9772acbe40ae415dcb97\n",
      "00ae0041374cbbf28df0d2cbeb08c1396a4f7878\n",
      "2ace5853970e68deefd9800fdd135a266237884a\n",
      "39e643e0263bee019519c0c51f4ae17f1fe1a0a5\n",
      "14626b4b98947a5534bdcc578b6659c258f7e7dd\n",
      "8485271eeb378baa284392c0d7174a5612463048\n",
      "2b2903114784318062dabce86e330fbbe9309aa8\n",
      "aeaf5bd4725051f6926d06450566673d1cc4a639\n",
      "1008bb267f9b05fcec7b715eab47f4a5c659c7dd\n",
      "756c529a9f26bc2cedb17a402faad6babc3a2c6e\n",
      "4c76e1e9a4f5afc01accd2dbbd43f0463744e8d2\n",
      "e0cbbb6421bb2fb309021936921aaadadfe74844\n",
      "9816051343f6acf13246fd5957e876a4db2c1ab7\n",
      "7d9f6bae2b7ced5834b4e92e7ef805d85fdea405\n",
      "5b9c63d5acc2fe8fde000803aca5a7e6a0d6df75\n",
      "0080d3bd9fb92e022c27715c2d1249042aa998b8\n",
      "1f7b47ec5e68a274a145bddd152303eba2f9d035\n",
      "59532e3fbb23c6bca0ad86898cdf50817b38633f\n",
      "5d2c1aaad487ae9b76099721947c8948a57ebba3\n",
      "25d4af008525a27cff170cac5381937b1a65dc83\n",
      "7ac11579d3d1602c4ebceee735a88cb465ff057b\n",
      "417286ac22fc95bdfe96df0dc2a7c1e3eb5befe1\n",
      "62189c3e0d5823002bc5785f7acc61d89fb85666\n",
      "c383b8dedcefbf78e370b0152058176d9219330e\n",
      "3115260ab0b83020627a59f8e6c47d8e33337d3d\n",
      "65aa725092d0b73054cce187137a0c22afb92d10\n",
      "74813899dfd7ad7de15228fd014c735c3410d9d9\n",
      "6bfd7a2e092c039e792bae569c8406f2a47c2759\n",
      "9c8c094a83e54d4a3f6fba2fc8a4b95f889c062c\n",
      "f161447bea90a1e414e3cb22557efe9156bab8e2\n",
      "31fabefa068bca926a43f94ef80df1daf41aa806\n",
      "cf6c6fa2a4cf3fd624d4ef8291804a3fab3f1b2a\n",
      "34dfd4d983484d85d797e915cb47041aeb4ced86\n",
      "4b2607f3da8bf06c231145105ffd5ca24a07bbda\n",
      "d30e8b7dea667b484ce677f10755c971beff8e17\n",
      "bd0d94a4452f2b55cfab53adecb84ce5f2c91fe3\n",
      "9aed1e2e3dc529e3863b89a60bb4e377e8c3a3e6\n",
      "cd3c7bc4656919fc9d8564bff6693b24631f97d7\n",
      "ae29a35ad6b9e4267e1d965b523a6b72cb2c088c\n",
      "ea40bddad18086f300f45b71a07f3e4c14e060eb\n",
      "7150b10d52da822055fd899a9df210131bf8104e\n",
      "40ac6a37f332f47ff9e9c6a6f8b1d5d21752679e\n",
      "d86146bbcb9ae18278150f4cb241ca1ce31fbf28\n",
      "8a14b75626a9cad7cac350437b7af5e0e4bd5127\n",
      "621fb61c827a3f1f0c6c69849319ed45f6dc1f5b\n",
      "4439e815dce011452a7edf3a68f737f1dc40fae1\n",
      "9faf6a32a170b3fc5950af6a7d34cf710c79321d\n",
      "7969e6c3564904ffb7928747d52f3edcc7f97fff\n",
      "d5bcb5d8c2edd7162e5f0fe6c189662b39eebfbe\n",
      "b4b8196a56fe00d653d288226f12952824c5b7cc\n",
      "7c8655ffbfd16f13266b635a0a9f907579f0969d\n",
      "ab1ac4f7b9c57dad5e3d61f72e8e3d552059fa09\n",
      "2fc84e709c4978a92c3f4168a6c145080d1b046b\n",
      "999baa06c2bdc67ba7e4707ddcf5b3b296f85985\n",
      "e09ca57e55d73869520543f456019ee081d88a00\n",
      "d4f00f66c732c292fcfc28b19f44daa2fa620901\n",
      "2f74928e0d29d3724e184de8839982d6a44fe8bf\n",
      "6799e37b5fda2d18292b86b6a6c7ba1eb185d018\n",
      "3619c9e99ff6ceb2fa038d13239e6fce4e818995\n",
      "c8b1da52eeb1d7dc2ff2f2f20a44ef13160fd626\n",
      "a286c95345592981acce2ffe297605fd083d9fe7\n",
      "e48be328050790f8d642f93c224a2bf0d89c19bd\n",
      "a969190e8cae42cb65e639aee83d71d9f78c4dc0\n",
      "17bcc640fec147856a5d625a1d17970429665b65\n",
      "ae423f7ae98fa3e8a1249bd193df1c09bdeedf7c\n",
      "a2e8d9291e399c6d8adc6d39318de197e86b3f4e\n",
      "eb4b8f43f68db5e493984b7e4e56d9f804d7e885\n",
      "c13377750d32446f66a4bcd0bb2da626e4b2a035\n",
      "240688a5e42b8cb41a65023846705179bc9efeb2\n",
      "069b422b624f7d6bb46b8381030550a88a3b30dd\n",
      "4cbd54dab5ad14f6d8c5ad9fb9bc223cb4431ba3\n",
      "fd1e95e046ac945ddbd0a1a515dcabf031f31244\n",
      "936e6e20342454e2646bd840d70148c893262146\n",
      "5fc3eedb09f3b7624fec7d2b9afedfffbab47a21\n",
      "34e4b49c46c5462089f516983eeb19a6aff69d01\n",
      "2183478af3f9343c0f566eee8b5d95a1abea6754\n",
      "c5f1d681eb128c9c044a7f5ced6e0e943b201e93\n",
      "fcc66c2bb245f7ddfeccc64ffc5a10013af74a60\n",
      "4e45854eace4e5bb9255ad31f7425545f931f3fe\n",
      "3bd56ae4a76caf910da9be6266e18b74308364b6\n",
      "1a383f04a8ddfeba2113f27e82c41d0582feb276\n",
      "9bacd5e08a587ec2c4a6f367044249fa7c0129bd\n",
      "0ac675fdff45bfddf5aea34d37f58ad7df4f78b9\n",
      "51c863bc37f993b3da543b91458e3ed5abd9aba9\n",
      "4465b8957219de75fb5b7f7ed57069405572cf00\n",
      "03fd3a4ec79ffea2a049338b2818457e98496df6\n",
      "4f0e7fc5e32e927fd76e1f5c156cb9caee8eda2a\n",
      "e5a10a7f2c9bb07f74fcce076a62f63f859cf3a4\n",
      "3e7cfb0f2665388e6a1f1d8a92b16d16f65563ea\n",
      "42966e386536e2e45a30988e43e762c81e7ca6dc\n",
      "ea7ae35a6203f68c29d8aa305a9d89ba8c76d284\n",
      "87dda3063b97a87338264b45ae16045e46cb237b\n",
      "ddf124684188ac29dba3b174f327bd0fd62155bd\n",
      "a21809b3622fbd0f1a0ef01eab221fb05ada15e3\n",
      "f01ad3545245b4f884b48aa2b69c9deb942c3e77\n",
      "a5a3e3edfad63f20fc48ba5885fb9cc863411d2e\n",
      "0938d2fb07611897abf38cea727ddbeea77b73d9\n",
      "46e2d24fe550946db723bc2af9e6d8cc043ce4ab\n",
      "c6b7bfae68c5c25203f76616c028668feea39e8e\n",
      "eaccbbd4d93f295b6c22ae217f159c288b29deb6\n",
      "efcd7d171bb51acf2ef0a631901900497957a3be\n",
      "15909c5986b0407310ef629ce19ebe562be7c20c\n",
      "28b906cb5b5dd66df68bdd155ccc2ab514180c2a\n",
      "192e7d37cf521798de0394c2ad593f2bb77f5a77\n",
      "6fa9d1fe1938a48f36f837cec479925de3a69b64\n",
      "cc146665ee73fa1830b7c42a24cd5844346c0f39\n",
      "d71c2fa8fe1c3df75d031c50267993ede529b85c\n",
      "cc4677c77d61de96ba2873ecfc8faa4a2f393def\n",
      "997f6355fdf8531d31a8bdadd1067f651e2e3d41\n",
      "f4a82ad66962355ffb09e4d1b57fde3e94f0ec53\n",
      "cf92667ce9f346dd79bc980fdb5d21a5cf6b334a\n",
      "395fef2b73d1c568f900de94f5f6d908bc305f24\n",
      "a69d1ee507dac9ef068764a5f6cec19be2fbc4a1\n",
      "60bc864d9515f3919e673bf5eeadfbd60ef84770\n",
      "4d1696e014e57ca335e9fe116840afda273d2ba9\n",
      "ccdad2ec94a4e7dfd973faea6ce2fb7854b6bde8\n",
      "b29aec7c51b6c428e566fa6e092797fc4da21b29\n",
      "f5f53c6d9a31095c447315d0c2ebc42cbcebcfd2\n",
      "84a964d5dde5ffc12076b7c43ac5fff52210ad61\n",
      "8e08171efdeefb1359c606284d75271667ef8252\n",
      "c3b24e7070067eba2414138f7532d66ae829f9be\n",
      "979d953fe8641bdfaf6479a9b479923aae95c86b\n",
      "7045ec55df870b7d611154081ae7e469883f64c4\n",
      "424f52f1d390c220aaaea5efa3e59696a2e903f3\n",
      "a780aef42860533f02e613494ddb8283b9fbe83d\n",
      "02a29bd2f39ecdbbb5e51a003c0bc7818029f384\n",
      "abb624287a5b93c29ec470b38dd4d03b21c8fc34\n",
      "6cad43bc914661354dc70f971c5517021eb3a823\n",
      "4a4829a678305f54711666d194597971627c7b48\n",
      "feeef400771697981198a218da58c34ebb7963a0\n",
      "6af49373c566eac05d2609e3474e847157cafb3b\n",
      "3f06c41154ff140670ba10f54eeaf640c39f29b9\n",
      "3422bab59932dcb046a0dfe931eb71173130979f\n",
      "8ba20a12c92103d82364b8abca49cfcd91d91c13\n",
      "62a1f28a0ad0c2c37252351ad64fd7d8b0efdcc4\n",
      "dc69e220d40597887fac3851a1601408fe7bf568\n",
      "f54b1d2032db8537d80fc36e29bc6fcdfb878435\n",
      "76d446112561ab0100feb5323f071191e0aa02c6\n",
      "474978e3a0f1a8064083d7ae5136b968d10184ab\n",
      "bab3d2a212eaf7740a45ee8efeec3db99bf94589\n",
      "4a698e56af8042a4c35a26127c4da5fc5ff7fa95\n",
      "76b96ffbbdea59714eba9d891362ceb32731ad90\n",
      "8da5d4c7d3f991b1538e839ed944dcd2167112d0\n",
      "2896c5193ae79e31e46c2eb50590dc8d58fe9a44\n",
      "f223f427cbdd077ec84931fad74fb3a7a46fbc67\n",
      "19f5eb39de2aef11b4e3b8c0fa4b92f048057d83\n",
      "259ac67e44e833ea06564160ee399b76985f1145\n",
      "ee3d6fcf2ed5408aef9c152f2e7145d916a1baee\n",
      "07899a6af647ba443bf04599aa35d111d0d08cb3\n",
      "5adf1ce218579cf9f0f919c778c05bf0f864c1a5\n",
      "c9ac0a1d2dd861bfa590dc654ddadb324a993fa0\n",
      "e6d560c0ed2c420b3ca34de569c8a46d3722e2da\n",
      "ace038ad5c62cabf0d49f6b8cc9aa0ee6f39a656\n",
      "3380c2147c090bd81525c67d4200fb3860517008\n",
      "8a665903721dadcf01c1dd7476a7715709cee0ad\n",
      "b7f783ce7fc3715b718384a9295bd8afb24b93ec\n",
      "3a5bfccbd47694771018f0ee03b0eeedfeeb2ef9\n",
      "e7eab33081228b6405ecc7a3d97fb803aca119ae\n",
      "76e0bd45995e7799e0f52be915f66719e24265a9\n",
      "4ec19e6a2799bf2bebe635732de198d04ddedf64\n",
      "0d80c3f53b8900bb8d958492553dc052c2b3c628\n",
      "bed1c9834dbd81a9e254940379f80c3447a122e9\n",
      "8171299fc5073dfe98c4c56d5760ccb5f802f8f0\n",
      "40bf10143cbee94371fb682e9bf1dbfe05884433\n",
      "ad6a3623db73b778bbfabb99c47116c30459e66d\n",
      "59c761eaa72007b50d08705d896c18b2802e2cbb\n",
      "989b3ab9e08bcef68a844c9a522771d41ddf7cad\n",
      "1808454d2e8c7d1088e58a5e3a52111a8c507554\n",
      "798026310eaadd09df393473a730d6935f91b4d4\n",
      "8b67993220966ebef79688b594d852e4da9bbadb\n",
      "3aa241293d8448d3b6dac7fec4f2565114b746ce\n",
      "78057e9db3bebe6ecfc99fbc036414ebd4115cfd\n",
      "01cadfe2bb23b6989e57fce2ba744691557faa93\n",
      "4ea6973e872fb9116a21c6539d2aba2ea5c1337c\n",
      "0ca5279816f66f7fd8c0bdb09d15f5953e019b68\n",
      "fe83b78b82d15a20c4c1b07f472785d851b5f982\n",
      "96464179873570564cc07be6219abb043caad44a\n",
      "e6b8ff26b423ef6507f006d69f9a183fb1147988\n",
      "75882d6856d4243248aa32fe119153efeb0dbe12\n",
      "cad994637f061356cd5ea11a7570b2f5ad38ed47\n",
      "7b0510f8258fc50bcff6f0e1a66c54c04093f9d1\n",
      "afc498abcb287239b8ea84ff535adf09158b0cfe\n",
      "84737ac767f2be6c8623fb433c75e0fa5faf95b0\n",
      "86fe00ed292aab3fd191a7f8253d33dad3be59b3\n",
      "fec3f745a9b28ad09219b8a5a83433af27cc5b01\n",
      "ab1f467d067233119dcffc5c542a88cbd7794397\n",
      "47dfb70a9174ea549a6850eb64223361ff14e597\n",
      "00c19aff3efc6e6430f77d81580ac927990ad5a2\n",
      "a5bedf3a8d33e6b501c2203982eaaa5567011d86\n",
      "42bb18ca1f49d74b80f2bab85b3878cade647b08\n",
      "11f13e2859eb22b349dbef68fd8124b8ba445aac\n",
      "4b9911544622c1028499e1db9cf9fb783c2ed863\n",
      "b952307f004f6feab9b3ae2cbee6d14f28ef9b4d\n",
      "0eae6cad68158cefd58f69d7517a869f9621d3c9\n",
      "ce75acf2c22c37fdd88ecf5ed40c6713443fef47\n",
      "86dfb3c7e72f3aec8bc2f425f4fd5c4c3aab2ca4\n",
      "7cc4fbbb0881277449c41f6f408fab4fb9b907f5\n",
      "f8b28dc077a4d62178940c43350079dd6b0b91bd\n",
      "17cfe7cc0c68b1002bb31a2b2afa988ab9cdc890\n",
      "59d3f98d78f2ff993174b173807435e75df8bc3a\n",
      "335e894a725e26adfe71b89170e3fc1301eafb1c\n",
      "7722e2866e2b7849cc2f3175430a1048d97b71d9\n",
      "73aea1df4694235764281acbc9a19b37525b773e\n",
      "4e83f87fdf5b15fb7962c1b6235b520817924a9b\n",
      "343aeda9b3a81a9db2f40386f3991ef6c48338ce\n",
      "b75f738ed440a2a6bd3f129238c0e661024577cb\n",
      "72a5995cb9dc08122a069c6b02e72f2894e0b07c\n",
      "6fd5ec9e4ec79f24c0bf011e388410d8ec35fe0f\n",
      "68b8a4f644c4195bd6a89ea7e70cd45072ea979e\n",
      "e24a0cd976fbe3f6a625425e6c9899d52af1067f\n",
      "435c259a0b1c77cb1fab63dabf76fa1637d8e645\n",
      "08d0057eaad519e3d6ef88ffbbc2187b2c11f126\n",
      "f5e974ef3a8c983ae63ac4f4aa2b6ec0e3678032\n",
      "c24af6314214e7d2ef8b04419efccd6f7f900858\n",
      "3557b5b8c5052a1f7fbb18130ace9427201e0fe4\n",
      "9df4e2297f45f9a30993d6c526bb9bc87afa9ca4\n",
      "634b79269e0f00d35bcea1a2dc7643884b8c6b3a\n",
      "de2da69b84bad743d1e16d52a12d4ea8ca9f66d9\n",
      "6c4fd19f82c72d0d52f0de8c0290f522646c6da7\n",
      "08dd1169c7aa45621e5f48bf6246b049e071e445\n",
      "5d9c87ae912ec13a723b6d75bd0ab59618a39164\n",
      "c7c6c6ff7580f79ffba12017575ac3ccca4bc9b7\n",
      "88f1de42ca135e68ca9aa6a10081091fc4443028\n",
      "7dd0d85115b61c06ca2cfc389b6dfd2517708011\n",
      "8a3678c3ee2208d7417bfdc62558fe0e32588eab\n",
      "7df37eb3cc184f38b1d97fe12f7176b5da78f77f\n",
      "61baa9b1ae842b28e3e7aa90a3e8034d96ba9aa9\n",
      "b85671451a6132068f92e5da9590cbc9ee5867d5\n",
      "45673bc77a85f522c99ddfa23654813b570167bd\n",
      "c6b416e31cb51e4ecc6264f20bb37db28e9a4cef\n",
      "9992ffbec7c8256d057b05a858cde82d36d64ae3\n",
      "31b039f27dbcd96df12be89f281f576d26fe80e1\n",
      "dd2054667f5f1db92d4649fc420d0d86dc39dcd9\n",
      "6b20f25b48785e488fb280a76ec8f1da3bf8e2a0\n",
      "3b7e06a340e084847e969e188f5d2a7789af2f25\n",
      "40c1f536d2ba1ea36ff1f17881df3f1073e76586\n",
      "697cf5b78c388d6e79a7a87ac9b82e4911de135a\n",
      "9721af1b88d60abbff468d841941f85a13731861\n",
      "655b175741b74ae8c98f93fd449c88a147bee96e\n",
      "edca7aed5e25c0b8888f93a5f78ce0a1b27ed1d7\n",
      "069d6ce905dc7992f5bc8692218ca3969ab3e227\n",
      "1a29f97fc037ea6456b41d054e5603fbd4f76e94\n",
      "97ab5bad794553f1af287d9ee88c0113e1ba80ed\n",
      "629a7c48e6c7c91265533e47a8e7f3afe54cbc4a\n",
      "cb763a61411514366d16bb2571461b6df1361517\n",
      "9633dd466a1f1c402c18d7db00bae7bf1eea5250\n",
      "8f4aac04423c7ebb955c7f006665728fe95f1498\n",
      "25eca606303e4a141d7f3f4a1c2e4e8138e9667c\n",
      "1185a17f1cb650e0433ab8c84202cc242c54f6cc\n",
      "31cfa31a4d8a26ca083257be0e6dce51562d8c6d\n",
      "d17a476d549a21be3e70932a10c6fef328f42ba6\n",
      "a2f961fd82a92373256efd31318904eaa6cf6c64\n",
      "0969d53ac7a447d43b431dbe9744e416de26df38\n",
      "a04371951c94976a9b879f321764eb6dbeb4a9ab\n",
      "e0af0e80af8fd724d1a23f90590617d72b452e1b\n",
      "ca5a2024931abd516addf3c4007d9a5b64432275\n",
      "3d4b0d8d4ac0c8419efb82278b823952e94d1393\n",
      "0241ada1b12eaacadc56a59586bc1728a580583d\n",
      "f7ff81d2d3ae773aa28836cc485617983d7499ef\n",
      "c2952e4d56bd9bf5c6eee0aaa733557471e60a92\n",
      "7bf54447fa81cd0f3c36e6e6455e80241fe82b0a\n",
      "6177fd107242a0dbf2cfdd0d617e6a384dba6eaa\n",
      "8e9605de5913710c88b1107fd65dcc26ab372805\n",
      "023b805a96c852619186f55af4bbbdd5f9fa8156\n",
      "b454887997af026ed0589fcb18e59aed44473e1d\n",
      "b314e4a20b1f0a2f4a49afb65c17859ad7d50c4d\n",
      "685efeb0ad4c214b8295dc4f723c3269464772d8\n",
      "02c4e304d5e063e9bd66d293a8c1472a5865c173\n",
      "5c364a85b8e920e9b4ad2fa201589fc319bc174b\n",
      "1ed600013524263a0c93bc38bb0c4e00acc431db\n",
      "20651c857a793c827bc2d32bbbf6392e8285b84d\n",
      "7a9b57f8fdbedfe909d69cf53de24646684624f3\n",
      "5c4dfdf8ee6230324845b917be55c47d1e991f2c\n",
      "3268f252e2559df8ea83c97725a4412a003670ad\n",
      "588bebe109353fc242f41c7655aa3bf906cecc3f\n",
      "5c8e391286fba644689754596eaf50c7f32b5a99\n",
      "d7fa2195f292b4bd5cf3bce7670b11c254770923\n",
      "8a096b3f838ccc2fab01f191ea2aacd2005f3f68\n",
      "7b4b3759cdde4218ea23a081b386bcffd7e6afc6\n",
      "a43db4dbbe6272ff71bcd5dc9cbf29bad9cd958e\n",
      "f48a26496eec9f955c65e9d89305c4bc5df2718a\n",
      "f592542c73a8294125b53d9eeef9a61cfcd9b1a3\n",
      "52bf83ff771d92f697a4ab0cfe70a99503940050\n",
      "60d68e4052a397966e72c6eda0895ca7d27afb68\n",
      "0be7b06a39aa31b27514a501ebdd477f42b0919a\n",
      "59cd9fecfcd1ef7eb2bbe427809ef0fd01e894b5\n",
      "ea3edffefb5fa20412b31e223330af336503afaf\n",
      "59a34f8561b8a70870682450d318e81fc0820676\n",
      "fbb1af3990778d2061c8466c3a5156fececf146b\n",
      "8f7db32196a87deaa43589b325f60156efc5a63a\n",
      "2a7fdc03389aef740cb9d6de762e96e52473b236\n",
      "fa0a24c1abcfc2964ea0a8f4c4c3df322713eca7\n",
      "bc381e908d987cbecf5fb3df2640a7c878886405\n",
      "9e4f96618ed7ba4ba54c5c479ed595f1eb12fe9a\n",
      "06624de6d8b09e5db9ba01c4cc721583331a40b5\n",
      "c79cfa0bb8017217a2626f1b4aafdfdab162a8ce\n",
      "60721983c03cfb1fd6e277fb6cc20bd117a3df80\n",
      "8446bfae882d6ec192e572e9bbcb858eeae83cc8\n",
      "4099867282145ec32ec26620f381a9251f160f3b\n",
      "e9d32ac6db6f898b035aab6d4357342c3ae2442b\n",
      "2fd0fccb43ad3cb1634370734ba27eaed2cf015a\n",
      "345180770287ab9188e2dcfa2fd2ba0cd58214bb\n",
      "0d12fa6f695fdb75443b00c49514e7850ef461e5\n",
      "bee044e4101c6958db139f19f6dd751990c2ce85\n",
      "804df67d9b05a58b34332c92efec930254f5ebe3\n",
      "68d01d19a8c579cd8c528e8e24cd0720216ba700\n",
      "65ca70396d041072aeab57a007cffef0870897cf\n",
      "f61c2dbfa5417548e87ffd4da8286b37f9479b09\n",
      "ef720b08c80cb574e3db1e48be65750ebb4b5104\n",
      "5e1989bee9ae95c79dea0e12d9f455cb1d2b61d5\n",
      "0a41b85153ef8a084f7b3476d4d38832f533e914\n",
      "39772fc7033bdfcfd0a6fb689d7a5c8bff2d80e1\n",
      "21c5b88a655bb1b5b8c3c3cd1dc1aefcf2c75cbd\n",
      "50ed67f9700cce235cfb173d78b22053243c1d38\n",
      "5afa333a59a3d818c758dbc752463b90436a1c57\n",
      "15dd9abbe4084c12712f094415c5ca9980aaacda\n",
      "a4e2f812c3232e60ac1af78fed10d292e28906d1\n",
      "b35c5f90e09d90f6fd6cff9dab355755e4c33fe4\n",
      "89444dffc7f46f0f52709e43550ddb363a720340\n",
      "ae40184ce67c93d60f2d5d00f451b00017af16cb\n",
      "5af166022c0575cefcd0f2107b4fd1a657b6391b\n",
      "fdc201b99c8f08d1e81622ac71114605c5980a8d\n",
      "1ef024725b588f435abcc6c51189d14b223d24fa\n",
      "7173c0b2dec6dea33c883abf933ebc5fecccc320\n",
      "3fb8269503a524e2257482ce479a05abd732ddfe\n",
      "789ab4d7c1e859c96e68389e03290355c30a03a7\n",
      "01be6aef7ae6555eef2062bddb57f8643d1244e9\n",
      "4c84dbfd01f7b2009ebed54376da8afcbcf1ec64\n",
      "d5dd18b98d06fac67015e3619c8e501ec02ad5a8\n",
      "8abf33baca8c7abbbf6ca5f56b404b79f658dd26\n",
      "7e4905089dd52ffd586f780d272e2cd951457196\n",
      "d5878fe0a378d553186b212eeaadaa60257e933f\n",
      "73eee0a2bef0ed2414da19d441283224da1988be\n",
      "a4cfc3e2cc8c3a69d8a6384aa77b9a9ff7a51dd7\n",
      "331efc82eb143a10c93bb64327998b525bc461a6\n",
      "624d182cc7495a9fd996eb51663e8774a42d2cca\n",
      "10a9a18d6d821b917178be32b20f98c9e21d6028\n",
      "70b27df77b5f3ef4c9be9028cc34110d4dd7d22b\n",
      "74d9a4215dd1ab6d78bd9b6dbd2dc096c974cf4b\n",
      "ac99323189694e10b699a6c845bd15b86cc06d82\n",
      "11a3797796973b32b0763f8127b908f4783e5734\n",
      "8b25bae266584f12c3b5af9e5cf3e81c84808c36\n",
      "2d73c30f41bb0fd24d5ddf1e71a472d971ce4d6f\n",
      "502fc7e74c22bd0763542416c09589b5dca35b75\n",
      "921a97ffd33121fd2623fb899b386adce87a8562\n",
      "ba2009991ed471ace18c92633780cd180404c4a9\n",
      "df82c611eb38c4c9dbef1a86da01ca432e61c8f7\n",
      "e2904c6e462291682dc4d65ce47a91bdc8509747\n",
      "6653fce31fb0a8080aa11dde06f1c32032b28950\n",
      "4afc459e347836f0f92a75ab0c6cbe2e02e6f3a4\n",
      "b73ed47108764542fff45d065e68ec160f10432a\n",
      "c48bb15af3fe47ce755d022245d64cc0df2537e2\n",
      "c9a6a3d79f58c4b3a62e2913aaa1d076e5abf7c3\n",
      "e1e50e72368b173717a1b7f886c65c61ce5ade59\n",
      "fc151568de57c0456578757131c3b49b86286b3c\n",
      "7a4c5c15a8bbf8fdb5694b2ce8aaf72991784476\n",
      "54fb720924d357327cedcc8da45b5e0ceb5a0006\n",
      "27f21ae7789e41a6de01554cdae09cb93ef8524f\n",
      "c34dcfec2a5e68f31f6a0401d2cd636021d984bc\n",
      "67c9acbf8204919fe540d58d7db296b9210f1e90\n",
      "5229d13f7a121dfc9a455d2ec0807e3966da3e19\n",
      "ab98d1b125aa0704e63adef426b27abd32e935f0\n",
      "306d48f87402c3759c22d1c5fbfe4ddce3fd5967\n",
      "86239535bbc306bd90a85a6145840c784fa35d82\n",
      "c14ce2c27ca770924c1ca4a4fef0fa5b532f73c1\n",
      "ebdb4e508a69c6de68663ab53a00331abad6a19a\n",
      "38df3b1f635f3643d1a818ea62ac60915d71e92c\n",
      "0850c64c0da308f2f30ed9f9bca1f6eb4a6423d3\n",
      "412e5e7d7abb90b1bbd1e91d1c89b937987e376e\n",
      "123db7e17bb17a0d4ff1e7ef87cb629d6ac78125\n",
      "d33624f8b27d81d663f54d3e167aaf15968ff8a4\n",
      "8987bf694b6225f6ea230be8da0238e7a6e671cb\n",
      "caf95fa590e7cbb34e10314bfd93beb44e35caab\n",
      "5c3f5dde0537e3072d046990501a4e71471d9ddc\n",
      "f243e05a2d51029218e0c313b20fa57c65104a62\n",
      "66db6c73e03fd309112101100b449e0464d81aa0\n",
      "82946d26f79e85f1b37f6fd965dc1d8a2ceb0c4d\n",
      "f06dde80e1f11939bb7306853ca92a8c9382ede4\n",
      "8b61716032c98b87bbc4276d9fcec91025574467\n",
      "b87ddf92d90fd58bbdf08981116cd7841d75d483\n",
      "a79847f406c9f694222cc18a1ffd04dbc0c06d08\n",
      "63b21e59e43206a09eaa36fdc5233f22af7515e3\n",
      "ec7e7937ff0f3f8561b73eb8a4d34de49e35e3ff\n",
      "b1ebb695b7eb5d98f551f2c3ffd027cc0bab2016\n",
      "9027b4d1324273bed34f667f3d61d2536e9fd316\n",
      "8f9f22f0d245cf41e5047230fa1c907b47a734ac\n",
      "51e10bb6f0ef0363cab568d94c52db244ce7ad1f\n",
      "87154b31b741f39ec7e34f3590f80b9a01105e33\n",
      "061eb24a1462aba7b53e6c099fe5d4bd046dd56a\n",
      "61843499666ad3d4f0ea75554cd06a745e9a7f8e\n",
      "323c52cddef7a35732afdc41dac2a1aa6cb60f16\n",
      "803e5ac0891c5ae6a165ca754e04fcfbb6e06394\n",
      "2a8e26038c98efac0a61629aa6b768fefad5a573\n",
      "0c0e91904a6c84a7ee80cc69fe83370aaa3ca708\n",
      "6a68e3a345d7da33f2fcb9456aca1998647cb69e\n",
      "66309c65612bed65732f79f347693a170e10e1f8\n",
      "dd75883b3cd3c5b39b7cc9db85f682047961e1a9\n",
      "63e680dd648bb477a87f55d53d3f0ff3f2c18e0a\n",
      "19babdefd145a5becbc2a0b189eabdafa697de75\n",
      "75bee23cd59f44b79301f951a5627c47a1adcee3\n",
      "76260c67421abbf69da3c4b0c75204190188a2cc\n",
      "e5230a23f4c70587a3cd4c19f54ae685125673a2\n",
      "2c7f8c9a78ec06b29ea61f2dd02730d2c3af1cfb\n",
      "25affabb80bcf3e1a60c00fc09fd5d2e8f89ec48\n",
      "968d0b07b0b65a15cedfd2357e3ba9649742836e\n",
      "73de62f8272982125df5a376a10f99267968c6e4\n",
      "712c86986815982dc6d918b660f70f5e05616643\n",
      "76d7fe0354828411a05ec3846931ffdf23cfe1cf\n",
      "ddd0fb0cae99bad6466775c11b4d5a0c30be9219\n",
      "14374db205f6934d9cba148624462000bc6ec7be\n",
      "ae99d270c1b2d2307c4375fecde1a037c263b507\n",
      "96c886c9234855e0fb6ef46ea3c5b7c1c7abc652\n",
      "b0ae17e124d5aff160a564dd700ff9d5ee31578a\n",
      "12127085d9546a704eb677320d4df5b44f4dce8f\n",
      "2563d232b59f44a5431f582cdc965b3de048e8dc\n",
      "f2615e2f1b1e1de90023706bf99405151406bbd8\n",
      "f53604d28e212733384d7ec28e84d4a62e506254\n",
      "a4ee99345c99a1f9806c8d17dc7e6accaf5309d6\n",
      "d1fd1fafa75ee05827d3e7e916a03ddf159317ea\n",
      "c7ddb36588a83decb4c6bcd033f9a0b208e66973\n",
      "24beb94c313a07be6b0c745a6ca8a3d810618506\n",
      "63a206dc7356041e3054110691cbd8146278cee1\n",
      "2616c5aef5cc1449e5a6b07264e1611efc93f4df\n",
      "d92d00ed95878f5a37061b76e848fda5b11d21da\n",
      "84e8a4145f06c604f8542ee458480c8fa50bd1cf\n",
      "7aea98cf7d30beea6043c5e62be3dafce08bdc0e\n",
      "a336fd69f73d0debd55b454b97ff45cf9f39d82a\n",
      "73ae7423efc653849fa7d2b6b2770164dd02b2c1\n",
      "e4813a9f4fee2d74c954d90bed67e8738047a390\n",
      "3e8d0363f49f83917e0ddddf7b4322186da47dbc\n",
      "eabfb15b60476742917f92c6fb60a7bc6ec203aa\n",
      "188f3e97042155ac1709aa8b74c0755760c3b50d\n",
      "42d1823428c311725c7395123a3c2c276b7b5fd1\n",
      "a7da39018f8bac38c77086632a5ab80e8fe73516\n",
      "6efeb37a50a81c7769a49bcf030e54b148bd1fbd\n",
      "4eca3df95a8bf82f07ba51b6978bd4049f8df827\n",
      "0bf39c12d7c4576441079e2e758ec1eacfe015d1\n",
      "a4860aeadf8a51f4702262a58b808ea851eb4c27\n",
      "78f939545e7217684295ab63900119ab1ebdb173\n",
      "f4016789973bc61cdb84c457c95e15426e2143b3\n",
      "5f938778c47463eaa1e15fd63c0656cf830220e3\n",
      "65cc7496f21429d81b3ae129d9c39764e2a1f568\n",
      "2870d8384735793d033aac6c0621f35540b59736\n",
      "5645bc52d703b021b132a5bb5ca1702809db4cb5\n",
      "0f157fb0a719dd0d52fb921fb1369ccb6477636e\n",
      "5599f83a71c2303da5ac9a56d85ed29bab998507\n",
      "3498e7e96b742565d9041107cae12e667b394f9f\n",
      "dacb58b5ac7adedfeb44dde5632c503c5d37548f\n",
      "311aaa859b69a54fba2d8a532fcf632599002edb\n",
      "085c71736d6b79717bb03aec375310d9e536f851\n",
      "61aa22d85170a908912fd1f0c0f86ea251b4e311\n",
      "918502b9ff6b04705babfc9e08f9b0f7c7ece9cc\n",
      "861fcade6995d79dfc98e9a584edc8cdd779324d\n",
      "e398a3cd7f7d75bc06f0f15103309511299bb653\n",
      "c6ee9f876eedfbe7aa60473dcad1e8fcdc4c3a2d\n",
      "473b926e3266337d27883cca29c6186faf3d7ba2\n",
      "5a57a6330daa19227fb5011f690e68accf1c4b1d\n",
      "da81f0d3a12ab7faa09148acb6564271474e9e02\n",
      "b81a921bc4d2223e69b7fddf4f1d2a3ba7622f92\n",
      "4a94f3fe57da5dad4c965d59faf0facc2039175a\n",
      "a36b65d00944ef78c5bc2b7bf759122c2ac4eaf1\n",
      "0bdae8c38f570965cc9a630a44b7089c2a5da0ed\n",
      "7fd0d03264447b79984a3a48e12470e08df672d0\n",
      "7ed7b23c66b9c4ad156f37619f8b88bc1c1e996b\n",
      "e9c8c9036e9dd48230c81ff006be5fceba73660f\n",
      "421ee1f936a1714743c3cf06be01220009624a03\n",
      "2afa3da371e5495dd55f0b4dde4ae7700eaf99d6\n",
      "450c84277f6e9475368ad36719ef5d7b6595b514\n",
      "c851e8a17951dc6f713c2a832e6a516f72154a79\n",
      "c92206983f9523a96c8ea02210f70ee5640edd14\n",
      "6e6fb58bc0253b1c8326599159f321be8a37736f\n",
      "db5b99eac0c11848467c40af5744442e0b869870\n",
      "4315ae43f201739bb56193e328dfdbd8a6646b4b\n",
      "8acd105b3e312e23a1b21670571450798f4634cd\n",
      "da2b69c89152ddb6f2df6c836bd84aebba2a0b65\n",
      "b4ced0e08f5b03e84a5addaaf3557b3cdc1ef277\n",
      "3118aa53f6b7e539049e2a52e973f4124ba121e9\n",
      "23696844593c72dd8c4d74607ff26049336fe9b0\n",
      "c1edf39ded74b76134cc304dd347a4eb20bae012\n",
      "4b6f64a80fb18cd5fa4b165916603d65bc6514e2\n",
      "7bb2233fecf687276332f5cfe4630d5286966390\n",
      "7633ee09c0059b99608c1cfbeefd19775c0317ff\n",
      "bab3e74b5db5b2e04b521d1172b9df7726871aaa\n",
      "26945898e55a1c496ddbbf74d0fdec3eeafef9e7\n",
      "0a124d3aa26def70b2db71f68c89dfe1996daf3e\n",
      "272b73f1f4852e9c37a862eab96131a5d27e1892\n",
      "e2b435104da658ed6518247430cff1d428aae830\n",
      "fb4cdfdd952f7140a732d294b97f611c456aa6f0\n",
      "3cf1d3f730cadc87a4392893ee1a6d4da9cb5efb\n",
      "a65111e0e1a8f26d4789ea6439cae1cfa5b391b8\n",
      "34f0507e2d36312bb0a90c6c9a66acd14d9154c3\n",
      "10905e5423cc57fa9bd97aba8a348a3866953874\n",
      "bc5761e9d769b9fb1e723e1932ee3c5d4e21bd0a\n",
      "2c6d57a5c31e345cd689687255b13506d71df902\n",
      "d12f82f17862869b5118dc55c63929adc6597dd4\n",
      "3ab1d505d3521db73f63ef84163a41fa2f3dbdf6\n",
      "c95aaaeafc4bea827a28f4f300ca76608fecd107\n",
      "db0f13123f5ba69c4a2b52b2d87fb2f5cd350c3c\n",
      "40540b92cbf5d985e0648733de6f4a9062e1bbcf\n",
      "914636db7f8a6361126e805e4abd3c8a8d5ab31f\n",
      "ff4fffe02138b0b232334d997965d11fd936916b\n",
      "3c7d045c73a10e8b81cc58d86d7cf5d144f83b1b\n",
      "e164fa160155af75c4fc98397014ef055030950e\n",
      "6907124581ac28f6712e3676396cfc4a3b8a9502\n",
      "f14e7b5fff3c2ac074e61beacf4fb1bba524e438\n",
      "eaba1af19b87795dc237a55c0236d89ede3cf46a\n",
      "09db5b9c6d7c4f5d804c532939fb4f824c409bb6\n",
      "85d7376aca04b7df9b23618734948c2814ccfe19\n",
      "360991ff283a6ec08b264813dba65427cecfa615\n",
      "77907b0bbf75ae10794ca69d97b9874159db1857\n",
      "926c0d5330eefdb58452c054c8387da92e9d0590\n",
      "c98b61b984da63b53eeef9f81e31a5ee79396b1d\n",
      "ec0a66b8b227c1a0ced88608d544e3b98120d557\n",
      "12aa5eeb50296d810121cc1b2f87f053c39ce204\n",
      "7f011d5856d476496de3e715d8f77908f2610e30\n",
      "60dc97efd7dd7a7397593669cfbe2f89b67d6af4\n",
      "d78837afeedbb3c9dfa91a675aa03d34ef5a4387\n",
      "15dddee0b99b7095553fde91f32e7ae83c15e9ef\n",
      "4fc79293e3efdfd44b408d923b2448ac6a5ddd0d\n",
      "b9a74f1f03a9b75351badb02e13448d1f65f7ed8\n",
      "d088899449bf633659a0c6018571d0f6f7d58ec0\n",
      "bff6e0b359144d2d7f0a1911dc76443c979690b7\n",
      "2bf9a03995b1056dc5d3e353461d3a31a9348885\n",
      "3eb1bcee33c1121bd5307cf9a0c91f2510f4f79f\n",
      "78326020e9f7cd75415a3a192729ccf0c0930281\n",
      "4278a9b763f17829897dde88a49fcab6ab86b8c7\n",
      "ee632fa425607e8ff91fc3730bc0782d43ce9c0c\n",
      "7b22c0d8cb7675bcc5aa283fe3bfef6c72052519\n",
      "2a5d09bdb532096261be55490d99eb996e05ea18\n",
      "49c210ede22653e57df63a78de1c116b79b518a5\n",
      "575faff450d20d0f359d000ebc8b66b638094613\n",
      "fbc5981e0920859187fee6c4243de58c9906f2ee\n",
      "b5421a028a9ff8b2f36ad9be3c51d3d0cb78ddd6\n",
      "ee8dca216514deeed4c9415bc2ad8a78dc3d9670\n",
      "f8b26adcf8879212e0c3d9bd4067aeb8f8ec3824\n",
      "310f2c636d121f3a0e48ccaf6b97e4c3c8ce5abe\n",
      "590dc551804c7579ac9623ee64f81d1186261faa\n",
      "51f8792fd26cd2c094c1b2d0e5539902fb6221da\n",
      "8c6ca63f974a55bcab6f773fc9cda85c938b93eb\n",
      "d336ffee34085032c158363c77b69204c58ca85a\n",
      "eff8bed68ef6109e8f0c51a8b1ec4b6ca5b6329e\n",
      "4d2e434006533cb3bbb701dffb53169b40a9c315\n",
      "8e16bcce21552d6bb63b2407557f0a8dbd8b007e\n",
      "dd916c3ebb297ef2b6a36f7d6f33bac8ed1198b8\n",
      "c8df0fd2c7d06947d2bb15ebed6ce0bad831b297\n",
      "6a0c165fd5c40909228209e01112875b6d968dea\n",
      "4bc6d312effedb4dafb7bca22236c006ad1f7136\n",
      "56ac442721c9e0f335024cb4e414c9f00bc53aea\n",
      "850c8a23db306b9410adc341809d40d8b46635aa\n",
      "ecdc5c17ed143ffed9542802ce029dd323bb6a28\n",
      "0ddcfc9bedfb0a87a7221dd2448bd41d3ba9cc51\n",
      "de836dc0077e520bc97ba60c40fab7a6af4d8224\n",
      "ee1b5a9618dcc4080ed100486cedd0969e80fa4d\n",
      "34b2b1fe3361c684f52c9a60f48f579edb8f52dc\n",
      "8e47f269f449983eb0dc70d257f09f27b1e81247\n",
      "d9d2f8f421d0290a8dbf0ec92cbbe1ad2d93a694\n",
      "20b5fc51aef8b077346c4587aad3811eebf8b11b\n",
      "c65fdbefc02d44dbadad79451a6253465f075837\n",
      "7a5e362c102b0d9d73857a7e10df920d3a5e6334\n",
      "23904278d806ced4d6fd0ea9b264d495562cf7e1\n",
      "e67d66fb0773322520aa527d533c6cffb08016a2\n",
      "626347808e0ebaed5176f6a00206c35e48aeb90d\n",
      "0638a299934da797243f6f35a516e172a38466a4\n",
      "cf4b53e86101ba9279f53b315f8aee6ecba9e0c0\n",
      "9235d0eee63bf8da637b7b63b983d58d2372f0d3\n",
      "acae9ff2aa45fe67cf994e18c4e7e8d95353b0c2\n",
      "298ebce4397c9735f69cb5fcf9ad82881eead18f\n",
      "612fc352956cba3b9e5e74179125dc5d9aadba23\n",
      "f8abd9e10df6beeffec38bc7dd7083318e0d69ed\n",
      "12fc7df6445be6360090621b75df383ce86772af\n",
      "89f70b62cc7e6aa71fbebcc3194b4ea5ad756c99\n",
      "cbb02b21e4165b060929344f2f02ab6859016be3\n",
      "69e7ecb2ece358ef53df31c8ba497a183b007cc1\n",
      "e458fadd59e9f9ac952f6c40f283b14071174259\n",
      "5a054a570f409d5c2006369f19addc98d024b6c1\n",
      "edcf92549f64338ff9e1d47d45b150ef4d6177b0\n",
      "75a8ca179e8e0405a9c150507809c0f5c38aedb5\n",
      "66a6a5cb7b41fb6edd030629be7c455c079f47bf\n",
      "a093f4ef60a47e5419181f6826ad4a45af198056\n",
      "01cff21366d475b5bc294c90da89a521b510234a\n",
      "17787dbfbb012b537726971936c74cab0aa701b1\n",
      "36c6a493ce71b4e2df91b9b486cc847833a4ed25\n",
      "06190bfcbc53a5d5d17e0a60a3a0f6488d8ae1db\n",
      "9f9e925d9999ab39745f2ee8be3efffb5277d082\n",
      "00951716e01c8e0cc341770389fc38d1b5455210\n",
      "524020333ab93c945ffd02838cb08672703724c1\n",
      "150e648964270067a1ea14caffbc3427f756dafb\n",
      "d16e1bd4c6cae1bb55dbc695c5e2ba5105a13921\n",
      "22b2cb7ff5ea6e57e41098d8cf66aa69a5d04bc4\n",
      "837935e5f921344c58f824f262566bd688ceddb2\n",
      "1eb37c6ac1e51907a8a1d5f31c45fff08737cb36\n",
      "e3c77bacc976ab718dae1e74bedb00219d701c3e\n",
      "b87033ed15a4d9f337f37d67516b49992fd923c4\n",
      "bd3bd3ed5d72a3ce42d110a8de6620b7b0f9f1bf\n",
      "d603d8aa5b328d708683d754f224c1f9d170fc64\n",
      "5f28070e492b933fa2cfd460fd67b9f6731c4345\n",
      "d85a85112817de11b60dd2e8f8177a48c3015442\n",
      "b6c13abe9309f6899882babbd7cbd1b4140c666c\n",
      "2d5a036da3eec69cf318ee695e8bd53347a61a1e\n",
      "7dfaa4c09d874ca072da1848411baba5c552b8f9\n",
      "f19f2b01d3520c10962617e9f078ff9a5a850c88\n",
      "84f5fad8c5f0702b6816a479ae152a2dd58fa7f4\n",
      "b9b85a4893f9ed75881adcedbf142098bd7edc93\n",
      "f3f471d10a36a7a28e9050c10bd4dfd680cba17b\n",
      "79a70e09a449e41078a23b502c9a645a1e177eca\n",
      "89ac1ba1b647165fe0cf9cefd3dc65df8c162749\n",
      "9aa51dd5b5755afa670398027272f2e6b4f3d83b\n",
      "5148320311832c95cb1c8b4fa32569e5a7945ff9\n",
      "bf78c49c0e8c888ffd4b8f800895263eeca69ae8\n",
      "25d8592c8527ce05463209c6e0c3f61c75b65f86\n",
      "baa22aecb85ba7258afa2c07891ea8f08acdefa7\n",
      "c4f2c649c3390b0a84ae38733bcbb9dfd054ccfa\n",
      "47d93c4d0e435b2da5ebc11b4404ed209447f5a0\n",
      "3128ce331b8e280214991a3c775c895045ccfa70\n",
      "19d93173c328e9ca42bd4238ccb39aa8da818422\n",
      "e788ce631ca8a7d0a0d0b48dfd06d343de282972\n",
      "222f2de4774452963b9c8b640faf80dced073b64\n",
      "c351ce11cb0157d1118dfcbb55cf9f8bab0ad35d\n",
      "41734f9087773eafddb2a6907b4075a3cb661a85\n",
      "532f2c636fca1caae1f23885b9dc0e3302a0afd5\n",
      "4f9d106c41459601d3804f9db29621c92c321921\n",
      "ab15d5ebce1f5f7cf0e689d32a55701e9e8fcde3\n",
      "f837cfe73ee695265382ec9873726fcd7b24d9b1\n",
      "9c492e76efc05b17e67a3e09c7e3ac44cca89e29\n",
      "c1e4465687748c1d03b1c648b1558d1051859b5a\n",
      "3fa2c03259615e7a062deaac928c626c0a1bfbf7\n",
      "d00648209ca5de4e196a97b0655de7bd181f518e\n",
      "8f962ad62ba3d5af7c52898283c4827ff71a5949\n",
      "3455e9fd57dea013498de20c236c15b7bf19b424\n",
      "232e85eda8060808405e79f0dbe13309eccddf58\n",
      "bc1beba35495c40001df667b4612b7cb9bb67185\n",
      "e6072267b50da2dfa7595ddd3e29fe99a96d4624\n",
      "8437870dfb10809764da7204fd758ff3e9ee85db\n",
      "0f0bbda51be06c5872606d245c145bfffb3971e4\n",
      "272c6cc36e652db7f8d263194c13b2a5c92ed92e\n",
      "39f33cf580fe6ce842e2c9005570d08115c3ed4b\n",
      "5e3b24f55fdc84cfc263d4784c6ad6349d212866\n",
      "910f8cb2d8f7ceb37d996bcbf327b4f5b26ed6d5\n",
      "d882f79283751d6c7f2e48cb991ee8abbcd913ae\n",
      "d503366d1b18e110431e5dc7cfe250414c60578f\n",
      "89d27a03696c2c515c9477eb696580d6041835e0\n",
      "13ca3c0ac118c5e4f5ee9e63cca69ebd14247dbb\n",
      "b263c0ae8e08257b2d46468d7561dbb7d7d6b6e8\n",
      "7e73ff88b8e995535a2783a7ba78a743afd557a8\n",
      "37142e322bc30493a97e2aff05533919897e39ef\n",
      "b7ff247b83afad127e3d971006647d12ce097d56\n",
      "164f0fed97b05b34ea5df0f4e4e9e204d05f7849\n",
      "743c5db7611d4af74204901e0ed3b6317a0bb3c4\n",
      "c83a4991d36a6086da50b13968955329c5f07a6c\n",
      "94fc08607ba07e9f5a0239d27251d4cdcc6bfd9a\n",
      "7f5ef8185f8934ab5b5eb4344dad20da84d104a3\n",
      "8c78151fa23bf78cc20b2e2c5c0b47d79d12a1a6\n",
      "b121a4b1dc6d8e513631edeb11421f20aad79106\n",
      "f28c1e92be3354c2df1cb282177ef962c3b5c9c6\n",
      "84bb5b317c837c22b090bc10357a3542f58402bd\n",
      "3ddbaa41fdf3c15e1677fd5cbc0a7d6c7f1e51fc\n",
      "0539cdf9c5215f7d1f53d1cb7af556ba1f799937\n",
      "6aa72847e6c019bbc18254ec5cca30db62200120\n",
      "00dce8da5fcee849b30c9d7a7e358c5855b14ca9\n",
      "574285d317ef91b77f2dc770a3dbf2a9b514de21\n",
      "64c59c6ee1a8693c4bc296bf844047426f046e1b\n",
      "daeba3efafc5b3f9e71e38069aadf1e0178bac9d\n",
      "4a5e7d2f1256d0aed03adae0c98c5bb522e28748\n",
      "b0ece8ef777c5e15e41c4140cb6be2a8944af191\n",
      "2ec6d0d83b08c9b4e1784e319978aff1930d5484\n",
      "1ef187d95b5c98c9ef187f3b5cf23e276bf1b018\n",
      "10c5b88204b337e7d05aceba5fc73d041153d0d3\n",
      "b4a0898920270c599908b3efbf4f7342a8b56c8e\n",
      "e545cfc731b5511fe89ef69e6d09cbc9bf428704\n",
      "6f95128d6a8899b5c90dc234a613d4b08415a9e2\n",
      "73af6e73949ec28b7c3b13d24a9168e891d7bb23\n",
      "2757ce8aa9cfdd87202c39c244d8f8313f4a2ca3\n",
      "f7c3160bef4169d29e2a8bdd79dd6e9056d4774c\n",
      "5881e62ed1be0eec6603b49cf10c413d3c1e560f\n",
      "5908982f4dbbfde0faabcfadc0988b8a19223411\n",
      "f8207b55dbdf90c353bda7975f849d94bd704653\n",
      "0ed0bedd5005e893440208e3a176694c21e29db3\n",
      "286bea94529dca847214023bb3eabc8b2bc59760\n",
      "9503694069cf157e33e29033469edc8d1794a35e\n",
      "6312f554c8e95f9c8f3b5c0b150d88d35d657ae2\n",
      "73a2171fc7716dd485b9c3348902a7672213fc0a\n",
      "d83954775a8f0d595494ce00018ae409739f1062\n",
      "1d0c8b03f2da34c55161d6205a97d06d373762c0\n",
      "045b111f0f2584890e9271399aa93c917a496662\n",
      "8b4bf48f0df4492821623ee6951fc65503514846\n",
      "c59d6e789176b928523129adb96ca495720a3b4a\n",
      "ec29bbff5e2e2eeb4bdc6651a3fbb49441ab2fa0\n",
      "f44786ccd9fbd63530866db7c60cac06fb9b0fb9\n",
      "62426ec5038825e2c7928b6ac82a66ff1c2a578e\n",
      "11914635e8fc7c041e815263d5e20ca4ad9166bb\n",
      "c47b1bf314263894ae9a5589303b7af810741267\n",
      "c125f2b3071406f51b9b9aee860030b2f402ee77\n",
      "faada181a26e163dce05aa155b1516a66bb6154b\n",
      "2d298d793c2521ceebdcd2c4be960591032ae0d3\n",
      "804a9591280b7f64fa79cd3e4a9358976b084ffb\n",
      "e57993034cb1196b96daff4505db38640782f4a0\n",
      "7139441855f3ac67f104fb9e067b1359c5582fd6\n",
      "162d42b98a0abdf3d7ee609fe464918e457f55fd\n",
      "bcfa3dbb3fadcb51bd684e07b654328d2bf4e0db\n",
      "bf0c3f90978f7e4794dfe1dd2d90ddb592fc6549\n",
      "7432dbac9b72daf18b639ba85a59b2e676b6b09c\n",
      "69422fc5757c3c88a574d830594a4dc1a06337b9\n",
      "4c45bdd7e23c8ea6b0dfb04d48a5ceda8f022597\n",
      "31b6292728805572de28133c6eb02ed1d44ef211\n",
      "78233b5cc660bff6f716fa6cbb967775bf5c7417\n",
      "376c6616538eb3ae465dbf8ebe62c99193ba5e42\n",
      "812cc3ff2d36c2d370f943c6fd0d2d45b918296e\n",
      "d8e9ba5b8657f01d92a6da7558aa323fa9ec5539\n",
      "a52566f6d96ec5a9a371582766a992a4ac38bd64\n",
      "de793a20bfe9029e76531469de1054c4d5ef37c7\n",
      "362ff59c268fdb40d5a9689c370beca4f2a16d66\n",
      "a087143ccafb8699cca687a6548e99633a98fe21\n",
      "1e2989b7156dc944d0a24b596fd17aaa08b3b56c\n",
      "1e981bc1ac8d6a8ea0f8e21991e3f525ae0a16a4\n",
      "9db78243c51590cfaaef835ded1163dc55d67cc0\n",
      "729e5d420ec1a80d31928dc8bb261610a93aa890\n",
      "976496c92ea74a516df11ebb445433f724e7f522\n",
      "ee14de143337eec0e9708f8139bfac2b7b8fdd27\n",
      "ab85c4fceac01205bc463599fa6263a6498528c1\n",
      "63dda1b262c68b84a8058a50480f0d5ae1b4f2ae\n",
      "1ba33d95f798c3f591766786b165215875278bc7\n",
      "4ed62784e978048e7494deb2f61a562c8140067e\n",
      "4d94a96a67f554bab5caafc4501fb7fda538609f\n",
      "e319e1968d1de70b511e1b51fa5a69b3c75e41d4\n",
      "3024739cfc1f411186c0844a254501c14301c935\n",
      "11855c4ce9640d35da8dd4c54e913843a41c9252\n",
      "357a008270023e621d758ada372b14e676edb782\n",
      "4c9d7e3db46a6026e1554f2fa3df4f93645381e1\n",
      "d604b2fa9328520de1cb77b550803b82b6bbbe87\n",
      "b56db50e2116c867bbc86aefcdfec72c74e971ed\n",
      "39cf0b0febc53a4655489e3e458a93585b68093d\n",
      "008d980cbcc283a9b707de3d9a02573dde8528ac\n",
      "aed0e70359bffd12f9748dc4d900d9ec3a170422\n",
      "bbcba5769c3aef1594790aa0d845ba112a0e1ab1\n",
      "a81f08700b297b78c8f255c4a428f2675ca45ef9\n",
      "9c8a4fff809abaa0b5ede6a28db62da5edd082e1\n",
      "17d6161faae981aa6c56ac58d9c1d30ed581b05f\n",
      "17dbd5741595c1e5b7508063b31147be9263e7f0\n",
      "17e4de7b95ed440d0df3a87e85e9fca8b64b0de7\n",
      "c3c131a47ced4db370181524292fac5627fb6389\n",
      "103c89c60d7d24bb8432c4b7a61379f9e44fe6ea\n",
      "a202e355aa31c4286750c9f69e55c18fb49ebe54\n",
      "438e817dea190348df99e09a8e519fc64101b899\n",
      "2a5f81ece752816e85edfe177f324c522228f292\n",
      "d9eb8ffffee8147c850b00f613a1978c18505580\n",
      "21c1fb315716ec1e3930c51350ef05c922a05fac\n",
      "04f4cff6c1a32e0edb50bdb8daf00f82708a5142\n",
      "5d2bf5e0b24d87dd18a0dba2ef76131efc31fb2c\n",
      "2ba9b89e1cab4bfe6b3b82046e458fec8eb12bbd\n",
      "e066a2eab75d8d421fe141176355bcbabc52b4fd\n",
      "4cd3f43501d49e775838473a3edafb55e57d08df\n",
      "d9006d571ae04afb914b4bdd5c32f2090d409b4c\n",
      "58d91841094c91e8269b22337c66dfa16e04b965\n",
      "1b41bb775aaf552e944aceaa31f52814e264c78d\n",
      "27ae3f39b9760d891f7c8f2fd3d1b6d5e038f232\n",
      "2b2ec303d28afd9e460b710dd23efe264a5359f0\n",
      "bb89ed5e7ed332cbc8565262db8a04d55e2869ef\n",
      "3cba082e1f0b91d9143ea8e72eada78be0474064\n",
      "a1efb6bb6211fc7190f9e06ac0929d340e7aafa1\n",
      "3bf0902346541d9c58458ab14fc97d2f95e2f63d\n",
      "b7430273f21b3a172f7f6e796636e376c2053fd8\n",
      "57d6bf2cc1fc387a33ba3ff4343e0bbd7a12dfaf\n",
      "5c29db6b02088e3b38e416bf32f6a02dbcf9cdf8\n",
      "cfdac27f152143ecfce91f501ea6a992be428333\n",
      "be314554a535360c674f8666efdefd43e38e5ccc\n",
      "2d5916f47ca6cc70ac9f50a2cb85be34b6f8e029\n",
      "bbd8195f35ba4648be5eb649a3038f7485b7a71e\n",
      "dc26c72d4373332c80c9cab18a7e3a8b41211333\n",
      "02b8dea56378d11fe92d6a60ff37a34b0d6ea63e\n",
      "3af2a50a4711db48012cf6972cb579f85cf1da40\n",
      "ac6a39a0545f0b00b01c5e6875632f9c0f8883f9\n",
      "31f30e0bd74035d9bbae69437e8af989fa78966c\n",
      "9d18d8401ce2aa056ff228fce06c4a2d8c7f67f0\n",
      "0599be2719a0557e53ffb238765c811578a0cc9f\n",
      "f869e0515c1a31c8d4c1770a053ce1d933c30241\n",
      "dde2f725f681ca3d6af28e816b5b58db9fe56551\n",
      "8275311de465e4fdbb25ebddf76302cd4603c36c\n",
      "8a7647890f01aa9c0d085a1209235e832369bb44\n",
      "c2a4b60c4285348cbc44c501adc3dbdc4088870b\n",
      "0bee52e6477404d2aed60b9ae06ac53bf92660de\n",
      "5dc1559b4274012d8152b7c5f4ca0d637e8b62fa\n",
      "84efaac896e551763256fd4d16e56a99b416c175\n",
      "ebc12f30fc9f5af973cf8ede49322e2c37f68a2b\n",
      "ff77d5ebc39274bb7729f2b5261bca574bdfd6a8\n",
      "43f3b3e2af86af484ab7aae55ad9b2354e4a14eb\n",
      "57debc6d188282301818dada90a7cee441c45379\n",
      "893e7344ac32678f26385d12f05ab2a06ed3544c\n",
      "0a6d27149c1fc958d4f6a598cc165a7cb0ee0185\n",
      "30b4defc3cb6deb9e7b1a2719d0537ca01081159\n",
      "cc5ffabf819570a8912666ecdb9de62cb48e0387\n",
      "fa5e90f78c7365ea9ad6b8b9cf9b6e43a1ca727c\n",
      "682a9c91d32a70c08413f3c3f0daba54239c0af0\n",
      "5b8be7d97df4b06c42eedda3d997677d60100828\n",
      "9447f072b9c3281b75034071b735888370faab25\n",
      "9ea62d48ba2e9f9c122aa34759f9bcb5451a09f4\n",
      "40a57ffe8adda95a13b552b630b13d76344f666c\n",
      "062d0779c4b304f4188666a3989152d9f9557340\n",
      "a88ec297fe59d6c950ea8123ddda210a7b134032\n",
      "170fc4f86244f8f795de48b349db6759add5a834\n",
      "058b0cc7cecd43d80ed47196cb5376fa10efb58a\n",
      "72761826ce01da1fe5599c79547746b44fe5ec49\n",
      "eaf46f27d9c28f8b3c818b0d7969d9188a7e9c11\n",
      "1f4d59790ebb50fad78486e25156bcbb6b1edb40\n",
      "1b1b133fc211d0bf8af604d58bedafd5fac7cde9\n",
      "e0bf08186f4d0b6112d6f4b8535584739da35596\n",
      "e5db7954926b0072fa6bf086899e4faf42c15f3a\n",
      "b6f6aee927db36fcefbc96af78e21ac7d0059b4f\n",
      "e633cc8cbce07eacd478bb25aa824872ad55c59d\n",
      "26ee25b06063d12c5685b764db2c72fbb17fc31f\n",
      "ebf25663cfe4314966c86a48ba4ce6a04a435760\n",
      "84befea7ee1f85d2e9367d83bdb4834d56f9682a\n",
      "d29ac40afbb28f3dff1d4923aae6c01299399334\n",
      "1ac9aac4ecdf40363f1377cc08484db3dc4abf93\n",
      "7d8b8767e12fc4fee2b29c6473b7dd1f3244b933\n",
      "bf7d69e6d9d85c3870025ee9e51632ca44283441\n",
      "48aba0f18c129840aeb900f176b1f40de0b598a4\n",
      "dc180c51f54487e4bbbd129c1cc2e30deacd3181\n",
      "e408e143da8a102c318c2d30be909628b96e1175\n",
      "6f6da38ab5fa77f94deb29bfa51504be4ebd018b\n",
      "c2dfec16dd4c29856ec78ecbe519d7ba387f01ab\n",
      "c3de717508f4b790f53e9e998ef61c5f27b00ce7\n",
      "cac8f96521f21bbd0a84861a98a5715d86b293f6\n",
      "5ae7223cc6ab3437ba262bb2bb47768948e01d59\n",
      "cdf3bcf39150a5ef5537651e90d93cbccd097f79\n",
      "f1f24521928f5d8565a15a17bd7f79239a3d4116\n",
      "40825b0106c7d8664276f75be3df4a75fb046c44\n",
      "c280d46d6fa7e2c2938a5c09bd6b092e1058a9b0\n",
      "3e3dc81c5985a37a950e4f63ffa10f4d5f9581aa\n",
      "77aae7c898acfb4ff723de2af7928a38b169878a\n",
      "c08002cc1b2282d646514bf4f2abde54ac144994\n",
      "5db737c9e3b8b52dd6c4778e9ade92d2ff9fadbe\n",
      "6fc8c1b4cfbd790cbe02c825fd6f9181b1fc6645\n",
      "d0f3b9b638c07e1becd5d360d890349f4ff6a8ec\n",
      "aebf3e6b69b0563ab38d9d973db9a7795f75f47e\n",
      "1f534cb2b4a2d3482affcb6d7a1dd23be34f9321\n",
      "586df1910ae9b76ff5b5524315d37ee83cf14d84\n",
      "4c452cc6bb3cb81575f11749b5fb5e5206d6836e\n",
      "4a326f7b32461745b6e168b454a214839b704865\n",
      "040c9714be80e4a337f6737d17e94171c25cc076\n",
      "10093bdac52a5e404369bff30a4d38b2bde54276\n",
      "eddeda2da89b486d01f0afaf67af974b9f214306\n",
      "1f8a1700ee536e43e65c9ba4df7f87b0461ee999\n",
      "eb07f3436bd925c0de35ecbe26930536e8bcf200\n",
      "ab40400780c96601bae9d2f4d1c317dc3322f865\n",
      "d06c36f9ef81b72f1bdad04a8fd4579d0016c2e9\n",
      "60bb4454a34fb7642d6805ff6261abc91809a135\n",
      "0b8c67ac3dbc51ec4287e9a76541767146106129\n",
      "20320bc56f02e0fc4bc6430ddb0efa564db40cd1\n",
      "45670b1f604c315c742a23956615cd8ef7745f3a\n",
      "0741533a3a9c97880fb1d7f184d569a6e5191ef1\n",
      "2707c7b6f2359bae555dd7f24bfc3ab092426ecc\n",
      "24d774f5b08d9ca987d0d23927d92ba23f131931\n",
      "6f07f87e8ef78f0416556e69c88247e588f9192c\n",
      "06e2a26a1925334deaf6621d3b2763924de55b14\n",
      "30fcd017c21fc5736d621c560aa22d624f8fcc87\n",
      "6275144a4a4a08d1c72f3c52109ac757c72e6424\n",
      "c6518c58374cc315647f2873a234cfa983746bfd\n",
      "18421f153f74c6b0f8f9efe88c2aad6b70547b99\n",
      "00142f93c18b07350be89e96372d240372437ed9\n",
      "4b3de92b03457bddd57edad106262751d712c528\n",
      "3bac7494aeafbb2f2cff25690dac67e99c120029\n",
      "23a2c32c86891deabe9176b41434f3ed202a5055\n",
      "0ee1c7181e45a196ce3e91a128cc64426fa6de5e\n",
      "9d63191505e7cdb2dc1436228923fc97515e2ea1\n",
      "8a696028212fb6b878bf7143927566fdb6215f06\n",
      "d1c89147e1f62ad58bc92990ab797375e3aefd98\n",
      "2c33d7f0e90a4a8a7e7be1d56308496b7e13dad5\n",
      "3e03474356ba4414f631c94959e3c22e8e239c49\n",
      "c047b0340f79e0d34787e5f3500605b8c20e827d\n",
      "b0e52525fd4deb91e0fc1fd94e9453fddce62905\n",
      "4ee51bb838b0cdc2e59317a4b837f2997795b665\n"
     ]
    },
    {
     "name": "stdout",
     "output_type": "stream",
     "text": [
      "8134e0946079f5ef0bbbd7b65ce13657483b8160\n",
      "a08f5fd1ac9fc3e33a771787d584a845a8558cae\n",
      "4e388424e65f63b5cc6b567b0980d430cb2d738c\n",
      "6224ce8bb65afbb10b08238d5ecde8991d7ab0e2\n",
      "1f1bfc20d5fa1896482283874f8b7971e51426ec\n",
      "842863c4f79b4d13ef260ef46b9882e8afe2b8ee\n",
      "b35188139844b656464c0727fa39ec03d970c443\n",
      "513f57a7efa430c143b840c17beb62c010429aac\n"
     ]
    }
   ],
   "source": [
    "for i in subset.iterrows():\n",
    "    print(i[1]['paper_id'])"
   ]
  },
  {
   "cell_type": "code",
   "execution_count": 96,
   "metadata": {},
   "outputs": [
    {
     "name": "stderr",
     "output_type": "stream",
     "text": [
      "/Library/Frameworks/Python.framework/Versions/3.7/lib/python3.7/site-packages/ipykernel_launcher.py:3: DeprecationWarning: Call to deprecated `wmdistance` (Method will be removed in 4.0.0, use self.wv.wmdistance() instead).\n",
      "  This is separate from the ipykernel package so we can avoid doing imports until\n"
     ]
    }
   ],
   "source": [
    "distances = [(i[1]['paper_id'], \n",
    "              model.wmdistance(search_string, \n",
    "                               i[1]['body'])) for i in full_data.iterrows()]"
   ]
  },
  {
   "cell_type": "code",
   "execution_count": null,
   "metadata": {},
   "outputs": [],
   "source": []
  },
  {
   "cell_type": "code",
   "execution_count": null,
   "metadata": {},
   "outputs": [],
   "source": [
    "class research_model:\n",
    "    def search(search_string):\n",
    "        "
   ]
  },
  {
   "cell_type": "code",
   "execution_count": 97,
   "metadata": {},
   "outputs": [
    {
     "data": {
      "text/plain": [
       "[('3a8471a27ef5de09200e4d659467e203c900ae48', 2.3013047687998696),\n",
       " ('PMC7123587', 2.3067632244057754),\n",
       " ('b24beffd1af8f836c7931d9729b74078feb7e5ba', 2.384921039897632),\n",
       " ('PMC7121202', 2.4490523670813626),\n",
       " ('PMC7123263', 2.5113062362673215)]"
      ]
     },
     "execution_count": 97,
     "metadata": {},
     "output_type": "execute_result"
    }
   ],
   "source": [
    "sorted(distances,key=lambda x: x[1])[:5]"
   ]
  },
  {
   "cell_type": "code",
   "execution_count": 104,
   "metadata": {},
   "outputs": [
    {
     "data": {
      "text/plain": [
       "'A Locally Transmitted Case of SARS-CoV-2 Infection in Taiwan'"
      ]
     },
     "execution_count": 104,
     "metadata": {},
     "output_type": "execute_result"
    }
   ],
   "source": [
    "full_data.loc[full_data['paper_id'] == 'PMC7121202']['title'].iloc[0]"
   ]
  },
  {
   "cell_type": "code",
   "execution_count": 105,
   "metadata": {
    "scrolled": true
   },
   "outputs": [
    {
     "data": {
      "text/plain": [
       "'On January 25, 2020, a 52-year-old woman with a history of type 2 diabetes presented with fever to an emergency department in central Taiwan. She was admitted to the hospital because of suspicion of pneumonia associated with SARS-CoV-2 infection. She had lived in Wuhan from October 21, 2019, to January 20, 2020. She returned to Taiwan from Wuhan on January 20 on an airplane. On the same day, a throat swab was obtained from another passenger on that flight; that passenger was confirmed to have the first known imported case of SARS-CoV-2 infection in Taiwan when the swab was found to be positive for the virus on January 21.'"
      ]
     },
     "execution_count": 105,
     "metadata": {},
     "output_type": "execute_result"
    }
   ],
   "source": [
    "full_data.loc[full_data['paper_id'] == 'PMC7121202']['new_abstract'].iloc[0]"
   ]
  },
  {
   "cell_type": "code",
   "execution_count": 91,
   "metadata": {},
   "outputs": [
    {
     "data": {
      "text/plain": [
       "9394    www.lungca.org 4 5 6 7 8 9 10 11 12 13 14 15 1...\n",
       "Name: body, dtype: object"
      ]
     },
     "execution_count": 91,
     "metadata": {},
     "output_type": "execute_result"
    }
   ],
   "source": [
    "full_data.loc[full_data['paper_id'] == 'a6f478369adbfd8be967251a9bb0dd17fa436c45']['body']"
   ]
  },
  {
   "cell_type": "code",
   "execution_count": 6,
   "metadata": {},
   "outputs": [],
   "source": [
    "from sklearn.feature_extraction.text import CountVectorizer\n",
    "from sklearn.decomposition import LatentDirichletAllocation\n",
    "count_vect = CountVectorizer(max_df=0.8, min_df=2, stop_words='english')"
   ]
  },
  {
   "cell_type": "code",
   "execution_count": 7,
   "metadata": {},
   "outputs": [],
   "source": [
    "doc_term_matrix = count_vect.fit_transform(subset['body'].values.astype('U'))"
   ]
  },
  {
   "cell_type": "code",
   "execution_count": 8,
   "metadata": {},
   "outputs": [
    {
     "data": {
      "text/plain": [
       "LatentDirichletAllocation(batch_size=128, doc_topic_prior=None,\n",
       "                          evaluate_every=-1, learning_decay=0.7,\n",
       "                          learning_method='batch', learning_offset=10.0,\n",
       "                          max_doc_update_iter=100, max_iter=10,\n",
       "                          mean_change_tol=0.001, n_components=5, n_jobs=None,\n",
       "                          perp_tol=0.1, random_state=42, topic_word_prior=None,\n",
       "                          total_samples=1000000.0, verbose=0)"
      ]
     },
     "execution_count": 8,
     "metadata": {},
     "output_type": "execute_result"
    }
   ],
   "source": [
    "LDA = LatentDirichletAllocation(n_components=5, random_state=42)\n",
    "LDA.partial_fit(doc_term_matrix)"
   ]
  },
  {
   "cell_type": "code",
   "execution_count": 9,
   "metadata": {},
   "outputs": [
    {
     "data": {
      "text/plain": [
       "<5000x80491 sparse matrix of type '<class 'numpy.int64'>'\n",
       "\twith 4602534 stored elements in Compressed Sparse Row format>"
      ]
     },
     "execution_count": 9,
     "metadata": {},
     "output_type": "execute_result"
    }
   ],
   "source": [
    "doc_term_matrix"
   ]
  },
  {
   "cell_type": "code",
   "execution_count": 18,
   "metadata": {},
   "outputs": [
    {
     "data": {
      "text/plain": [
       "array([ 6661, 16776,  6161, ..., 31054, 11235,  2840])"
      ]
     },
     "execution_count": 18,
     "metadata": {},
     "output_type": "execute_result"
    }
   ],
   "source": [
    "LDA"
   ]
  },
  {
   "cell_type": "code",
   "execution_count": 10,
   "metadata": {},
   "outputs": [],
   "source": [
    "first_topic =LDA.components_[0]"
   ]
  },
  {
   "cell_type": "code",
   "execution_count": 11,
   "metadata": {},
   "outputs": [
    {
     "name": "stdout",
     "output_type": "stream",
     "text": [
      "epidemic\n",
      "human\n",
      "countries\n",
      "control\n",
      "research\n",
      "infectious\n",
      "surveillance\n",
      "diseases\n",
      "case\n",
      "outbreak\n",
      "influenza\n",
      "information\n",
      "population\n",
      "public\n",
      "risk\n",
      "transmission\n",
      "model\n",
      "cases\n",
      "disease\n",
      "health\n"
     ]
    }
   ],
   "source": [
    "for i in first_topic.argsort()[-20:]:\n",
    "    print(count_vect.get_feature_names()[i])"
   ]
  },
  {
   "cell_type": "code",
   "execution_count": 12,
   "metadata": {},
   "outputs": [
    {
     "data": {
      "text/plain": [
       "'health'"
      ]
     },
     "execution_count": 12,
     "metadata": {},
     "output_type": "execute_result"
    }
   ],
   "source": [
    "count_vect.get_feature_names()[i]"
   ]
  },
  {
   "cell_type": "code",
   "execution_count": 13,
   "metadata": {},
   "outputs": [
    {
     "name": "stdout",
     "output_type": "stream",
     "text": [
      "Top 10 words for topic #0:\n",
      "['influenza', 'information', 'population', 'public', 'risk', 'transmission', 'model', 'cases', 'disease', 'health']\n",
      "\n",
      "\n",
      "Top 10 words for topic #1:\n",
      "['infections', 'positive', 'viral', 'children', 'virus', 'samples', 'clinical', 'influenza', 'respiratory', 'patients']\n",
      "\n",
      "\n",
      "Top 10 words for topic #2:\n",
      "['genome', 'virus', 'viral', 'viruses', 'gene', 'sequence', 'sequences', 'genes', 'et', 'al']\n",
      "\n",
      "\n",
      "Top 10 words for topic #3:\n",
      "['activity', 'rna', 'figure', 'proteins', 'virus', 'viral', 'expression', 'protein', 'cell', 'cells']\n",
      "\n",
      "\n",
      "Top 10 words for topic #4:\n",
      "['antibodies', 'viral', 'protein', 'antibody', 'ml', 'infected', 'cell', 'mice', 'virus', 'cells']\n",
      "\n",
      "\n"
     ]
    }
   ],
   "source": [
    "for i,topic in enumerate(LDA.components_):\n",
    "    print(f'Top 10 words for topic #{i}:')\n",
    "    print([count_vect.get_feature_names()[i] for i in topic.argsort()[-10:]])\n",
    "    print('\\n')"
   ]
  },
  {
   "cell_type": "code",
   "execution_count": 14,
   "metadata": {},
   "outputs": [
    {
     "data": {
      "text/plain": [
       "(5000, 5)"
      ]
     },
     "execution_count": 14,
     "metadata": {},
     "output_type": "execute_result"
    }
   ],
   "source": [
    "topic_values = LDA.transform(doc_term_matrix)\n",
    "topic_values.shape"
   ]
  },
  {
   "cell_type": "code",
   "execution_count": 15,
   "metadata": {},
   "outputs": [
    {
     "name": "stderr",
     "output_type": "stream",
     "text": [
      "/Library/Frameworks/Python.framework/Versions/3.7/lib/python3.7/site-packages/ipykernel_launcher.py:1: SettingWithCopyWarning: \n",
      "A value is trying to be set on a copy of a slice from a DataFrame.\n",
      "Try using .loc[row_indexer,col_indexer] = value instead\n",
      "\n",
      "See the caveats in the documentation: https://pandas.pydata.org/pandas-docs/stable/user_guide/indexing.html#returning-a-view-versus-a-copy\n",
      "  \"\"\"Entry point for launching an IPython kernel.\n"
     ]
    }
   ],
   "source": [
    "subset['Topic'] = topic_values.argmax(axis=1)"
   ]
  },
  {
   "cell_type": "code",
   "execution_count": 16,
   "metadata": {},
   "outputs": [
    {
     "data": {
      "text/plain": [
       "array([4, 3, 2, 1, 0])"
      ]
     },
     "execution_count": 16,
     "metadata": {},
     "output_type": "execute_result"
    }
   ],
   "source": [
    "subset['Topic'].unique()"
   ]
  },
  {
   "cell_type": "code",
   "execution_count": 17,
   "metadata": {},
   "outputs": [
    {
     "data": {
      "text/html": [
       "<div>\n",
       "<style scoped>\n",
       "    .dataframe tbody tr th:only-of-type {\n",
       "        vertical-align: middle;\n",
       "    }\n",
       "\n",
       "    .dataframe tbody tr th {\n",
       "        vertical-align: top;\n",
       "    }\n",
       "\n",
       "    .dataframe thead th {\n",
       "        text-align: right;\n",
       "    }\n",
       "</style>\n",
       "<table border=\"1\" class=\"dataframe\">\n",
       "  <thead>\n",
       "    <tr style=\"text-align: right;\">\n",
       "      <th></th>\n",
       "      <th>paper_id</th>\n",
       "      <th>title</th>\n",
       "      <th>body</th>\n",
       "      <th>new_abstract</th>\n",
       "      <th>Topic</th>\n",
       "    </tr>\n",
       "  </thead>\n",
       "  <tbody>\n",
       "    <tr>\n",
       "      <th>0</th>\n",
       "      <td>5e0c586f047ff909c8ed3fe171c8975a90608d08</td>\n",
       "      <td>Neutralizing antibodies against porcine epidem...</td>\n",
       "      <td>Porcine epidemic diarrhea virus (PEDV), which ...</td>\n",
       "      <td>BACKGROUND: Porcine epidemic diarrhea virus (P...</td>\n",
       "      <td>4</td>\n",
       "    </tr>\n",
       "    <tr>\n",
       "      <th>1</th>\n",
       "      <td>1579fbff7af9b156c6f49fee0526e48f852ea460</td>\n",
       "      <td>A Recombinant Newcastle Disease Virus (NDV) Ex...</td>\n",
       "      <td>Generation of rNDVs expressing S1, S2 or S pro...</td>\n",
       "      <td>Infectious bronchitis virus (IBV) causes a hig...</td>\n",
       "      <td>4</td>\n",
       "    </tr>\n",
       "    <tr>\n",
       "      <th>3</th>\n",
       "      <td>38aa050ad79d8a1d7022c33535255ce9d47914e5</td>\n",
       "      <td>Potent Inhibition of Junín Virus Infection by ...</td>\n",
       "      <td>Arenaviruses are enveloped RNA viruses with bi...</td>\n",
       "      <td>The new world arenavirus Junín virus (JUNV) is...</td>\n",
       "      <td>3</td>\n",
       "    </tr>\n",
       "    <tr>\n",
       "      <th>4</th>\n",
       "      <td>61722c462b054f36461375e96e502cbf22648c04</td>\n",
       "      <td>2 convergent Research center for emerging Viru...</td>\n",
       "      <td>In this study, the anti-dengue activity of nic...</td>\n",
       "      <td>Dengue fever is one of the most important mosq...</td>\n",
       "      <td>3</td>\n",
       "    </tr>\n",
       "    <tr>\n",
       "      <th>5</th>\n",
       "      <td>7107f088cbed45d8a06a026276ccf4d602d50f10</td>\n",
       "      <td>Microglia Play a Major Role in Direct Viral-In...</td>\n",
       "      <td>Microglia are specialized macrophages of the C...</td>\n",
       "      <td>Microglia are the resident macrophage-like pop...</td>\n",
       "      <td>4</td>\n",
       "    </tr>\n",
       "  </tbody>\n",
       "</table>\n",
       "</div>"
      ],
      "text/plain": [
       "                                   paper_id  \\\n",
       "0  5e0c586f047ff909c8ed3fe171c8975a90608d08   \n",
       "1  1579fbff7af9b156c6f49fee0526e48f852ea460   \n",
       "3  38aa050ad79d8a1d7022c33535255ce9d47914e5   \n",
       "4  61722c462b054f36461375e96e502cbf22648c04   \n",
       "5  7107f088cbed45d8a06a026276ccf4d602d50f10   \n",
       "\n",
       "                                               title  \\\n",
       "0  Neutralizing antibodies against porcine epidem...   \n",
       "1  A Recombinant Newcastle Disease Virus (NDV) Ex...   \n",
       "3  Potent Inhibition of Junín Virus Infection by ...   \n",
       "4  2 convergent Research center for emerging Viru...   \n",
       "5  Microglia Play a Major Role in Direct Viral-In...   \n",
       "\n",
       "                                                body  \\\n",
       "0  Porcine epidemic diarrhea virus (PEDV), which ...   \n",
       "1  Generation of rNDVs expressing S1, S2 or S pro...   \n",
       "3  Arenaviruses are enveloped RNA viruses with bi...   \n",
       "4  In this study, the anti-dengue activity of nic...   \n",
       "5  Microglia are specialized macrophages of the C...   \n",
       "\n",
       "                                        new_abstract  Topic  \n",
       "0  BACKGROUND: Porcine epidemic diarrhea virus (P...      4  \n",
       "1  Infectious bronchitis virus (IBV) causes a hig...      4  \n",
       "3  The new world arenavirus Junín virus (JUNV) is...      3  \n",
       "4  Dengue fever is one of the most important mosq...      3  \n",
       "5  Microglia are the resident macrophage-like pop...      4  "
      ]
     },
     "execution_count": 17,
     "metadata": {},
     "output_type": "execute_result"
    }
   ],
   "source": [
    "subset.head()"
   ]
  },
  {
   "cell_type": "code",
   "execution_count": null,
   "metadata": {},
   "outputs": [],
   "source": []
  }
 ],
 "metadata": {
  "kernelspec": {
   "display_name": "Python 3",
   "language": "python",
   "name": "python3"
  },
  "language_info": {
   "codemirror_mode": {
    "name": "ipython",
    "version": 3
   },
   "file_extension": ".py",
   "mimetype": "text/x-python",
   "name": "python",
   "nbconvert_exporter": "python",
   "pygments_lexer": "ipython3",
   "version": "3.7.2"
  },
  "toc": {
   "base_numbering": 1,
   "nav_menu": {},
   "number_sections": true,
   "sideBar": true,
   "skip_h1_title": false,
   "title_cell": "Table of Contents",
   "title_sidebar": "Contents",
   "toc_cell": false,
   "toc_position": {},
   "toc_section_display": true,
   "toc_window_display": false
  },
  "varInspector": {
   "cols": {
    "lenName": 16,
    "lenType": 16,
    "lenVar": 40
   },
   "kernels_config": {
    "python": {
     "delete_cmd_postfix": "",
     "delete_cmd_prefix": "del ",
     "library": "var_list.py",
     "varRefreshCmd": "print(var_dic_list())"
    },
    "r": {
     "delete_cmd_postfix": ") ",
     "delete_cmd_prefix": "rm(",
     "library": "var_list.r",
     "varRefreshCmd": "cat(var_dic_list()) "
    }
   },
   "oldHeight": 258,
   "position": {
    "height": "40px",
    "left": "1027px",
    "right": "20px",
    "top": "116px",
    "width": "393px"
   },
   "types_to_exclude": [
    "module",
    "function",
    "builtin_function_or_method",
    "instance",
    "_Feature"
   ],
   "varInspector_section_display": "none",
   "window_display": true
  }
 },
 "nbformat": 4,
 "nbformat_minor": 2
}
