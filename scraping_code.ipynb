{
  "nbformat": 4,
  "nbformat_minor": 0,
  "metadata": {
    "colab": {
      "name": "scraping_code",
      "provenance": []
    },
    "kernelspec": {
      "name": "python3",
      "display_name": "Python 3"
    }
  },
  "cells": [
    {
      "cell_type": "code",
      "metadata": {
        "id": "Xdf0qthQqFZH",
        "colab_type": "code",
        "colab": {
          "base_uri": "https://localhost:8080/",
          "height": 582
        },
        "outputId": "49a89f3f-5030-48b7-bd41-2206a89487fd"
      },
      "source": [
        "import pandas as pd\n",
        "import requests\n",
        "from bs4 import BeautifulSoup\n",
        "!pip install yfinance\n",
        "import yfinance as yf\n",
        "!pip install yahoofinancials\n",
        "import yahoofinancials"
      ],
      "execution_count": 2,
      "outputs": [
        {
          "output_type": "stream",
          "text": [
            "Collecting yfinance\n",
            "  Downloading https://files.pythonhosted.org/packages/c2/31/8b374a12b90def92a4e27d0fc595fc43635f395984e36a075244d98bd265/yfinance-0.1.54.tar.gz\n",
            "Requirement already satisfied: pandas>=0.24 in /usr/local/lib/python3.6/dist-packages (from yfinance) (1.0.3)\n",
            "Requirement already satisfied: numpy>=1.15 in /usr/local/lib/python3.6/dist-packages (from yfinance) (1.18.2)\n",
            "Requirement already satisfied: requests>=2.20 in /usr/local/lib/python3.6/dist-packages (from yfinance) (2.21.0)\n",
            "Requirement already satisfied: multitasking>=0.0.7 in /usr/local/lib/python3.6/dist-packages (from yfinance) (0.0.9)\n",
            "Requirement already satisfied: pytz>=2017.2 in /usr/local/lib/python3.6/dist-packages (from pandas>=0.24->yfinance) (2018.9)\n",
            "Requirement already satisfied: python-dateutil>=2.6.1 in /usr/local/lib/python3.6/dist-packages (from pandas>=0.24->yfinance) (2.8.1)\n",
            "Requirement already satisfied: urllib3<1.25,>=1.21.1 in /usr/local/lib/python3.6/dist-packages (from requests>=2.20->yfinance) (1.24.3)\n",
            "Requirement already satisfied: certifi>=2017.4.17 in /usr/local/lib/python3.6/dist-packages (from requests>=2.20->yfinance) (2020.4.5.1)\n",
            "Requirement already satisfied: idna<2.9,>=2.5 in /usr/local/lib/python3.6/dist-packages (from requests>=2.20->yfinance) (2.8)\n",
            "Requirement already satisfied: chardet<3.1.0,>=3.0.2 in /usr/local/lib/python3.6/dist-packages (from requests>=2.20->yfinance) (3.0.4)\n",
            "Requirement already satisfied: six>=1.5 in /usr/local/lib/python3.6/dist-packages (from python-dateutil>=2.6.1->pandas>=0.24->yfinance) (1.12.0)\n",
            "Building wheels for collected packages: yfinance\n",
            "  Building wheel for yfinance (setup.py) ... \u001b[?25l\u001b[?25hdone\n",
            "  Created wheel for yfinance: filename=yfinance-0.1.54-py2.py3-none-any.whl size=22409 sha256=8ffa7542e1359d76bf582dbdf9993113715d69c7c1627d16e4e12105fcb13050\n",
            "  Stored in directory: /root/.cache/pip/wheels/f9/e3/5b/ec24dd2984b12d61e0abf26289746c2436a0e7844f26f2515c\n",
            "Successfully built yfinance\n",
            "Installing collected packages: yfinance\n",
            "Successfully installed yfinance-0.1.54\n",
            "Collecting yahoofinancials\n",
            "  Downloading https://files.pythonhosted.org/packages/46/be/44b0bc468a22e114f99dc6a1211f848e4ab7955f3262df589cea98f03cfd/yahoofinancials-1.5.tar.gz\n",
            "Requirement already satisfied: beautifulsoup4 in /usr/local/lib/python3.6/dist-packages (from yahoofinancials) (4.6.3)\n",
            "Requirement already satisfied: pytz in /usr/local/lib/python3.6/dist-packages (from yahoofinancials) (2018.9)\n",
            "Building wheels for collected packages: yahoofinancials\n",
            "  Building wheel for yahoofinancials (setup.py) ... \u001b[?25l\u001b[?25hdone\n",
            "  Created wheel for yahoofinancials: filename=yahoofinancials-1.5-cp36-none-any.whl size=15195 sha256=3d834e087da5a5819289f3f73a95426815a727405fb62bc173e436b0d364d068\n",
            "  Stored in directory: /root/.cache/pip/wheels/42/15/e7/240c5cdc8782b9479ba73404640a3be57bb4053a5c3edd6be5\n",
            "Successfully built yahoofinancials\n",
            "Installing collected packages: yahoofinancials\n",
            "Successfully installed yahoofinancials-1.5\n"
          ],
          "name": "stdout"
        }
      ]
    },
    {
      "cell_type": "code",
      "metadata": {
        "id": "lQWN2xpmqPMI",
        "colab_type": "code",
        "colab": {}
      },
      "source": [
        "stock_name = [\"NYSE COMPOSITE (DJ)\",\"NASDAQ Composite\",\"Japan Exchange Group, Inc.\",\"London Stock Exchange Group plc\",\"Shanghai Stock Exchange\",\"Hong Kong Exchanges\",\"S&P BSE SENSEX\",\"NIFTY 50\"]"
      ],
      "execution_count": 0,
      "outputs": []
    },
    {
      "cell_type": "code",
      "metadata": {
        "id": "pSd9WPDHs6fz",
        "colab_type": "code",
        "colab": {}
      },
      "source": [
        "stock_code = [\"^NYA\",\"^IXIC\",\"JPXGY\",\"LSE.L\",\"^SSEC\",\"0388.HK\",\"^BSESN\",\"^NSEI\" ]"
      ],
      "execution_count": 0,
      "outputs": []
    },
    {
      "cell_type": "code",
      "metadata": {
        "id": "6lBHcw3ltVUq",
        "colab_type": "code",
        "colab": {}
      },
      "source": [
        "currency = [\"USD\",\"USD\",\"USD\",\"GBp\",\"CNY\",\"HKD\",\"INR\",\"INR\"]"
      ],
      "execution_count": 0,
      "outputs": []
    },
    {
      "cell_type": "code",
      "metadata": {
        "id": "Co9JJKjNvG_T",
        "colab_type": "code",
        "colab": {}
      },
      "source": [
        "data = pd.DataFrame(columns=[\"stock_name\",\"stock_code\",\"currency\"]) "
      ],
      "execution_count": 0,
      "outputs": []
    },
    {
      "cell_type": "code",
      "metadata": {
        "id": "MDr5P-udvNJp",
        "colab_type": "code",
        "colab": {}
      },
      "source": [
        "data.stock_code = stock_code\n",
        "data.stock_name = stock_name\n",
        "data.currency = currency"
      ],
      "execution_count": 0,
      "outputs": []
    },
    {
      "cell_type": "code",
      "metadata": {
        "id": "apMse0kjvr97",
        "colab_type": "code",
        "colab": {
          "base_uri": "https://localhost:8080/",
          "height": 284
        },
        "outputId": "d8ddbf0e-9227-4273-a793-f7163b1bb11e"
      },
      "source": [
        "data"
      ],
      "execution_count": 67,
      "outputs": [
        {
          "output_type": "execute_result",
          "data": {
            "text/html": [
              "<div>\n",
              "<style scoped>\n",
              "    .dataframe tbody tr th:only-of-type {\n",
              "        vertical-align: middle;\n",
              "    }\n",
              "\n",
              "    .dataframe tbody tr th {\n",
              "        vertical-align: top;\n",
              "    }\n",
              "\n",
              "    .dataframe thead th {\n",
              "        text-align: right;\n",
              "    }\n",
              "</style>\n",
              "<table border=\"1\" class=\"dataframe\">\n",
              "  <thead>\n",
              "    <tr style=\"text-align: right;\">\n",
              "      <th></th>\n",
              "      <th>stock_name</th>\n",
              "      <th>stock_code</th>\n",
              "      <th>currency</th>\n",
              "    </tr>\n",
              "  </thead>\n",
              "  <tbody>\n",
              "    <tr>\n",
              "      <th>0</th>\n",
              "      <td>NYSE COMPOSITE (DJ)</td>\n",
              "      <td>^NYA</td>\n",
              "      <td>USD</td>\n",
              "    </tr>\n",
              "    <tr>\n",
              "      <th>1</th>\n",
              "      <td>NASDAQ Composite</td>\n",
              "      <td>^IXIC</td>\n",
              "      <td>USD</td>\n",
              "    </tr>\n",
              "    <tr>\n",
              "      <th>2</th>\n",
              "      <td>Japan Exchange Group, Inc.</td>\n",
              "      <td>JPXGY</td>\n",
              "      <td>USD</td>\n",
              "    </tr>\n",
              "    <tr>\n",
              "      <th>3</th>\n",
              "      <td>London Stock Exchange Group plc</td>\n",
              "      <td>LSE.L</td>\n",
              "      <td>GBp</td>\n",
              "    </tr>\n",
              "    <tr>\n",
              "      <th>4</th>\n",
              "      <td>Shanghai Stock Exchange</td>\n",
              "      <td>^SSEC</td>\n",
              "      <td>CNY</td>\n",
              "    </tr>\n",
              "    <tr>\n",
              "      <th>5</th>\n",
              "      <td>Hong Kong Exchanges</td>\n",
              "      <td>0388.HK</td>\n",
              "      <td>HKD</td>\n",
              "    </tr>\n",
              "    <tr>\n",
              "      <th>6</th>\n",
              "      <td>S&amp;P BSE SENSEX</td>\n",
              "      <td>^BSESN</td>\n",
              "      <td>INR</td>\n",
              "    </tr>\n",
              "    <tr>\n",
              "      <th>7</th>\n",
              "      <td>NIFTY 50</td>\n",
              "      <td>^NSEI</td>\n",
              "      <td>INR</td>\n",
              "    </tr>\n",
              "  </tbody>\n",
              "</table>\n",
              "</div>"
            ],
            "text/plain": [
              "                        stock_name stock_code currency\n",
              "0              NYSE COMPOSITE (DJ)       ^NYA      USD\n",
              "1                 NASDAQ Composite      ^IXIC      USD\n",
              "2       Japan Exchange Group, Inc.      JPXGY      USD\n",
              "3  London Stock Exchange Group plc      LSE.L      GBp\n",
              "4          Shanghai Stock Exchange      ^SSEC      CNY\n",
              "5              Hong Kong Exchanges    0388.HK      HKD\n",
              "6                   S&P BSE SENSEX     ^BSESN      INR\n",
              "7                         NIFTY 50      ^NSEI      INR"
            ]
          },
          "metadata": {
            "tags": []
          },
          "execution_count": 67
        }
      ]
    },
    {
      "cell_type": "code",
      "metadata": {
        "id": "RvHxtLXKwDzW",
        "colab_type": "code",
        "colab": {
          "base_uri": "https://localhost:8080/",
          "height": 158
        },
        "outputId": "d522779b-230f-4b98-9b52-7bc6d812d8c3"
      },
      "source": [
        "k = 0\n",
        "tableau_data = pd.DataFrame(columns=[\"Date\",\"Close\",\"Name\"])\n",
        "for i in range(data['stock_code'].shape[0]):\n",
        "  temp_data = yf.download(data.loc[i,\"stock_code\"], start='2019-11-01', end='2020-04-10', progress=False)\n",
        "  if data.loc[i,\"currency\"] == \"GBp\":\n",
        "    temp_data[\"Close\"] = 1.25*temp_data[\"Close\"]\n",
        "  elif data.loc[i,\"currency\"] == \"CNY\":\n",
        "    temp_data[\"Close\"] = 0.14*temp_data[\"Close\"]\n",
        "  elif data.loc[i,\"currency\"] == \"HKD\":\n",
        "    temp_data[\"Close\"] = 0.13 *temp_data[\"Close\"]\n",
        "  elif data.loc[i,\"currency\"] == \"INR\":\n",
        "    temp_data[\"Close\"] = 0.013 *temp_data[\"Close\"]\n",
        "    \n",
        "  if temp_data.any != None:\n",
        "    temp_data['Date'] = temp_data.index\n",
        "    temp_data.reset_index(drop=True,inplace= True)\n",
        "    temp_data = temp_data[[\"Date\",\"Close\"]]\n",
        "    temp_data[\"Name\"] = data.loc[i,\"stock_name\"]\n",
        "    \n",
        "    for index, row in temp_data.iterrows():\n",
        "  \n",
        "      tableau_data.loc[index+k,\"Date\"] = row['Date']\n",
        "      tableau_data.loc[index+k,\"Close\"] = row['Close']\n",
        "      tableau_data.loc[index+k,\"Name\"] = row['Name']\n",
        "      k=k+index\n",
        "  else:\n",
        "    print(\"not found\")"
      ],
      "execution_count": 76,
      "outputs": [
        {
          "output_type": "stream",
          "text": [
            "/usr/local/lib/python3.6/dist-packages/ipykernel_launcher.py:18: SettingWithCopyWarning: \n",
            "A value is trying to be set on a copy of a slice from a DataFrame.\n",
            "Try using .loc[row_indexer,col_indexer] = value instead\n",
            "\n",
            "See the caveats in the documentation: https://pandas.pydata.org/pandas-docs/stable/user_guide/indexing.html#returning-a-view-versus-a-copy\n"
          ],
          "name": "stderr"
        },
        {
          "output_type": "stream",
          "text": [
            "\n",
            "1 Failed download:\n",
            "- ^SSEC: No data found for this date range, symbol may be delisted\n"
          ],
          "name": "stdout"
        }
      ]
    },
    {
      "cell_type": "code",
      "metadata": {
        "id": "6XQvJsSYzas4",
        "colab_type": "code",
        "colab": {}
      },
      "source": [
        "tableau_data.to_csv(\"tableau_data.csv\")"
      ],
      "execution_count": 0,
      "outputs": []
    },
    {
      "cell_type": "code",
      "metadata": {
        "id": "s-tpfZUzzxcP",
        "colab_type": "code",
        "colab": {
          "base_uri": "https://localhost:8080/",
          "height": 431
        },
        "outputId": "3ccb238a-db82-4358-c504-c874d94a3fea"
      },
      "source": [
        "temp_data"
      ],
      "execution_count": 34,
      "outputs": [
        {
          "output_type": "execute_result",
          "data": {
            "text/html": [
              "<div>\n",
              "<style scoped>\n",
              "    .dataframe tbody tr th:only-of-type {\n",
              "        vertical-align: middle;\n",
              "    }\n",
              "\n",
              "    .dataframe tbody tr th {\n",
              "        vertical-align: top;\n",
              "    }\n",
              "\n",
              "    .dataframe thead th {\n",
              "        text-align: right;\n",
              "    }\n",
              "</style>\n",
              "<table border=\"1\" class=\"dataframe\">\n",
              "  <thead>\n",
              "    <tr style=\"text-align: right;\">\n",
              "      <th></th>\n",
              "      <th>Date</th>\n",
              "      <th>Close</th>\n",
              "      <th>Name</th>\n",
              "    </tr>\n",
              "    <tr>\n",
              "      <th>Date</th>\n",
              "      <th></th>\n",
              "      <th></th>\n",
              "      <th></th>\n",
              "    </tr>\n",
              "  </thead>\n",
              "  <tbody>\n",
              "    <tr>\n",
              "      <th>2019-11-01</th>\n",
              "      <td>2019-11-01</td>\n",
              "      <td>11890.599609</td>\n",
              "      <td>^NSEI</td>\n",
              "    </tr>\n",
              "    <tr>\n",
              "      <th>2019-11-04</th>\n",
              "      <td>2019-11-04</td>\n",
              "      <td>11941.299805</td>\n",
              "      <td>^NSEI</td>\n",
              "    </tr>\n",
              "    <tr>\n",
              "      <th>2019-11-05</th>\n",
              "      <td>2019-11-05</td>\n",
              "      <td>11917.200195</td>\n",
              "      <td>^NSEI</td>\n",
              "    </tr>\n",
              "    <tr>\n",
              "      <th>2019-11-06</th>\n",
              "      <td>2019-11-06</td>\n",
              "      <td>11966.049805</td>\n",
              "      <td>^NSEI</td>\n",
              "    </tr>\n",
              "    <tr>\n",
              "      <th>2019-11-07</th>\n",
              "      <td>2019-11-07</td>\n",
              "      <td>12012.049805</td>\n",
              "      <td>^NSEI</td>\n",
              "    </tr>\n",
              "    <tr>\n",
              "      <th>...</th>\n",
              "      <td>...</td>\n",
              "      <td>...</td>\n",
              "      <td>...</td>\n",
              "    </tr>\n",
              "    <tr>\n",
              "      <th>2020-04-01</th>\n",
              "      <td>2020-04-01</td>\n",
              "      <td>8253.799805</td>\n",
              "      <td>^NSEI</td>\n",
              "    </tr>\n",
              "    <tr>\n",
              "      <th>2020-04-03</th>\n",
              "      <td>2020-04-03</td>\n",
              "      <td>8083.799805</td>\n",
              "      <td>^NSEI</td>\n",
              "    </tr>\n",
              "    <tr>\n",
              "      <th>2020-04-07</th>\n",
              "      <td>2020-04-07</td>\n",
              "      <td>8792.200195</td>\n",
              "      <td>^NSEI</td>\n",
              "    </tr>\n",
              "    <tr>\n",
              "      <th>2020-04-08</th>\n",
              "      <td>2020-04-08</td>\n",
              "      <td>8748.750000</td>\n",
              "      <td>^NSEI</td>\n",
              "    </tr>\n",
              "    <tr>\n",
              "      <th>2020-04-09</th>\n",
              "      <td>2020-04-09</td>\n",
              "      <td>9111.900391</td>\n",
              "      <td>^NSEI</td>\n",
              "    </tr>\n",
              "  </tbody>\n",
              "</table>\n",
              "<p>109 rows × 3 columns</p>\n",
              "</div>"
            ],
            "text/plain": [
              "                 Date         Close   Name\n",
              "Date                                      \n",
              "2019-11-01 2019-11-01  11890.599609  ^NSEI\n",
              "2019-11-04 2019-11-04  11941.299805  ^NSEI\n",
              "2019-11-05 2019-11-05  11917.200195  ^NSEI\n",
              "2019-11-06 2019-11-06  11966.049805  ^NSEI\n",
              "2019-11-07 2019-11-07  12012.049805  ^NSEI\n",
              "...               ...           ...    ...\n",
              "2020-04-01 2020-04-01   8253.799805  ^NSEI\n",
              "2020-04-03 2020-04-03   8083.799805  ^NSEI\n",
              "2020-04-07 2020-04-07   8792.200195  ^NSEI\n",
              "2020-04-08 2020-04-08   8748.750000  ^NSEI\n",
              "2020-04-09 2020-04-09   9111.900391  ^NSEI\n",
              "\n",
              "[109 rows x 3 columns]"
            ]
          },
          "metadata": {
            "tags": []
          },
          "execution_count": 34
        }
      ]
    },
    {
      "cell_type": "code",
      "metadata": {
        "id": "O6MsJDOshrhX",
        "colab_type": "code",
        "colab": {}
      },
      "source": [
        ""
      ],
      "execution_count": 0,
      "outputs": []
    },
    {
      "cell_type": "code",
      "metadata": {
        "id": "jFMzecSLhryR",
        "colab_type": "code",
        "colab": {}
      },
      "source": [
        "# scraping data from world-o-meter for coronavirus cases"
      ],
      "execution_count": 0,
      "outputs": []
    },
    {
      "cell_type": "code",
      "metadata": {
        "id": "zrPszYCX1KYo",
        "colab_type": "code",
        "colab": {}
      },
      "source": [
        "res = requests.get(\"https://www.worldometers.info/coronavirus/\")\n",
        "soup = BeautifulSoup(res.content,'lxml')\n",
        "table = soup.find_all('table')[1] \n",
        "df = pd.read_html(str(table))[0]\n"
      ],
      "execution_count": 0,
      "outputs": []
    },
    {
      "cell_type": "code",
      "metadata": {
        "id": "gQgo86GHhubK",
        "colab_type": "code",
        "colab": {}
      },
      "source": [
        "df.to_csv(\"current_cases.csv\")"
      ],
      "execution_count": 0,
      "outputs": []
    },
    {
      "cell_type": "code",
      "metadata": {
        "id": "MOKMjdSKh3Jy",
        "colab_type": "code",
        "colab": {}
      },
      "source": [
        ""
      ],
      "execution_count": 0,
      "outputs": []
    }
  ]
}